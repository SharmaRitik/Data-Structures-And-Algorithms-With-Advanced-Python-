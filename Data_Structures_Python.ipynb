{
  "nbformat": 4,
  "nbformat_minor": 0,
  "metadata": {
    "colab": {
      "name": "My_RS_23.ipynb",
      "provenance": [],
      "collapsed_sections": []
    },
    "kernelspec": {
      "display_name": "Python 3",
      "name": "python3"
    }
  },
  "cells": [
    {
      "cell_type": "code",
      "metadata": {
        "id": "NaNvHaDtlLQQ"
      },
      "source": [
        "arr = [5,2,7,7,5,5,2]\n",
        "\n",
        "arr_used = [i-1 for i in arr]\n",
        "\n",
        "for i in range(len(arr_used)):\n",
        "  if arr_used[i] > len(arr):\n",
        "    j = arr_used[i]%len(arr)\n",
        "    arr_used[j] = arr_used[j]+len(arr)\n",
        "  else:\n",
        "    j = arr_used[i]\n",
        "    arr_used[j] = arr_used[j]+len(arr)\n",
        "\n"
      ],
      "execution_count": null,
      "outputs": []
    },
    {
      "cell_type": "code",
      "metadata": {
        "id": "GrqicPMXooor"
      },
      "source": [
        "final_arr = [(i//len(arr)) for i in arr_used]\n",
        "final_arr\n",
        "\n",
        "for i in range(len(arr)):\n",
        "  print(\"freq of {} is {}\".format(i+1,final_arr[i]))"
      ],
      "execution_count": null,
      "outputs": []
    },
    {
      "cell_type": "code",
      "metadata": {
        "id": "Y1NPDwtKmuDu"
      },
      "source": [
        "arr = [5,2,7,7,5,5,2]\n",
        "\n",
        "a = [i-1 for i in arr]"
      ],
      "execution_count": null,
      "outputs": []
    },
    {
      "cell_type": "code",
      "metadata": {
        "id": "X3pBdlvlmwiq"
      },
      "source": [
        "a"
      ],
      "execution_count": null,
      "outputs": []
    },
    {
      "cell_type": "code",
      "metadata": {
        "id": "ruaFU-YgnFKI"
      },
      "source": [
        "arr = [2,2,1,1,1,2,2]\n",
        "\n",
        "count = 1\n",
        "max = arr[0]\n",
        "for i in range(1,len(arr)):\n",
        "  \n",
        "  if (arr[i]!=arr[i-1]) and (count == 0):\n",
        "    max = arr[i]\n",
        "    count = 1\n",
        "  elif arr[i] ! = arr[i-1]:\n",
        "    count = count-1"
      ],
      "execution_count": null,
      "outputs": []
    },
    {
      "cell_type": "code",
      "metadata": {
        "id": "JsA_uNj_2ZG_"
      },
      "source": [
        "arr = [2,2,1,1,1,2,2]\n",
        "\n",
        "count = 0\n",
        "max = 0\n",
        "for i in range(1,len(arr)):\n",
        "  print(i)"
      ],
      "execution_count": null,
      "outputs": []
    },
    {
      "cell_type": "code",
      "metadata": {
        "id": "HfmutyZK2bV7"
      },
      "source": [
        "arr = [2,2,1,1,1,2,2]\n",
        "\n",
        "count = 1\n",
        "max = arr[0]\n",
        "for i in range(1,len(arr)):\n",
        "  if count ==0:\n",
        "    max = arr[i]\n",
        "    count = 1\n",
        "  \n",
        "  elif (arr[i]!= max):\n",
        "    \n",
        "    count = count-1\n",
        "  elif arr[i] == max:\n",
        "    count = count+1\n",
        "  "
      ],
      "execution_count": null,
      "outputs": []
    },
    {
      "cell_type": "code",
      "metadata": {
        "id": "yX_vmuko3F0w"
      },
      "source": [
        "max"
      ],
      "execution_count": null,
      "outputs": []
    },
    {
      "cell_type": "code",
      "metadata": {
        "id": "QTMtakq-3Jhl"
      },
      "source": [
        "for i in range(1,len(arr)):\n",
        "  print(i)"
      ],
      "execution_count": null,
      "outputs": []
    },
    {
      "cell_type": "code",
      "metadata": {
        "id": "DsdBKS4U4iDs"
      },
      "source": [
        "arr = [98, 178, 250, 300, 40, 540, 690]\n",
        "len(arr)-1"
      ],
      "execution_count": null,
      "outputs": []
    },
    {
      "cell_type": "code",
      "metadata": {
        "id": "Pf8_3PSz1k2u"
      },
      "source": [
        "profit = 0\n",
        "for i in range(len(arr)-1):\n",
        "  if arr[i] < arr[i+1]:  ## Indicating the local minima\n",
        "    buy = arr[i]\n",
        "    #print(buy)\n",
        "    j = i+1\n",
        "    while(j<len(arr)-1):\n",
        "      if arr[j] > arr[j+1]:\n",
        "        sell = arr[j]\n",
        "        #print(j)\n",
        "        #print(sell)\n",
        "        break\n",
        "      else:\n",
        "        j = j+1\n",
        "\n",
        "  print(i,j)\n",
        "\n",
        "  if i>j\n",
        "\n",
        "  #profit = profit + arr[j] - arr[i]\n",
        "\n",
        "    "
      ],
      "execution_count": null,
      "outputs": []
    },
    {
      "cell_type": "code",
      "metadata": {
        "id": "EoujffHC2lEs"
      },
      "source": [
        "arr[6]"
      ],
      "execution_count": null,
      "outputs": []
    },
    {
      "cell_type": "code",
      "metadata": {
        "id": "KUI2khYP4AwX"
      },
      "source": [
        "ord('h')"
      ],
      "execution_count": null,
      "outputs": []
    },
    {
      "cell_type": "code",
      "metadata": {
        "id": "fjU0zV4aDUTO"
      },
      "source": [
        "st = 'bcabc'\n",
        "\n",
        "a = []\n",
        "for s in st:\n",
        "  a.append(s)\n"
      ],
      "execution_count": null,
      "outputs": []
    },
    {
      "cell_type": "code",
      "metadata": {
        "id": "jRUfrncgDdV1"
      },
      "source": [
        "a"
      ],
      "execution_count": null,
      "outputs": []
    },
    {
      "cell_type": "code",
      "metadata": {
        "id": "L8WJeT4qDl0R"
      },
      "source": [
        "ascii = [0]*256\n",
        "for i in range(len(a)):\n",
        "  if ascii[ord(a[i])] == 0:\n",
        "    ascii[ord(a[i])] = -1\n",
        "  elif ascii[ord(a[i])] == -1:\n",
        "    a[i] = '\\0'\n"
      ],
      "execution_count": null,
      "outputs": []
    },
    {
      "cell_type": "code",
      "metadata": {
        "id": "ZxSvMueQHGKZ"
      },
      "source": [
        "a"
      ],
      "execution_count": null,
      "outputs": []
    },
    {
      "cell_type": "code",
      "metadata": {
        "id": "QDkSIN6lHdM-"
      },
      "source": [
        "ans = (''.join(a)).replace('\\0','')"
      ],
      "execution_count": null,
      "outputs": []
    },
    {
      "cell_type": "code",
      "metadata": {
        "id": "jx_eIJpAHfdH"
      },
      "source": [
        "ans"
      ],
      "execution_count": null,
      "outputs": []
    },
    {
      "cell_type": "code",
      "metadata": {
        "id": "2XyVWUSjHi4s"
      },
      "source": [
        "matrix = [[1, 2, 3, 4], \n",
        "     [5, 6, 7, 8],  \n",
        "     [9, 10, 11, 12],  \n",
        "     [13, 14, 15, 16]]"
      ],
      "execution_count": null,
      "outputs": []
    },
    {
      "cell_type": "code",
      "metadata": {
        "id": "zuLIjAFpsEt4"
      },
      "source": [
        "N = (len(matrix[0])) ## Matrix is square\n",
        "for i in range(N//2):\n",
        "  for j in range(i,N-i-1):\n",
        "    temp = matrix[j][N-i-1]\n",
        "    matrix[j][N-i-1] = matrix[i][j]\n",
        "    matrix[i][j] = matrix[N-i-1][j]\n",
        "    matrix[N-i-1][j] = matrix[N-i-1][N-i-1]\n",
        "    matrix[N-i-1][N-i-1] = temp\n",
        "\n"
      ],
      "execution_count": null,
      "outputs": []
    },
    {
      "cell_type": "code",
      "metadata": {
        "id": "EpukaI06sG6x"
      },
      "source": [
        "N = len(matrix[0]) \n",
        "for i in range(N // 2): \n",
        "  for j in range(i, N - i - 1):\n",
        "    temp = matrix[j][N - 1 - i]; \n",
        "           # swap top right from [x][y] starting cordinate \n",
        "    matrix[j][N - 1 - i] = matrix[i][j]; \n",
        "           #Move values from bottom left to [x][y]\n",
        "    matrix[i][j] = matrix[N - 1 - j][i];\n",
        "           #Move values from bottom right to bottom left\n",
        "    matrix[N - 1 - j][i] = matrix[N - 1 - i][N - 1 - j]; \n",
        "           #store the temp value in bottom right\n",
        "    matrix[N - 1 - i][N - 1 - j] = temp;  "
      ],
      "execution_count": null,
      "outputs": []
    },
    {
      "cell_type": "code",
      "metadata": {
        "id": "aecFyYv6sy7A"
      },
      "source": [
        "matrix"
      ],
      "execution_count": null,
      "outputs": []
    },
    {
      "cell_type": "code",
      "metadata": {
        "id": "lKITol7svQZn"
      },
      "source": [
        "matrix = [[10, 20, 30, 40], \n",
        "\t\t[15, 25, 36, 46], \n",
        "\t\t[27, 29, 37, 48],\n",
        "\t\t[32, 33, 39, 50]]"
      ],
      "execution_count": null,
      "outputs": []
    },
    {
      "cell_type": "code",
      "metadata": {
        "id": "kl4YEs8S_SBc"
      },
      "source": [
        "N = len(matrix[0])\n",
        "target = 32\n",
        "i = 0\n",
        "j = N-1\n",
        "flag = 0\n",
        "\n",
        "while(i<N and j>=0):\n",
        "  if (matrix[i][j] == target):\n",
        "    print(True)\n",
        "    flag = 1\n",
        "    \n",
        "  \n",
        "  if matrix[i][j] > target:\n",
        "    j = j-1\n",
        "  \n",
        "  else:\n",
        "    i = i+1\n",
        "\n",
        "if flag == 0:\n",
        "  print(\"value not found\")"
      ],
      "execution_count": null,
      "outputs": []
    },
    {
      "cell_type": "code",
      "metadata": {
        "id": "2zwNgqNi_ZWC"
      },
      "source": [
        "MATRIX = [ [ 0, 0, 1, 0 ], \n",
        "           [ 0, 0, 1, 0 ], \n",
        "           [ 0, 0, 0, 0 ], \n",
        "           [ 0, 0, 1, 0 ] ] "
      ],
      "execution_count": null,
      "outputs": []
    },
    {
      "cell_type": "code",
      "metadata": {
        "id": "SZoxtpq50ffk"
      },
      "source": [
        "x = 0\n",
        "y = len(MATRIX)-1\n",
        "flag = 1\n",
        "\n",
        "while(x<y):\n",
        "\n",
        "  if MATRIX[x][y] == 0:\n",
        "    y = y-1\n",
        "\n",
        "  else:\n",
        "    x = x +1\n",
        "\n",
        "for i in range(len(MATRIX)):\n",
        "  if MATRIX[y][i] == 0:\n",
        "    flag = 0\n",
        "  else:\n",
        "    flag = 1\n",
        "    \n",
        "if flag  == 0:\n",
        "  print(\"celebrity found at position {}\".format(y))\n"
      ],
      "execution_count": null,
      "outputs": []
    },
    {
      "cell_type": "code",
      "metadata": {
        "id": "vdyU_Vdx008v"
      },
      "source": [
        "arr = [6,3,-2,5,-3,7,-6,-1,4]"
      ],
      "execution_count": null,
      "outputs": []
    },
    {
      "cell_type": "code",
      "metadata": {
        "id": "i9MzLwtI2UKs"
      },
      "source": [
        "dic = {}\n",
        "ls = []\n",
        "sum = 0\n",
        "\n",
        "for i in range(len(arr)):\n",
        "\n",
        "  sum = sum + arr[i]\n",
        "\n",
        "  if sum == 0:\n",
        "    dic[0] = i                                  ## sum is equal to the key and index value is value \n",
        "\n",
        "  if sum not in dic.keys():\n",
        "    dic[sum] = i \n",
        "  \n",
        "  if sum in dic.keys():\n",
        "    indexes = dic[sum]\n"
      ],
      "execution_count": null,
      "outputs": []
    },
    {
      "cell_type": "code",
      "metadata": {
        "id": "xlv01Bwu2WDy"
      },
      "source": [
        "s = {}\n",
        "s['key1'] = 1\n",
        "s['key2'] = 2\n",
        "s['key3'] = 3\n",
        "\n",
        "if 'key4' not in s.keys():\n",
        "  print(True)\n",
        "else:\n",
        "  print(False)"
      ],
      "execution_count": null,
      "outputs": []
    },
    {
      "cell_type": "code",
      "metadata": {
        "id": "Ns4l-uBV3Nof"
      },
      "source": [
        "s = {}\n",
        "\n",
        "arr = [6,3,-2,5,-3,7,-6,-1,4]\n",
        "\n",
        "sum = 0\n",
        "\n",
        "\n",
        "for i in range(len(arr)):\n",
        "\n",
        "  sum = sum+arr[i]\n",
        "\n",
        "  if sum in s.keys():\n",
        "    value = s[sum]\n",
        "    s[sum] = value + [i]\n",
        "    for j in range(len(s[sum])):\n",
        "      start = s[sum][j]+1\n",
        "      res = arr[start:i+1]\n",
        "      if res != []:\n",
        "        print(res)\n",
        "    \n",
        "  \n",
        "  elif sum not in s.keys():\n",
        "    s[sum] = [i]\n",
        "    \n",
        "\n",
        "\n",
        "    \n",
        "\n",
        "\n"
      ],
      "execution_count": null,
      "outputs": []
    },
    {
      "cell_type": "code",
      "metadata": {
        "id": "icx477GOLNNu"
      },
      "source": [
        "s"
      ],
      "execution_count": null,
      "outputs": []
    },
    {
      "cell_type": "code",
      "metadata": {
        "id": "vV3vG6c5Oy2n"
      },
      "source": [
        "start"
      ],
      "execution_count": null,
      "outputs": []
    },
    {
      "cell_type": "code",
      "metadata": {
        "id": "_N9waSM4PfIf"
      },
      "source": [
        "for j in range(len(s[sum])):\n",
        "      ls = s[sum]\n",
        "      start = ls[j] + 1\n",
        "      print(arr[start:i+1]"
      ],
      "execution_count": null,
      "outputs": []
    },
    {
      "cell_type": "code",
      "metadata": {
        "id": "ZyYTCFLmRxWa"
      },
      "source": [
        "\n",
        "def findSubArrays(arr,n): \n",
        "    #Write your code here\n",
        "    sum = 0\n",
        "    s = {}\n",
        "    flag = 0\n",
        "    for i in range(len(arr)):\n",
        "        sum = sum+arr[i]\n",
        "        \n",
        "        if sum == 0:\n",
        "            return True\n",
        "        \n",
        "        if sum in s.keys():\n",
        "            value = s[sum]\n",
        "            s[sum] = value + [i]\n",
        "            flag = 1\n",
        "        \n",
        "        elif sum not in s.keys():\n",
        "            s[sum] = [i]\n",
        "            \n",
        "    if flag == 1:\n",
        "        return True\n",
        " #ok for all test cases required \n",
        "\n",
        "import unittest\n",
        "class Test(unittest.TestCase):\n",
        "\n",
        "   def test_findSubArrays_test1(self):\n",
        "        actual = findSubArrays([4, 2, -3, 1, 6],5)\n",
        "        expected = True\n",
        "        self.assertEqual(actual, expected) \n",
        "\n",
        "   def test_findSubArrays_test2(self):\n",
        "        actual = findSubArrays([4,2,0,1,6],5)\n",
        "        expected = True\n",
        "        self.assertEqual(actual, expected)\n",
        "\n",
        "   def test_findSubArrays_test3(self):\n",
        "        actual = findSubArrays([-3,2,3,1,6],5)\n",
        "        expected = False\n",
        "        self.assertEqual(actual, expected)\n",
        "\n",
        "   def test_findSubArrays_test4(self):\n",
        "        actual = findSubArrays([1,2],2)\n",
        "        expected = False\n",
        "        self.assertEqual(actual, expected)\n",
        "\n",
        "                \n",
        "unittest.main(verbosity=2)"
      ],
      "execution_count": null,
      "outputs": []
    },
    {
      "cell_type": "code",
      "metadata": {
        "id": "QX6KEYpMZrZs"
      },
      "source": [
        "def findSubArrays(arr,n): \n",
        "    #Write your code here\n",
        "    sum = 0\n",
        "    s = {}\n",
        "    flag = 0\n",
        "    for i in range(len(arr)):\n",
        "        sum = sum+arr[i]\n",
        "        \n",
        "        if sum == 0:\n",
        "            flag == 1\n",
        "        \n",
        "        if sum in s.keys():\n",
        "            value = s[sum]\n",
        "            s[sum] = value + [i]\n",
        "            flag = 1\n",
        "        \n",
        "        elif sum not in s.keys():\n",
        "            s[sum] = [i]\n",
        "            \n",
        "    if flag == 1:\n",
        "        return True\n",
        "    else:\n",
        "      return False"
      ],
      "execution_count": null,
      "outputs": []
    },
    {
      "cell_type": "code",
      "metadata": {
        "id": "ohgfMevuZvdX"
      },
      "source": [
        "actual = findSubArrays([1,2],2)"
      ],
      "execution_count": null,
      "outputs": []
    },
    {
      "cell_type": "code",
      "metadata": {
        "id": "dOcyjm2pZxrT"
      },
      "source": [
        "actual"
      ],
      "execution_count": null,
      "outputs": []
    },
    {
      "cell_type": "code",
      "metadata": {
        "id": "y3rWItJhZyVs"
      },
      "source": [
        "ans = str(1600)+','+str(1800)"
      ],
      "execution_count": null,
      "outputs": []
    },
    {
      "cell_type": "code",
      "metadata": {
        "id": "oAvu7gKd5O99"
      },
      "source": [
        "ans"
      ],
      "execution_count": null,
      "outputs": []
    },
    {
      "cell_type": "code",
      "metadata": {
        "id": "SHL7Fne75Sos"
      },
      "source": [
        "arr = [8, 3, 1, 7, 7, 9, 7, 9, 3, 2, 3]\n",
        "len(arr)"
      ],
      "execution_count": null,
      "outputs": []
    },
    {
      "cell_type": "code",
      "metadata": {
        "id": "GB_69wJSH1fs"
      },
      "source": [
        "arr = [2,8,7,4,9]\n",
        "n = len(arr)\n",
        "n//2\n"
      ],
      "execution_count": null,
      "outputs": []
    },
    {
      "cell_type": "code",
      "metadata": {
        "id": "9fdwBM1ZHjbL"
      },
      "source": [
        "## Case 1 for even length digit\n",
        "arr = [2,3,7,4,9]\n",
        "n = len(arr)\n",
        "if len(arr)%2 == 0:\n",
        "  middle_ele = int(len(arr)/2-1)\n",
        "  nxt_ele = int(middle_ele+1)\n",
        "  if arr[middle_ele] > arr[nxt_ele]:\n",
        "    arr[nxt_ele] = arr[middle_ele]\n",
        "    for i in range(n//2):\n",
        "      print(i)\n",
        "      arr[n-1-i] = arr[i]\n",
        "  else:\n",
        "    arr[middle_ele] = arr[middle_ele] + 1\n",
        "    for i in range(n//2):\n",
        "      arr[n-1-i] = arr[i]\n",
        "\n",
        "else:\n",
        "  middle_ele = n//2\n",
        "  if arr[middle_ele-1] > arr[middle_ele+1]:\n",
        "    arr[middle_ele+1] = arr[middle_ele-1]\n",
        "    for i in range(n//2):\n",
        "      arr[n-i-1] = arr[i]\n",
        "  else:\n",
        "    arr[middle_ele] = arr[middle_ele] + 1\n",
        "    for i in range(n//2):\n",
        "      arr[n-i-1] = arr[i]\n",
        "\n",
        "\n"
      ],
      "execution_count": null,
      "outputs": []
    },
    {
      "cell_type": "code",
      "metadata": {
        "id": "BTX52FXyJT6I"
      },
      "source": [
        "arr"
      ],
      "execution_count": null,
      "outputs": []
    },
    {
      "cell_type": "code",
      "metadata": {
        "id": "chdRbpKAJX6e"
      },
      "source": [
        "n"
      ],
      "execution_count": null,
      "outputs": []
    },
    {
      "cell_type": "code",
      "metadata": {
        "id": "C9jIGE54KWvY"
      },
      "source": [
        "## Kadane algorithm\n",
        "arr = [-5, 6, -7, 1, 4, -8, 16]\n",
        "n = len(arr)\n",
        "\n",
        "csum = arr[0]\n",
        "osum = arr[0]\n",
        "\n",
        "for i in range(n):\n",
        "\n",
        "  if csum > 0:\n",
        "    csum = csum + arr[i]\n",
        "  \n",
        "  else:\n",
        "    csum = arr[i]\n",
        "\n",
        "  if csum > osum:\n",
        "    osum = csum\n",
        "\n",
        "print(osum)\n"
      ],
      "execution_count": null,
      "outputs": []
    },
    {
      "cell_type": "code",
      "metadata": {
        "id": "0EyD9XkFi3dY"
      },
      "source": [
        "arr = [54, 26, 93, 17, 77, 31, 44,20,55]\n",
        "\n",
        "pivot = arr[-1]\n",
        "\n",
        "curri = len(arr)-1\n",
        "\n",
        "i = 0\n",
        "while(i<=curri):\n",
        "\n",
        "  if arr[i] < pivot:\n",
        "    i = i+1\n",
        "  \n",
        "  else:\n",
        "    j = i\n",
        "  \n",
        "\n",
        "\n",
        "\n"
      ],
      "execution_count": null,
      "outputs": []
    },
    {
      "cell_type": "code",
      "metadata": {
        "id": "7Zoh9f4xm-tM"
      },
      "source": [
        "\n",
        "def findkthelement(arr,low,high,k):\n",
        "  if k > 0 and k < (high-low+1):\n",
        "    index = dividearray(arr,low,high)\n",
        "\n",
        "    if index-low == k-1:\n",
        "      return arr[index]\n",
        "\n",
        "    if index-low>k-1:\n",
        "      return findkthelement(arr,low,index-1,k)\n",
        "    \n",
        "    else:\n",
        "      return findkthelement(arr,index+1,high,k-index+low-1)\n",
        "\n",
        "def dividearray(arr,low,high):\n",
        "  pivot = arr[high]\n",
        "  i = low\n",
        "\n",
        "  for j in range(low,high,1):\n",
        "    if arr[j]<=pivot:\n",
        "      temp = arr[i]\n",
        "      arr[i] = arr[j]\n",
        "      arr[j] = temp\n",
        "      i = i+1\n",
        "  \n",
        "  temp = arr[i]\n",
        "  arr[i] = arr[high]\n",
        "  arr[high] = temp\n",
        "\n",
        "  return i\n",
        "\n",
        "arr = [54, 26, 93, 17, 77, 31, 44,20,55]\n",
        "low = 0\n",
        "high = len(arr) - 1\n",
        "k = 3\n",
        "\n",
        "print(findkthelement(arr,low,high,k))"
      ],
      "execution_count": null,
      "outputs": []
    },
    {
      "cell_type": "code",
      "metadata": {
        "id": "ngw2DSMX_tvL"
      },
      "source": [
        ""
      ],
      "execution_count": null,
      "outputs": []
    },
    {
      "cell_type": "code",
      "metadata": {
        "id": "ZZuUI-k1_4et"
      },
      "source": [
        ""
      ],
      "execution_count": null,
      "outputs": []
    },
    {
      "cell_type": "code",
      "metadata": {
        "id": "pCLj9ycu_6Ek"
      },
      "source": [
        "arr = [1,2,1,3,4,3]"
      ],
      "execution_count": null,
      "outputs": []
    },
    {
      "cell_type": "code",
      "metadata": {
        "id": "ZL9u4hr5HYgO"
      },
      "source": [
        "ls = [i for i in range(0,len(arr)) if i+3<=len(arr)]"
      ],
      "execution_count": null,
      "outputs": []
    },
    {
      "cell_type": "code",
      "metadata": {
        "id": "rum__fTzHZ7u"
      },
      "source": [
        "for j in ls:\n",
        "  unique_list = []\n",
        "  count = 0\n",
        "  element = arr[j:j+3]\n",
        "  for ele in element:\n",
        "    if ele not in unique_list:\n",
        "      unique_list.append(ele)\n",
        "      count = count+1\n",
        "\n",
        "  print(count)\n",
        "  \n",
        "\n"
      ],
      "execution_count": null,
      "outputs": []
    },
    {
      "cell_type": "code",
      "metadata": {
        "id": "HQvwBwrtIXCr"
      },
      "source": [
        "def fun(arr,k):\n",
        "  ls = [i for i in range(0,len(arr)) if i+k<=len(arr)]\n",
        "  count_ls = []\n",
        "  for j in ls:\n",
        "    unique_list = []\n",
        "    count = 0\n",
        "    element = arr[j:j+k]\n",
        "    for ele in element:\n",
        "      if ele not in unique_list:\n",
        "        unique_list.append(ele)\n",
        "        count = count+1\n",
        "    count_ls.append(str(count))\n",
        "  \n",
        "\n"
      ],
      "execution_count": null,
      "outputs": []
    },
    {
      "cell_type": "code",
      "metadata": {
        "id": "KFo6YOSzJmK1"
      },
      "source": [
        "(1,2) == (1,2)"
      ],
      "execution_count": null,
      "outputs": []
    },
    {
      "cell_type": "code",
      "metadata": {
        "id": "Hgbu21CWKUPZ"
      },
      "source": [
        "array = [4,5,4,5,3,2,9,3,9,8]\n",
        "\n",
        "result = array[0]\n",
        "\n",
        "for i in range(1,len(array)):\n",
        "  result = result ^ array[i]\n",
        "result"
      ],
      "execution_count": null,
      "outputs": []
    },
    {
      "cell_type": "code",
      "metadata": {
        "id": "srv6N3TE1Mj4"
      },
      "source": [
        "7 ^ 9"
      ],
      "execution_count": null,
      "outputs": []
    },
    {
      "cell_type": "code",
      "metadata": {
        "id": "yePE6ajC1N1W"
      },
      "source": [
        "array = [2,4,7,9,2,4]\n",
        "\n",
        "ls = [0]*2\n",
        "ls[0] = array[0]\n",
        "ls[1] = array[-1]\n",
        "\n",
        "for i in range(1,len(array)-1):\n",
        "  if array[i] in ls:\n",
        "    ls.remove(array[i])\n",
        "  else:\n",
        "    ls.append(array[i])\n"
      ],
      "execution_count": null,
      "outputs": []
    },
    {
      "cell_type": "code",
      "metadata": {
        "id": "npMIeIm_3g-p"
      },
      "source": [
        "ls"
      ],
      "execution_count": null,
      "outputs": []
    },
    {
      "cell_type": "code",
      "metadata": {
        "id": "CbaO1n-437hF"
      },
      "source": [
        "for i in range(1,len(array)):\n",
        "  print(i)"
      ],
      "execution_count": null,
      "outputs": []
    },
    {
      "cell_type": "code",
      "metadata": {
        "id": "nSbOvjWc5AHV"
      },
      "source": [
        "array[10]"
      ],
      "execution_count": null,
      "outputs": []
    },
    {
      "cell_type": "code",
      "metadata": {
        "id": "YqI1aNW45Lia"
      },
      "source": [
        "number = 12\n",
        "\n",
        "ls = [i for i in range(number+1)]\n",
        "\n",
        "num = ls[-1]\n",
        "\n",
        "def func(ls,start,end):\n",
        "\n",
        "  mid = int((start+end)/2)\n",
        "\n",
        "  if ls[mid]*ls[mid] > number:\n",
        "    return func(ls,start,mid-1)\n",
        "  if ls[mid]*ls[mid] < number:\n",
        "    return func(ls,mid+1,end)\n",
        "    ans = mid\n",
        "  if ls[mid]*ls[mid] == number:\n",
        "    return ls[mid]\n",
        "  return ans"
      ],
      "execution_count": null,
      "outputs": []
    },
    {
      "cell_type": "code",
      "metadata": {
        "id": "YmYTpF8Qzm64"
      },
      "source": [
        "func(ls,0,len(ls))"
      ],
      "execution_count": null,
      "outputs": []
    },
    {
      "cell_type": "code",
      "metadata": {
        "id": "cGPRmGWaznXk"
      },
      "source": [
        "2mid = int(0+len(ls)/2)"
      ],
      "execution_count": null,
      "outputs": []
    },
    {
      "cell_type": "code",
      "metadata": {
        "id": "ZrS3Vg_X0zYG"
      },
      "source": [
        "ls[mid]*ls[mid]"
      ],
      "execution_count": null,
      "outputs": []
    },
    {
      "cell_type": "code",
      "metadata": {
        "id": "96mSZsVFb6xv"
      },
      "source": [
        "ls = [0,0,1,1]\n",
        "\n",
        "start=0\n",
        "end = len(ls)-1\n",
        "count = 0\n",
        "\n",
        "while(start<=end):\n",
        "\n",
        "  mid = start+end//2\n",
        "\n",
        "  if ls[mid] == 1:\n",
        "\n",
        "    if ls[mid-1] == 0:\n",
        "      count = end-mid+1\n",
        "\n",
        "    else:\n",
        "      end = mid\n",
        "  \n",
        "\n",
        "  else:\n",
        "    start = mid+1\n"
      ],
      "execution_count": null,
      "outputs": []
    },
    {
      "cell_type": "code",
      "metadata": {
        "id": "ORoLrG00jKdT"
      },
      "source": [
        "def func(ls,start,end):\n",
        "  mid = start+end//2\n",
        "  if(ls[mid]==1 and ls[mid-1]==0):\n",
        "    count = end-mid+1\n",
        "  else: \n",
        "    return func(ls,mid,end)"
      ],
      "execution_count": null,
      "outputs": []
    },
    {
      "cell_type": "code",
      "metadata": {
        "id": "w8HFCz9jjV5-"
      },
      "source": [
        "ls = [0,0,1,1]\n",
        "start=0\n",
        "end=len(ls)-1\n",
        "\n",
        "count = 0\n",
        "func(ls,start,end)"
      ],
      "execution_count": null,
      "outputs": []
    },
    {
      "cell_type": "code",
      "metadata": {
        "id": "Rc8ePCdQjeqD"
      },
      "source": [
        "count"
      ],
      "execution_count": null,
      "outputs": []
    },
    {
      "cell_type": "code",
      "metadata": {
        "id": "LR983IwclmCY"
      },
      "source": [
        "def func(ls,start,end):\n",
        "\n",
        "  if end>=start:\n",
        "    mid = (start+(start+end))//2\n",
        "\n",
        "    if( mid==0 or ls[mid-1]==0) and ls[mid]==1:\n",
        "      return mid\n",
        "    elif ls[mid] == 0:\n",
        "      return func(ls,mid+1,end)\n",
        "    else:\n",
        "      return func(ls,start,mid-1)\n",
        "  return -1\n"
      ],
      "execution_count": null,
      "outputs": []
    },
    {
      "cell_type": "code",
      "metadata": {
        "id": "XpozsA2pFppg"
      },
      "source": [
        "matrix = [[0, 1, 1, 1], \n",
        "       [0, 0, 1, 1], \n",
        "       [1, 1, 1, 1], \n",
        "       [0, 0, 0, 0]]\n",
        "index = func(matrix[2],0,len(matrix)-1)"
      ],
      "execution_count": null,
      "outputs": []
    },
    {
      "cell_type": "code",
      "metadata": {
        "id": "dXrvu8MAIZwF"
      },
      "source": [
        "index"
      ],
      "execution_count": null,
      "outputs": []
    },
    {
      "cell_type": "code",
      "metadata": {
        "id": "Adck_XeWFt_4"
      },
      "source": [
        "max_index = 0\n",
        "max = -1\n",
        "\n",
        "for i in range(len(matrix)):\n",
        "\n",
        "  print(i)\n",
        "  index = func(matrix[i],0,len(matrix)-1)\n",
        "  print(index)\n",
        "\n",
        "  '''if index!=-1 and len(matrix)-index>max:\n",
        "    max = len(matrix)-index\n",
        "    max_index = i'''"
      ],
      "execution_count": null,
      "outputs": []
    },
    {
      "cell_type": "code",
      "metadata": {
        "id": "2iY8TT4jFu9i"
      },
      "source": [
        "for i in range(len(matrix)):\n",
        "  print(i)"
      ],
      "execution_count": null,
      "outputs": []
    },
    {
      "cell_type": "code",
      "metadata": {
        "id": "XLQRm7vLJNfQ"
      },
      "source": [
        "b = [119, 319, 114, 79]\n",
        "\n",
        "for x,y,w,h in b:\n",
        "  print(x)"
      ],
      "execution_count": null,
      "outputs": []
    },
    {
      "cell_type": "code",
      "metadata": {
        "id": "99gAoG2wDXpk"
      },
      "source": [
        "arr = [5,3,4,6,3,6]\n",
        "n = len(arr)\n",
        "left = [0]*len(arr)\n",
        "right = [0]*len(arr)\n",
        "result = [0]*len(arr)\n",
        "right[-1] = arr[-1]\n",
        "left[0] = arr[0]\n",
        "for i in range(1,len(arr)):\n",
        "  right[n-i-1] = max(arr[n-i-1:])\n",
        "  left[i] = max(arr[:i+1])\n",
        "\n",
        "for i in range(1,n-1):\n",
        "  result[i] = min(left[i],right[i])-arr[i]\n",
        "\n"
      ],
      "execution_count": null,
      "outputs": []
    },
    {
      "cell_type": "code",
      "metadata": {
        "id": "Oiu4CI675T6E"
      },
      "source": [
        "ans = sum(result)"
      ],
      "execution_count": null,
      "outputs": []
    },
    {
      "cell_type": "code",
      "metadata": {
        "id": "_3nUQ3eB6AnH"
      },
      "source": [
        "ans"
      ],
      "execution_count": null,
      "outputs": []
    },
    {
      "cell_type": "code",
      "metadata": {
        "id": "iPcaJpud8A_s"
      },
      "source": [
        "arr = [35, 9, 12, 3, 2, 70, 31, 33, 1]\n",
        "\n",
        "n = len(arr)\n",
        "left  = [0]*n\n",
        "right = [0]*n\n",
        "\n",
        "right[-1] = n-1\n",
        "\n",
        "max_right = arr[-1]\n",
        "left[0] = 0\n",
        "for i in range(1,n):\n",
        "  right[n-i-1] = arr.index(max(arr[n-i-1:]))\n",
        "  left[i] = arr.index(min(arr[:i+1]))\n",
        "\n",
        "i = 0\n",
        "j = 0\n",
        "max_diff = -1\n",
        "\n",
        "while(j<n and i<n):\n",
        "  if arr[right[j]] > arr[left[i]]:\n",
        "    max_diff = max(max_diff,right[j]-left[i])\n",
        "    j = j+1\n",
        "  else:\n",
        "    i = i+1\n",
        "\n",
        "    \n",
        "  \n",
        "  "
      ],
      "execution_count": null,
      "outputs": []
    },
    {
      "cell_type": "code",
      "metadata": {
        "id": "8IHbl8zCHBAK"
      },
      "source": [
        "right"
      ],
      "execution_count": null,
      "outputs": []
    },
    {
      "cell_type": "code",
      "metadata": {
        "id": "cc2dxpOAH3ph"
      },
      "source": [
        "left"
      ],
      "execution_count": null,
      "outputs": []
    },
    {
      "cell_type": "code",
      "metadata": {
        "id": "PZczuQEGIzOG"
      },
      "source": [
        "max_diff"
      ],
      "execution_count": null,
      "outputs": []
    },
    {
      "cell_type": "code",
      "metadata": {
        "id": "f-5yP2y-KDXr"
      },
      "source": [
        "def fibo(n):\n",
        "  if n<=1:\n",
        "    return n\n",
        "  \n",
        "  return fibo(n-1)+           "
      ],
      "execution_count": null,
      "outputs": []
    },
    {
      "cell_type": "code",
      "metadata": {
        "id": "yZITavl_1KjS"
      },
      "source": [
        "sum = 0\n",
        "def func(n):\n",
        "  if n==0:\n",
        "    return 0\n",
        "  func(n-1)\n",
        "  sum = sum+n\n",
        "  return sum"
      ],
      "execution_count": null,
      "outputs": []
    },
    {
      "cell_type": "code",
      "metadata": {
        "id": "rv4sJZVQ2ThT"
      },
      "source": [
        "func(4)"
      ],
      "execution_count": null,
      "outputs": []
    },
    {
      "cell_type": "code",
      "metadata": {
        "id": "OqI86HTi2UYC"
      },
      "source": [
        "## Implementation of merge sort in python\n",
        "\n",
        "def mergesort(arr):\n",
        "  if len(arr)>1:\n",
        "    mid = len(arr)//2\n",
        "    left = arr[:mid]\n",
        "    right = arr[mid:]\n",
        "\n",
        "    ## Recursive call on each half\n",
        "\n",
        "    mergesort(left)\n",
        "    mergesort(right)\n",
        "\n",
        "    ## Three Iterators\n",
        "    i = 0\n",
        "    j = 0\n",
        "    k = 0 ## Iterator on the main list\n",
        "\n",
        "    while(i<len(left) and j<len(right)):\n",
        "      if left[i]<right[j]:\n",
        "        arr[k] = left[i]\n",
        "        i = i+1\n",
        "      else:\n",
        "        arr[k] = right[j]\n",
        "        j = j+1\n",
        "      k = k+1\n",
        "\n",
        "    while i<len(left):\n",
        "      arr[k] = left[i]\n",
        "      i = i+1\n",
        "      k = k+1\n",
        "      \n",
        "    while j<len(right):\n",
        "      arr[k] = right[j]\n",
        "      j = j+1\n",
        "      k = k+1\n",
        "    return arr"
      ],
      "execution_count": null,
      "outputs": []
    },
    {
      "cell_type": "code",
      "metadata": {
        "id": "taqJIEhAF2Z5"
      },
      "source": [
        "mergesort([2,4,5,1,6,3])"
      ],
      "execution_count": null,
      "outputs": []
    },
    {
      "cell_type": "code",
      "metadata": {
        "id": "MxekSVvRIvTS"
      },
      "source": [
        "2523//10"
      ],
      "execution_count": null,
      "outputs": []
    },
    {
      "cell_type": "code",
      "metadata": {
        "id": "sfT7uSHnF5_8"
      },
      "source": [
        "def func(n):\n",
        "  if n == 0:\n",
        "    return 0\n",
        "  \n",
        "  return func(n//10)+(n%10)"
      ],
      "execution_count": null,
      "outputs": []
    },
    {
      "cell_type": "code",
      "metadata": {
        "id": "qS8bZ6CkJxls"
      },
      "source": [
        "func(253)"
      ],
      "execution_count": null,
      "outputs": []
    },
    {
      "cell_type": "code",
      "metadata": {
        "id": "vferqb4JsKsa"
      },
      "source": [
        "import pandas as pd\n",
        "df = pd.read_csv('/content/Online Retail.csv')"
      ],
      "execution_count": null,
      "outputs": []
    },
    {
      "cell_type": "code",
      "metadata": {
        "id": "vdPkHAS8sY2p"
      },
      "source": [
        "df.head()"
      ],
      "execution_count": null,
      "outputs": []
    },
    {
      "cell_type": "code",
      "metadata": {
        "id": "jx66Ol4EzTz8"
      },
      "source": [
        "df.InvoiceDate.nunique(),df.StockCode.nunique(),df.CustomerID.nunique()"
      ],
      "execution_count": null,
      "outputs": []
    },
    {
      "cell_type": "code",
      "metadata": {
        "id": "o5Xl27y3zohn"
      },
      "source": [
        "def null_analysis(df):\n",
        "  '''\n",
        "  desc: get nulls for each column in counts & percentages\n",
        "  arg: dataframe\n",
        "  return: dataframe\n",
        "  '''\n",
        "  null_cnt = df.isnull().sum() # calculate null counts\n",
        "  null_cnt = null_cnt[null_cnt!=0] # remove non-null cols\n",
        "  null_percent = null_cnt / len(df) * 100 # calculate null percentages\n",
        "  null_table = pd.concat([pd.DataFrame(null_cnt), pd.DataFrame(null_percent)], axis=1)\n",
        "  null_table.columns = ['counts', 'percentage']\n",
        "  null_table.sort_values('counts', ascending=False, inplace=True)\n",
        "  return null_table\n",
        "\n",
        "null_analysis(df)"
      ],
      "execution_count": null,
      "outputs": []
    },
    {
      "cell_type": "code",
      "metadata": {
        "id": "1GMs1KmG0IgR"
      },
      "source": [
        "print(df.shape)\n",
        "##Dropping all NaN values from df\n",
        "df = df.dropna()\n",
        "print(df.shape)\n"
      ],
      "execution_count": null,
      "outputs": []
    },
    {
      "cell_type": "code",
      "metadata": {
        "id": "TY9_x4KBM5nZ"
      },
      "source": [
        "def null_analysis(df):\n",
        "  '''\n",
        "  desc: get nulls for each column in counts & percentages\n",
        "  arg: dataframe\n",
        "  return: dataframe\n",
        "  '''\n",
        "  null_cnt = df.isnull().sum() # calculate null counts\n",
        "  null_cnt = null_cnt[null_cnt!=0] # remove non-null cols\n",
        "  null_percent = null_cnt / len(df) * 100 # calculate null percentages\n",
        "  null_table = pd.concat([pd.DataFrame(null_cnt), pd.DataFrame(null_percent)], axis=1)\n",
        "  null_table.columns = ['counts', 'percentage']\n",
        "  null_table.sort_values('counts', ascending=False, inplace=True)\n",
        "  return null_table\n",
        "\n",
        "null_analysis(df)"
      ],
      "execution_count": null,
      "outputs": []
    },
    {
      "cell_type": "code",
      "metadata": {
        "id": "TRCUT6UlNOtk"
      },
      "source": [
        "##There are no null values\n",
        "##Now extracting countries from the df\n",
        "list_country = df.Country.unique().tolist()\n",
        "print(list_country)"
      ],
      "execution_count": null,
      "outputs": []
    },
    {
      "cell_type": "code",
      "metadata": {
        "id": "RfaHnizRN2Gb"
      },
      "source": [
        "##Now grouping up the data according to the countries\n",
        "df_country = df.groupby('Country')"
      ],
      "execution_count": null,
      "outputs": []
    },
    {
      "cell_type": "code",
      "metadata": {
        "id": "clKcmkcUOuay"
      },
      "source": [
        "df_country.first()"
      ],
      "execution_count": null,
      "outputs": []
    },
    {
      "cell_type": "code",
      "metadata": {
        "colab": {
          "background_save": true
        },
        "id": "ohbIUESVPBhV"
      },
      "source": [
        ""
      ],
      "execution_count": null,
      "outputs": []
    },
    {
      "cell_type": "code",
      "metadata": {
        "id": "2URRqHGzLhxI"
      },
      "source": [
        "def median(arr, n): \n",
        "    if n % 2 == 0: \n",
        "        return (arr[int(n / 2)] +\n",
        "                arr[int(n / 2) - 1]) / 2\n",
        "    else: \n",
        "        return arr[int(n/2)]\n",
        "\n",
        "def findMedian(first,second,n):\n",
        "\n",
        "  if len(first) == 2 and len(second) ==2:\n",
        "    x = max(first[0],second[0])\n",
        "    y = min(first[1],second[1])\n",
        "    return (x+y)/2\n",
        "\n",
        "  m1 = median(first,n)\n",
        "  m2 = median(second,n)\n",
        "\n",
        "  med_f = n//2\n",
        "  med_s = n//2\n",
        "\n",
        "  if m1>m2:\n",
        "    return findMedian(first[:med_f+1],second[med_s:],med_f/2)\n",
        "  else:\n",
        "    return findMedian(first[med_f:],second[:med_s+1],med_f/2)"
      ],
      "execution_count": null,
      "outputs": []
    },
    {
      "cell_type": "code",
      "metadata": {
        "id": "cf-oV3SJL1ok"
      },
      "source": [
        "\n",
        "\n",
        "\n",
        "def getMedian(first, second, n):  \n",
        "    # there is no element in any array   \n",
        "    if n == 0:  \n",
        "        return -1\n",
        "    # 1 element in each   \n",
        "    # => median of sorted array made of two arrays will be     \n",
        "    elif n == 1: \n",
        "        # sum of both elements by 2 \n",
        "        return (first[0]+second[1])/2\n",
        "\n",
        "    # Eg. [1,3] , [6,10] => [1, 3, 6, 10] \n",
        "    # median = (6+3)/2        \n",
        "    elif n == 2:\n",
        "        #  median = (max(first[0], \n",
        "        # second[0])+min(first[1],second[1]))/2   \n",
        "        return (max(first[0], second[0]) + \n",
        "                min(first[1], second[1])) / 2\n",
        "      \n",
        "    else:\n",
        "        #calculating medians \n",
        "        m1 = median(first, n) \n",
        "        m2 = median(second, n)\n",
        "\n",
        "       #  if m1 > m2 then median must \n",
        "       # exist in array1[....m1] and \n",
        "       #       array2[m2...] \n",
        "        if m1 > m2: \n",
        "              \n",
        "            if n % 2 == 0:   # If the Length of the array Even then follow this case, In Video we lecture we just consider Odd Length\n",
        "                return getMedian(first[:int(n / 2) + 1], \n",
        "                        second[int(n / 2) - 1:], int(n / 2) + 1) \n",
        "            else: # If the Length of the array Odd then follow this case\n",
        "                return getMedian(first[:int(n / 2) + 1],  \n",
        "                        second[int(n / 2):], int(n / 2) + 1) \n",
        "        #if m1 < m2 then median must exist in array1[m1....] and array2[....m2]  \n",
        "        else: \n",
        "            if n % 2 == 0: # If the Length of the array Even then follow this case, In Video we lecture we just consider Odd Length\n",
        "                return getMedian(first[int(n / 2 - 1):], \n",
        "                        second[:int(n / 2 + 1)], int(n / 2) + 1) \n",
        "            else: # If the Length of the array Odd then follow this case\n",
        "                return getMedian(first[int(n / 2):],  \n",
        "                        second[0:int(n / 2) + 1], int(n / 2) + 1) \n",
        "# function to find median of array  \n",
        "def median(arr, n): \n",
        "    if n % 2 == 0: \n",
        "        return (arr[int(n / 2)] +\n",
        "                arr[int(n / 2) - 1]) / 2\n",
        "    else: \n",
        "        return arr[int(n/2)] \n",
        "  \n",
        "      \n",
        "first = [1, 6, 8, 10, 12] \n",
        "second = [2, 3, 4, 9, 11] \n",
        "n = len(first) \n",
        "print(int(getMedian(first,second,n))) "
      ],
      "execution_count": null,
      "outputs": []
    },
    {
      "cell_type": "code",
      "metadata": {
        "id": "PT5nFPl2L6mp"
      },
      "source": [
        "first[len(first)//2:]"
      ],
      "execution_count": null,
      "outputs": []
    },
    {
      "cell_type": "code",
      "metadata": {
        "id": "gjcRPk2oL7A4"
      },
      "source": [
        "n = len(first)\n",
        "n//2"
      ],
      "execution_count": null,
      "outputs": []
    },
    {
      "cell_type": "code",
      "metadata": {
        "id": "BuervFa0TE6m"
      },
      "source": [
        "first = [1, 6, 8, 10, 12] \n",
        "second = [2, 3, 4, 9, 11] \n",
        "n = len(first) \n",
        "print(int(findMedian(first,second,n))) "
      ],
      "execution_count": null,
      "outputs": []
    },
    {
      "cell_type": "code",
      "metadata": {
        "id": "RLxh1Du5VVgg"
      },
      "source": [
        "pip install transformers"
      ],
      "execution_count": null,
      "outputs": []
    },
    {
      "cell_type": "code",
      "metadata": {
        "id": "_7XyQm133YCV"
      },
      "source": [
        " from transformers import RobertaTokenizer, RobertaForQuestionAnswering\n",
        " import torch\n",
        "tokenizer = RobertaTokenizer.from_pretrained('roberta-large')\n",
        "model = RobertaForQuestionAnswering.from_pretrained('roberta-large')"
      ],
      "execution_count": null,
      "outputs": []
    },
    {
      "cell_type": "code",
      "metadata": {
        "id": "0tXjIZ4G31Wr"
      },
      "source": [
        "question, text = \"Who was Jim Henson?\", \"Jim Henson was a nice puppet\"\n",
        "inputs = tokenizer(question, text, return_tensors='pt')\n",
        "start_positions = torch.tensor([1])\n",
        "end_positions = torch.tensor([3])\n",
        "outputs = model(**inputs, start_positions=start_positions, end_positions=end_positions)\n"
      ],
      "execution_count": null,
      "outputs": []
    },
    {
      "cell_type": "code",
      "metadata": {
        "id": "266icNUZ4lef"
      },
      "source": [
        "pip install farm"
      ],
      "execution_count": null,
      "outputs": []
    },
    {
      "cell_type": "code",
      "metadata": {
        "id": "KL2BRIzA4mqE"
      },
      "source": [
        "from farm.modeling.adaptive_model import AdaptiveModel\n",
        "from farm.modeling.tokenization import Tokenizer\n",
        "from farm.infer import Inferencer\n",
        "\n",
        "model_name = \"deepset/roberta-large-squad2\"\n",
        "\n",
        "# a) Get predictions\n",
        "nlp = Inferencer.load(model_name, task_type=\"question_answering\")\n",
        "QA_input = [{\"questions\": [\"Why is model conversion important?\"],\n",
        "             \"text\": \"The option to convert models between FARM and transformers gives freedom to the user and let people easily switch between frameworks.\"}]\n",
        "res = nlp.inference_from_dicts(dicts=QA_input, rest_api_schema=True)\n",
        "\n",
        "# b) Load model & tokenizer\n",
        "model = AdaptiveModel.convert_from_transformers(model_name, device=\"cpu\", task_type=\"question_answering\")\n",
        "tokenizer = Tokenizer.load(model_name)"
      ],
      "execution_count": null,
      "outputs": []
    },
    {
      "cell_type": "code",
      "metadata": {
        "id": "AuGR1rft5VnB"
      },
      "source": [
        "from transformers import AutoModelForQuestionAnswering, AutoTokenizer, pipeline\n",
        "\n",
        "model_name = \"deepset/roberta-large-squad2\"\n",
        "\n",
        "# a) Get predictions\n",
        "nlp = pipeline('question-answering', model=model_name, tokenizer=model_name)\n",
        "QA_input = {\n",
        "    'question': 'Why is model conversion important?',\n",
        "    'context': 'The option to convert models between FARM and transformers gives freedom to the user and let people easily switch between frameworks.'\n",
        "}\n",
        "res = nlp(QA_input)\n",
        "\n",
        "# b) Load model & tokenizer\n",
        "model = AutoModelForQuestionAnswering.from_pretrained(model_name)\n",
        "tokenizer = AutoTokenizer.from_pretrained(model_name)\n"
      ],
      "execution_count": null,
      "outputs": []
    },
    {
      "cell_type": "code",
      "metadata": {
        "id": "HGdhLbWP7YeE"
      },
      "source": [
        "pip install simpletransformers"
      ],
      "execution_count": null,
      "outputs": []
    },
    {
      "cell_type": "code",
      "metadata": {
        "id": "EU6lZY6X5hqf"
      },
      "source": [
        "\n",
        "train_args = {\n",
        "    'learning_rate': 1e-5,\n",
        "    'max_seq_length': 512,\n",
        "    'overwrite_output_dir': True,\n",
        "    'reprocess_input_data': False,\n",
        "    'train_batch_size': 4,\n",
        "    'num_train_epochs': 4,\n",
        "    'gradient_accumulation_steps': 2,\n",
        "    'no_cache': True,\n",
        "    'use_cached_eval_features': False,\n",
        "    'save_model_every_epoch': False,\n",
        "    'output_dir': \"bart-squadv2\",\n",
        "    'eval_batch_size': 8,\n",
        "    'fp16_opt_level': 'O2',\n",
        "    }\n",
        "    \n",
        "from simpletransformers.classification import ClassificationModel\n",
        "model = ClassificationModel('roberta', 'a-ware/roberta-large-squadv2', num_labels=2, args=train_args)\n",
        "\n",
        "predictions, raw_outputs = model.predict([[\"The option to convert models between FARM and transformers gives freedom to the user and let people easily switch between frameworks.\", \"Why is model conversion important?\"]])\n",
        "print(predictions)"
      ],
      "execution_count": null,
      "outputs": []
    },
    {
      "cell_type": "code",
      "metadata": {
        "id": "g1C_5Awu7WsH"
      },
      "source": [
        "\n",
        "predictions, raw_outputs = model.predict([[\"The option to convert models between FARM and transformers gives freedom to the user and let people easily switch between frameworks.\", \"Why is model conversion important?\"]])\n",
        "print(predictions)"
      ],
      "execution_count": null,
      "outputs": []
    },
    {
      "cell_type": "code",
      "metadata": {
        "id": "hzDixn1H7vgJ"
      },
      "source": [
        "## Binary Tree\n",
        "\n",
        "class Node(object):\n",
        "  def __init__(self,value):  ## Constructor of class Node\n",
        "    self.value = value \n",
        "    self.left = None\n",
        "    self.right = None\n",
        "\n",
        "'''class BinaryTree(object):\n",
        "  def __init__(self,root):\n",
        "    self.root = root'''\n",
        "\n",
        "##lets initialize BT\n",
        "root = Node(1) \n",
        "root.left  = Node(2) \n",
        "root.right  = Node(3) \n",
        "root.left.left  = Node(4) \n",
        "root.left.right  = Node(5)"
      ],
      "execution_count": null,
      "outputs": []
    },
    {
      "cell_type": "code",
      "metadata": {
        "id": "TcxcdSN4n0wf"
      },
      "source": [
        "root"
      ],
      "execution_count": null,
      "outputs": []
    },
    {
      "cell_type": "code",
      "metadata": {
        "id": "TCKNRLjEpgIj"
      },
      "source": [
        "def printInorder(root):\n",
        "  if root:\n",
        "    printInorder(root.left)\n",
        "    print(root.value)\n",
        "    printInorder(root.right)\n",
        "\n",
        "printInorder(root)"
      ],
      "execution_count": null,
      "outputs": []
    },
    {
      "cell_type": "code",
      "metadata": {
        "id": "Z2tYbzb_0EM9"
      },
      "source": [
        ""
      ],
      "execution_count": null,
      "outputs": []
    },
    {
      "cell_type": "code",
      "metadata": {
        "id": "ocren-PB0EJF"
      },
      "source": [
        ""
      ],
      "execution_count": null,
      "outputs": []
    },
    {
      "cell_type": "code",
      "metadata": {
        "id": "E5EovGcay499"
      },
      "source": [
        "class Node:\n",
        "\n",
        "\tdef __init__(self, data, left=None, right=None):\n",
        "\t\tself.data = data\n",
        "\t\tself.left = left\n",
        "\t\tself.right = right\n",
        "\n",
        "#to insert the values in BST\n",
        "def insert(root, key):\n",
        "\n",
        "\tif root is None:\n",
        "\t\treturn Node(key)\n",
        "\n",
        "\tif key < root.data:\n",
        "\t\troot.left = insert(root.left, key)\n",
        "\n",
        "\telse:\n",
        "\t\troot.right = insert(root.right, key)\n",
        "\n",
        "\treturn root"
      ],
      "execution_count": null,
      "outputs": []
    },
    {
      "cell_type": "code",
      "metadata": {
        "id": "76PdUNyRy9yj"
      },
      "source": [
        "root = None\n",
        "keys = [13, 14, 22, 25, 23, 32, 26,28,40]\n",
        "for key in keys:\n",
        "  root = insert(root, key)"
      ],
      "execution_count": null,
      "outputs": []
    },
    {
      "cell_type": "code",
      "metadata": {
        "id": "lPS7WblWzDKw"
      },
      "source": [
        "root"
      ],
      "execution_count": null,
      "outputs": []
    },
    {
      "cell_type": "code",
      "metadata": {
        "id": "G2mCWwzozEGk"
      },
      "source": [
        "def kthsmallest(root, k):\n",
        "\n",
        "\t#Write your code Here\n",
        "\tcount = 0\n",
        "  ksmall = -999\n",
        "\n",
        "  curr = root\n",
        "\n",
        "  while curr!=None:\n",
        "\n",
        "    if curr.left is None:\n",
        "      count = count+1\n",
        "\n",
        "      if count == k:\n",
        "        ksmall = curr.data\n",
        "\n",
        "      curr = curr.right\n",
        "\n"
      ],
      "execution_count": null,
      "outputs": []
    },
    {
      "cell_type": "code",
      "metadata": {
        "id": "typI5nRkzI16"
      },
      "source": [
        "actual = kthLargest(root,3)\n",
        "actual"
      ],
      "execution_count": null,
      "outputs": []
    },
    {
      "cell_type": "code",
      "metadata": {
        "id": "r3PBh-5DzN6Z"
      },
      "source": [
        "print(actual)"
      ],
      "execution_count": null,
      "outputs": []
    },
    {
      "cell_type": "code",
      "metadata": {
        "id": "tXwIl5kizdAg"
      },
      "source": [
        "global c \n",
        "c = 0\n",
        "\n",
        "def reverseinorder(root):\n",
        "  if root == None:\n",
        "    return\n",
        "  reverseinorder(root.right)\n",
        "  c = c+1\n",
        "  if c == 3:\n",
        "    return (root.data)\n",
        "  reverseinorder(root.left)"
      ],
      "execution_count": null,
      "outputs": []
    },
    {
      "cell_type": "code",
      "metadata": {
        "id": "MxkI0BF7z6Aj"
      },
      "source": [
        "reverseinorder(root)"
      ],
      "execution_count": null,
      "outputs": []
    },
    {
      "cell_type": "code",
      "metadata": {
        "id": "ldkrDWnfz8PF"
      },
      "source": [
        "root"
      ],
      "execution_count": null,
      "outputs": []
    },
    {
      "cell_type": "code",
      "metadata": {
        "id": "SeLWsrqx8F1E"
      },
      "source": [
        "ls = []\n",
        "def findKthLargest(root, k):\n",
        "\n",
        "\tif root is None:\n",
        "\t    return\n",
        "\tfindKthLargest(root.left,k)\n",
        "\tls.append(root.data)\n",
        "\n",
        "\tfindKthLargest(root.right,k)\n",
        "  \n",
        " \n",
        "findKthLargest(root,5)"
      ],
      "execution_count": null,
      "outputs": []
    },
    {
      "cell_type": "code",
      "metadata": {
        "id": "5209QqTF8LMo"
      },
      "source": [
        "ls"
      ],
      "execution_count": null,
      "outputs": []
    },
    {
      "cell_type": "code",
      "metadata": {
        "id": "IGu77JmI8L7_"
      },
      "source": [
        ""
      ],
      "execution_count": null,
      "outputs": []
    },
    {
      "cell_type": "code",
      "metadata": {
        "id": "PaWNOEfXJDnk"
      },
      "source": [
        "# Data structure to store a Binary Tree node\n",
        "class Node:\n",
        "    def __init__(self, data, left=None, right=None, next=None):\n",
        "        self.data = data\n",
        "        self.left = left\n",
        "        self.right = right\n",
        "        self.next = next\n",
        " \n",
        " \n",
        "# Function to print a given linked list\n",
        "def printList(head):\n",
        " \n",
        "    while head:\n",
        "        print(head.data, end=\" -> \")\n",
        "        head = head.next\n",
        " \n",
        "    print(\"None\")\n",
        " \n",
        " \n",
        "# Function to perform inorder traversal of a binary tree where nodes\n",
        "# at the same level are linked together in the form of a linked list\n",
        "def inorder(root):\n",
        " \n",
        "    if root is None:\n",
        "        return\n",
        " \n",
        "    inorder(root.left)\n",
        " \n",
        "    # print current node and its next node\n",
        "    print(root.data, end=\" -> \")\n",
        "    if root.next:\n",
        "        print(root.next.data, end='')\n",
        "    else:\n",
        "        print(\"None\")\n",
        " \n",
        "    inorder(root.right)\n",
        " \n",
        " \n",
        "# Recursive function to find the first node in next level of the root node\n",
        "def findNextNode(root):\n",
        " \n",
        "    # base case\n",
        "    if root is None or root.next is None:\n",
        "        return None\n",
        " \n",
        "    # if left child of root's next node exists, return it\n",
        "    if root.next.left:\n",
        "        return root.next.left\n",
        " \n",
        "    # if right child of root's next node exists, return it\n",
        "    if root.next.right:\n",
        "        return root.next.right\n",
        " \n",
        "    # if root's next node is a leaf node, recur for root's next node\n",
        "    return findNextNode(root.next)\n",
        " \n",
        " \n",
        "# Recursive function to link nodes present in each level of a binary tree\n",
        "# in the form of a linked list\n",
        "def linkNodes(root: Node):\n",
        " \n",
        "    # base case\n",
        "    if root is None:\n",
        "        return\n",
        " \n",
        "    # ensure that the nodes of the current level is linked before the nodes\n",
        "    # of the next level\n",
        "    linkNodes(root.next)\n",
        " \n",
        "    # update the next pointer of root's left child to root's right child\n",
        "    # if right child doesn't exist, link it to first node in the next level\n",
        "    if root.left:\n",
        "        if root.right:\n",
        "            root.left.next = root.right\n",
        "        else:\n",
        "            root.left.next = findNextNode(root)\n",
        " \n",
        "    # update the next pointer of root's right child to first node\n",
        "    # in the next level\n",
        "    if root.right:\n",
        "        root.right.next = findNextNode(root)\n",
        " \n",
        "    # recur for left and right subtree\n",
        "    linkNodes(root.left)\n",
        "    linkNodes(root.right)\n",
        " \n",
        " \n",
        "if __name__ == '__main__':\n",
        " \n",
        "    \"\"\" Construct below Tree\n",
        "           1\n",
        "         /   \\\n",
        "        2     3\n",
        "       / \\     \\\n",
        "      4   5     6\n",
        "       \\       /\n",
        "        7     8\n",
        "    \"\"\"\n",
        " \n",
        "    root = Node(1)\n",
        "    root.left = Node(2)\n",
        "    root.right = Node(3)\n",
        "    root.left.left = Node(4)\n",
        "    root.left.right = Node(5)\n",
        "    root.right.right = Node(6)\n",
        "    root.left.left.right = Node(7)\n",
        "    root.right.right.left = Node(8)\n",
        " \n",
        "    # link nodes at the same level\n",
        "    linkNodes(root)\n",
        " \n",
        "    # print the nodes\n",
        "    node = root\n",
        "    while node:\n",
        "        # print current level\n",
        "        printList(node)\n",
        " \n",
        "        # find leftmost node of the next level\n",
        "        if node.left:\n",
        "            node = node.left\n",
        "        elif node.right:\n",
        "            node = node.right\n",
        "        else:\n",
        "            node = findNextNode(node)"
      ],
      "execution_count": null,
      "outputs": []
    },
    {
      "cell_type": "code",
      "metadata": {
        "id": "VjYmH8FkayWt"
      },
      "source": [
        ""
      ],
      "execution_count": null,
      "outputs": []
    },
    {
      "cell_type": "code",
      "metadata": {
        "id": "0XNwVGT0F9ON"
      },
      "source": [
        ""
      ],
      "execution_count": null,
      "outputs": []
    },
    {
      "cell_type": "code",
      "metadata": {
        "id": "iN-fgy0MF9bA"
      },
      "source": [
        "class Node:\n",
        "    def __init__(self, data=None, left=None, right=None):\n",
        "        self.data = data\n",
        "        self.left = left\n",
        "        self.right = right\n",
        "\n",
        "root = Node(1)\n",
        "root.left = Node(2)\n",
        "root.right = Node(3)\n",
        "root.left.left = Node(4)\n",
        "root.left.right = Node(5)\n",
        "root.right.left = Node(6)\n",
        "root.right.left.left = Node(7)\n",
        "root.right.left.right = Node(8)"
      ],
      "execution_count": null,
      "outputs": []
    },
    {
      "cell_type": "code",
      "metadata": {
        "id": "Gk4TNwE2GLr2"
      },
      "source": [
        "global desiredlevel \n",
        "desiredlevel = 0\n",
        "def findRightNode(root, value, level):\n",
        "    #Write Your Code Here\n",
        "    if (root == None):\n",
        "      return\n",
        "    \n",
        "    if (root.data == value):\n",
        "      desiredlevel = level\n",
        "      return None\n",
        "    \n",
        "    if (desiredlevel!=0):\n",
        "      if desiredlevel == level:\n",
        "        return root.data\n",
        "    \n",
        "    root.left = findRightNode(root.left,value,level+1)\n",
        "\n",
        "    if root.left!=None:\n",
        "      return root.left\n",
        "    \n",
        "    return findRightNode(root.right,value,level+1)"
      ],
      "execution_count": null,
      "outputs": []
    },
    {
      "cell_type": "code",
      "metadata": {
        "id": "T_B6img1HbLc"
      },
      "source": [
        "actual = findRightNode(root, 5,0)"
      ],
      "execution_count": null,
      "outputs": []
    },
    {
      "cell_type": "code",
      "metadata": {
        "id": "14DjR-vmF9eq"
      },
      "source": [
        "\n",
        "import unittest\n",
        "class Node:\n",
        "    def __init__(self, data=None, left=None, right=None):\n",
        "        self.data = data\n",
        "        self.left = left\n",
        "        self.right = right\n",
        "\n",
        "def findRightNode(root, value, level):\n",
        "    #Write Your Code Here\n",
        "    return None\n",
        "\n",
        " #ok for all test cases required     \n",
        "class Test(unittest.TestCase):\n",
        "    def test_findRightNode(self):  \n",
        "        root = Node(1)\n",
        "        root.left = Node(2)\n",
        "        root.right = Node(3)\n",
        "        root.left.left = Node(4)\n",
        "        root.left.right = Node(5)\n",
        "        root.right.left = Node(6)\n",
        "        root.right.left.left = Node(7)\n",
        "        root.right.left.right = Node(8)\n",
        "        actual = findRightNode(root, 5,0)\n",
        "        expected = 6\n",
        "        self.assertEqual(actual, expected)\n",
        "\n",
        "    def test_findRightNode1(self):  \n",
        "        root = Node(1)\n",
        "        root.left = Node(2)\n",
        "        root.right = Node(3)\n",
        "        root.left.left = Node(4)\n",
        "        root.left.right = Node(5)\n",
        "        root.right.left = Node(6)\n",
        "        root.right.left.left = Node(7)\n",
        "        root.right.left.right = Node(8)\n",
        "        actual = findRightNode(root, 2,0)\n",
        "        expected = 3\n",
        "        self.assertEqual(actual, expected)\n",
        "\n",
        "    def test_findRightNode2(self):  \n",
        "        root = Node(1)\n",
        "        root.left = Node(2)\n",
        "        root.right = Node(3)\n",
        "        actual = findRightNode(root, 2,0)\n",
        "        expected = 3\n",
        "        self.assertEqual(actual, expected)\n",
        "\n",
        "unittest.main(verbosity=2)"
      ],
      "execution_count": null,
      "outputs": []
    },
    {
      "cell_type": "code",
      "metadata": {
        "id": "qMz67cjulbzL"
      },
      "source": [
        ""
      ],
      "execution_count": null,
      "outputs": []
    },
    {
      "cell_type": "code",
      "metadata": {
        "id": "LdQEtmwzlcLx"
      },
      "source": [
        "def createddl(root):\n",
        "  if root is None:\n",
        "    return\n",
        "  \n",
        "  createddl(root.left)\n",
        "  if global_f == 0:\n",
        "    parent = root\n",
        "    global_f = 1\n",
        "  \n",
        "  else:\n",
        "    root.left = parent\n",
        "    parent.right = root\n",
        "    parent = root\n",
        "  \n",
        "  createddl(root.right)"
      ],
      "execution_count": null,
      "outputs": []
    },
    {
      "cell_type": "code",
      "metadata": {
        "id": "CFIV2qZBl-EF"
      },
      "source": [
        "class Node:  \n",
        "    def __init__(self,data):  \n",
        "        self.data = data;  \n",
        "        self.left = None;  \n",
        "        self.right = None;  "
      ],
      "execution_count": null,
      "outputs": []
    },
    {
      "cell_type": "code",
      "metadata": {
        "id": "L6rJ6XvimC7i"
      },
      "source": [
        "class Node:  \n",
        "    def __init__(self,data):  \n",
        "        self.data = data;  \n",
        "        self.left = None;  \n",
        "        self.right = None;  \n",
        "root = Node(4);  \n",
        "root.left = Node(8);  \n",
        "root.right = Node(10);  \n",
        "root.left.left = Node(7);    \n",
        "root.right.left = Node(5);  \n",
        "root.right.right = Node(1);"
      ],
      "execution_count": null,
      "outputs": []
    },
    {
      "cell_type": "code",
      "metadata": {
        "id": "pxp1oPK3cueK"
      },
      "source": [
        "def leavescount(node):\n",
        "  if node is None:\n",
        "    return 0\n",
        "  \n",
        "  if (node.right is None) and (node.left is None):\n",
        "    return 1\n",
        "  \n",
        "  return leavescount(node.left) + leavescount(node.right)"
      ],
      "execution_count": null,
      "outputs": []
    },
    {
      "cell_type": "code",
      "metadata": {
        "id": "lRICxiGNdnDS"
      },
      "source": [
        "leavescount(root)"
      ],
      "execution_count": null,
      "outputs": []
    },
    {
      "cell_type": "code",
      "metadata": {
        "id": "tYv7BlLxf7mC"
      },
      "source": [
        "##Find the minimum value in a Binary Search Tree\n",
        "def minv(node):\n",
        "\n",
        "  curr = node\n",
        "\n",
        "  while(curr.left is not None):\n",
        "    curr = curr.left\n",
        "  \n",
        "  return curr.data\n",
        "  \n"
      ],
      "execution_count": null,
      "outputs": []
    },
    {
      "cell_type": "code",
      "metadata": {
        "id": "Jj3Hu8Kjf8kB"
      },
      "source": [
        "## Count the number of node in a tree\n",
        "def getsize(node):\n",
        "  if node is None:\n",
        "    return 0\n",
        "  \n",
        "  return 1+getsize(node.left) + getsize(node.right)\n",
        "  \n",
        "  \n",
        "  \n",
        "  "
      ],
      "execution_count": null,
      "outputs": []
    },
    {
      "cell_type": "code",
      "metadata": {
        "id": "hHkvcGf-nwlW"
      },
      "source": [
        "getsize(root)"
      ],
      "execution_count": null,
      "outputs": []
    },
    {
      "cell_type": "code",
      "metadata": {
        "id": "_yk5KS_zmIJV"
      },
      "source": [
        "2class BinaryTree:\n",
        "  def __init__(self):\n",
        "    self.root = None\n",
        "    self.head = None\n",
        "    self.tail = None\n",
        "  \n",
        "  def convertbtToDLL(self,node):\n",
        "    if node is None:\n",
        "      return\n",
        "\n",
        "    self.convertbtToDLL(node.left)\n",
        "\n",
        "    ##if the list is empty add node as the head of the DDL\n",
        "    if self.head is None:\n",
        "      self.head = self.tail = node\n",
        "\n",
        "    ## otherwise add node at the end\n",
        "    else:\n",
        "      self.tail.right = node\n",
        "      node.left = self.tail\n",
        "      self.tail = node\n",
        "\n",
        "    self.convertbtToDLL(node.right)\n",
        "\n",
        "    \n"
      ],
      "execution_count": null,
      "outputs": []
    },
    {
      "cell_type": "code",
      "metadata": {
        "id": "JyTDsau6mUnS"
      },
      "source": [
        "ls = []\n",
        "ls.append(1,2,3)"
      ],
      "execution_count": null,
      "outputs": []
    },
    {
      "cell_type": "code",
      "metadata": {
        "id": "5cusgPx83whw"
      },
      "source": [
        "class Node:\n",
        "\n",
        "    def __init__(self, data):\n",
        "\n",
        "        self.left = None\n",
        "        self.right = None\n",
        "        self.data = data\n",
        "# Insert Node\n",
        "    def insert(self, data):\n",
        "\n",
        "        if self.data:\n",
        "            if data < self.data:\n",
        "                if self.left is None:\n",
        "                    self.left = Node(data)\n",
        "                else:\n",
        "                    self.left.insert(data)\n",
        "            elif data > self.data:\n",
        "                if self.right is None:\n",
        "                    self.right = Node(data)\n",
        "                else:\n",
        "                    self.right.insert(data)\n",
        "        else:\n",
        "            self.data = data\n",
        "\n",
        "# Print the Tree\n",
        "    def PrintTree(self):\n",
        "        if self.left:\n",
        "            self.left.PrintTree()\n",
        "        print( self.data),\n",
        "        if self.right:\n",
        "            self.right.PrintTree()\n",
        "\n",
        "# Inorder traversal\n",
        "# Left -> Root -> Right\n",
        "    def inorderTraversal(self, root):\n",
        "        res = []\n",
        "        if root:\n",
        "            res = self.inorderTraversal(root.left)\n",
        "            res.append(root.data)\n",
        "            print(res)\n",
        "            res = res + self.inorderTraversal(root.right)\n",
        "        return res\n",
        "\n",
        "root = Node(27)\n",
        "\n",
        "root.insert(14)\n",
        "root.insert(35)\n",
        "root.insert(10)\n",
        "root.insert(19)\n",
        "root.insert(31)\n",
        "root.insert(42)\n",
        "print(root.inorderTraversal(root))"
      ],
      "execution_count": null,
      "outputs": []
    },
    {
      "cell_type": "code",
      "metadata": {
        "id": "-dLu6WagskUb"
      },
      "source": [
        "## Function to calculate height of binary tree\n",
        "def heightcal(node):\n",
        "  if node is None:\n",
        "    return -1\n",
        "  \n",
        "  left_height = heightcal(node.left)\n",
        "  right_height = heightcal(node.right)\n",
        "\n",
        "  return max(right_height,left_height)+1"
      ],
      "execution_count": null,
      "outputs": []
    },
    {
      "cell_type": "code",
      "metadata": {
        "id": "hTOw_P6PCh9c"
      },
      "source": [
        "class Node:  \n",
        "    def __init__(self,data):  \n",
        "        self.data = data;  \n",
        "        self.left = None;  \n",
        "        self.right = None;  \n",
        "root = Node(2);  \n",
        "root.right = Node(10);  \n",
        "root.right.left = Node(5);  "
      ],
      "execution_count": null,
      "outputs": []
    },
    {
      "cell_type": "code",
      "metadata": {
        "id": "fF4Fa6T7CoZ1"
      },
      "source": [
        "heightcal(root)"
      ],
      "execution_count": null,
      "outputs": []
    },
    {
      "cell_type": "code",
      "metadata": {
        "id": "Gg_buQxdCq9U"
      },
      "source": [
        ""
      ],
      "execution_count": null,
      "outputs": []
    },
    {
      "cell_type": "code",
      "metadata": {
        "id": "9FH1YPA4VZab"
      },
      "source": [
        "##Checking whether the tree is balanced or not\n",
        "class Node:\n",
        "    # Constructor to create a new Node\n",
        "    def __init__(self, data):\n",
        "        self.data = data\n",
        "        self.left = None\n",
        "        self.right = None\n",
        "  \n",
        "# function to find height of binary tree\n",
        "def height(root):\n",
        "      \n",
        "    # base condition when binary tree is empty\n",
        "    if root is None:\n",
        "        return 0\n",
        "    return max(height(root.left), height(root.right)) + 1\n",
        "  \n",
        "# function to check if tree is height-balanced or not\n",
        "\n",
        "# Driver function to test the above function\n",
        "root = Node(1)\n",
        "root.left = Node(2)\n",
        "root.right = Node(3)\n",
        "root.left.left = Node(4)\n",
        "root.left.right = Node(5)\n",
        "root.left.left.left = Node(8)\n",
        "if isBalanced(root):\n",
        "    print(\"Tree is balanced\")\n",
        "else:\n",
        "    print(\"Tree is not balanced\")"
      ],
      "execution_count": null,
      "outputs": []
    },
    {
      "cell_type": "code",
      "metadata": {
        "id": "0_iuVIPcVgDQ"
      },
      "source": [
        "def isBalanced(root):\n",
        "      \n",
        "    # Base condition\n",
        "    if root is None:\n",
        "        return True\n",
        "  \n",
        "    # for left and right subtree height\n",
        "    lh = height(root.left)\n",
        "    rh = height(root.right)\n",
        "  \n",
        "    print(lh-rh)\n",
        "  "
      ],
      "execution_count": null,
      "outputs": []
    },
    {
      "cell_type": "code",
      "metadata": {
        "id": "Ten9JsyCVuUI"
      },
      "source": [
        "isBalanced(root)"
      ],
      "execution_count": null,
      "outputs": []
    },
    {
      "cell_type": "code",
      "metadata": {
        "id": "LRSRf2EEVyff"
      },
      "source": [
        "def height(root):\n",
        "      \n",
        "    # base condition when binary tree is empty\n",
        "    if root is None:\n",
        "        return 0\n",
        "    print(max(height(root.left), height(root.right)) + 1)\n",
        "    return max(height(root.left), height(root.right)) + 1"
      ],
      "execution_count": null,
      "outputs": []
    },
    {
      "cell_type": "code",
      "metadata": {
        "id": "n2cxssq0WCOq"
      },
      "source": [
        "height(root)"
      ],
      "execution_count": null,
      "outputs": []
    },
    {
      "cell_type": "code",
      "metadata": {
        "id": "hPuf0JRQWDnq"
      },
      "source": [
        ""
      ],
      "execution_count": null,
      "outputs": []
    },
    {
      "cell_type": "code",
      "metadata": {
        "id": "vNAQQhbGsEsj"
      },
      "source": [
        "##Finding an element in a BST\n",
        "##Checking whether the tree is balanced or not\n",
        "class newNode:\n",
        "    # Constructor to create a new Node\n",
        "    def __init__(self, data):\n",
        "        self.data = data\n",
        "        self.left = None\n",
        "        self.right = None\n",
        "\n",
        "root = newNode(0)\n",
        "root.left = newNode(1)\n",
        "root.left.left = newNode(3)\n",
        "root.left.left.left = newNode(7)\n",
        "root.left.right = newNode(4)\n",
        "root.left.right.left = newNode(8)\n",
        "root.left.right.right = newNode(9)\n",
        "root.right = newNode(2)\n",
        "root.right.left = newNode(5)\n",
        "root.right.right = newNode(6)"
      ],
      "execution_count": null,
      "outputs": []
    },
    {
      "cell_type": "code",
      "metadata": {
        "id": "cwU-WDPmuDtW"
      },
      "source": [
        "root"
      ],
      "execution_count": null,
      "outputs": []
    },
    {
      "cell_type": "code",
      "metadata": {
        "id": "b3FYwcTdskhz"
      },
      "source": [
        "def func(root,value):\n",
        "  if root is None:\n",
        "    return False\n",
        "  \n",
        "  if root.data == value:\n",
        "    return True\n",
        "  res1 = func(root.left,value)\n",
        "  \n",
        "  if res1:\n",
        "    return True\n",
        "  \n",
        "  res2 = func(root.right,value)\n",
        "\n",
        "  return res2\n",
        "  "
      ],
      "execution_count": null,
      "outputs": []
    },
    {
      "cell_type": "code",
      "metadata": {
        "id": "olgnTVtOsnIH"
      },
      "source": [
        "print(func(root,7))"
      ],
      "execution_count": null,
      "outputs": []
    },
    {
      "cell_type": "code",
      "metadata": {
        "id": "wxtfa_Agt1v1"
      },
      "source": [
        ""
      ],
      "execution_count": null,
      "outputs": []
    },
    {
      "cell_type": "code",
      "metadata": {
        "id": "kvhrtCuypYIq"
      },
      "source": [
        ""
      ],
      "execution_count": null,
      "outputs": []
    },
    {
      "cell_type": "code",
      "metadata": {
        "id": "R_14O65FrXM_"
      },
      "source": [
        "##Delete the node in a BST\n",
        "\n",
        "def max_f(node):\n",
        "  if node.right is not None:\n",
        "    return max(node.right)\n",
        "  else:\n",
        "    return node.data\n",
        "def remove(node,value):\n",
        "\n",
        "  if node is None:\n",
        "    return None\n",
        "  \n",
        "  if value > node.data:\n",
        "    node.right = remove(node.right,value)\n",
        "  \n",
        "  elif value < node.data:\n",
        "    node.left = remove(node.left,value)\n",
        "  \n",
        "  else:\n",
        "\n",
        "    if (node.left is not None) and (node.right is not None): ## node has 2 child:\n",
        "      lmax = max_f(node.left)\n",
        "      node.data = lmax\n",
        "      node.left = remove(node.left,lmax)\n",
        "      return node\n",
        "    \n",
        "    elif node.left is not None:\n",
        "      return node.left\n",
        "    \n",
        "    elif node.right is not None:\n",
        "      return node.right\n",
        "    \n",
        "    else:\n",
        "      return None\n",
        "\n",
        "  return node"
      ],
      "execution_count": null,
      "outputs": []
    },
    {
      "cell_type": "code",
      "metadata": {
        "id": "565IGxaNt8h7"
      },
      "source": [
        "##Finding an element in a BST\n",
        "##Checking whether the tree is balanced or not\n",
        "class newNode:\n",
        "    # Constructor to create a new Node\n",
        "    def __init__(self, data):\n",
        "        self.data = data\n",
        "        self.left = None\n",
        "        self.right = None\n",
        "\n",
        "root = newNode(0)\n",
        "root.left = newNode(1)\n",
        "root.left.left = newNode(3)\n",
        "root.left.left.left = newNode(7)\n",
        "root.left.right = newNode(4)\n",
        "root.left.right.left = newNode(8)\n",
        "root.left.right.right = newNode(9)\n",
        "root.right = newNode(2)\n",
        "root.right.left = newNode(5)"
      ],
      "execution_count": null,
      "outputs": []
    },
    {
      "cell_type": "code",
      "metadata": {
        "id": "RLzsiBPGuNNy"
      },
      "source": [
        "remove(root,2)"
      ],
      "execution_count": null,
      "outputs": []
    },
    {
      "cell_type": "code",
      "metadata": {
        "id": "vvSgLOTTuPWN"
      },
      "source": [
        "def print_tree(node):\n",
        "  if node is None:\n",
        "    return\n",
        "  \n",
        "  print_tree(node.left)\n",
        "  print(node.data)\n",
        "  print_tree(node.right)\n"
      ],
      "execution_count": null,
      "outputs": []
    },
    {
      "cell_type": "code",
      "metadata": {
        "id": "dY6zRa5pumIJ"
      },
      "source": [
        "print_tree(root)"
      ],
      "execution_count": null,
      "outputs": []
    },
    {
      "cell_type": "code",
      "metadata": {
        "id": "TJUF9k8guoBV"
      },
      "source": [
        ""
      ],
      "execution_count": null,
      "outputs": []
    },
    {
      "cell_type": "code",
      "metadata": {
        "id": "ZqYq6PKe38s0"
      },
      "source": [
        "## Node to root path\n",
        "\n",
        "def findpath(node,value):\n",
        "  if node is None:\n",
        "    return False\n",
        "  \n",
        "  if node.data == value:\n",
        "    path.append(node.data)\n",
        "    return True\n",
        "  \n",
        "  filc = findpath(node.left,value)\n",
        "  if filc:\n",
        "    path.append(node.data)\n",
        "    return True\n",
        "  \n",
        "  firc = findpath(node.right,value)\n",
        "  if firc:\n",
        "    path.append(node.data)\n",
        "    return True\n",
        "  \n",
        "  return False"
      ],
      "execution_count": null,
      "outputs": []
    },
    {
      "cell_type": "code",
      "metadata": {
        "id": "Dq9UG8084_JD"
      },
      "source": [
        "path = []\n",
        "findpath(root,9)"
      ],
      "execution_count": null,
      "outputs": []
    },
    {
      "cell_type": "code",
      "metadata": {
        "id": "opXyhGyk5J8p"
      },
      "source": [
        "path"
      ],
      "execution_count": null,
      "outputs": []
    },
    {
      "cell_type": "code",
      "metadata": {
        "id": "c7h0kI5U5Oks"
      },
      "source": [
        ""
      ],
      "execution_count": null,
      "outputs": []
    },
    {
      "cell_type": "code",
      "metadata": {
        "id": "xL8dXoGiJog6"
      },
      "source": [
        ""
      ],
      "execution_count": null,
      "outputs": []
    },
    {
      "cell_type": "code",
      "metadata": {
        "id": "g50DA3ukHj5d"
      },
      "source": [
        "##Question: Print nodes k level far\n",
        "\n",
        "##Function to print nodes k level down from node\n",
        "def kleveldown(root,k,blocker):\n",
        "  if (root is None) or (k<0) or (root == blocker) :\n",
        "    return\n",
        "  \n",
        "  if k==0:\n",
        "    print(root.data)\n",
        "  \n",
        "  kleveldown(root.left,k-1,blocker)\n",
        "  kleveldown(root.right,k-1,blocker)\n",
        "\n",
        "##Function to print whether node is in BT and also provide root2node path\n",
        "def findpath(node,value):\n",
        "  if node is None:\n",
        "    return False\n",
        "  \n",
        "  if node.data == value:\n",
        "    path.append(node)\n",
        "    return True\n",
        "  \n",
        "  filc = findpath(node.left,value)\n",
        "  if filc:\n",
        "    path.append(node)\n",
        "    return True\n",
        "  \n",
        "  firc = findpath(node.right,value)\n",
        "  if firc:\n",
        "    path.append(node)\n",
        "    return True\n",
        "  \n",
        "  return False\n",
        "\n",
        "##Function to print all nodes k level far from desired node\n",
        "def klevel(node,key,k):\n",
        "  findpath(node,key)\n",
        "  for i in range(len(path)):\n",
        "    if i==0:\n",
        "      kleveldown(path[i],k-i,None)\n",
        "    else:\n",
        "      kleveldown(path[i],k-i,path[i-1])\n",
        "\n",
        "\n"
      ],
      "execution_count": null,
      "outputs": []
    },
    {
      "cell_type": "code",
      "metadata": {
        "id": "S_pO4DAMHj80"
      },
      "source": [
        "class Node:\n",
        "    # Constructor to create a new Node\n",
        "    def __init__(self, data):\n",
        "        self.data = data\n",
        "        self.left = None\n",
        "        self.right = None\n",
        "\n",
        "root = Node(20) \n",
        "root.left = Node(8) \n",
        "root.right = Node(22) \n",
        "root.left.left = Node(4) \n",
        "root.left.right = Node(12) \n",
        "root.left.right.left = Node(10) \n",
        "root.left.right.right = Node(14) "
      ],
      "execution_count": null,
      "outputs": []
    },
    {
      "cell_type": "code",
      "metadata": {
        "id": "_eYwMqKUJ2Sf"
      },
      "source": [
        "path = []\n",
        "klevel(root,12,2)"
      ],
      "execution_count": null,
      "outputs": []
    },
    {
      "cell_type": "code",
      "metadata": {
        "id": "8pFpSYUiKNGY"
      },
      "source": [
        "path"
      ],
      "execution_count": null,
      "outputs": []
    },
    {
      "cell_type": "code",
      "metadata": {
        "id": "mkzxqJ6QKU18"
      },
      "source": [
        ""
      ],
      "execution_count": null,
      "outputs": []
    },
    {
      "cell_type": "code",
      "metadata": {
        "id": "BHi0uOgcMUKO"
      },
      "source": [
        ""
      ],
      "execution_count": null,
      "outputs": []
    },
    {
      "cell_type": "code",
      "metadata": {
        "id": "SbiLiY-uMUNi"
      },
      "source": [
        "##Question : Print nodes k distance from leaf node\n",
        "\n",
        "def heightBT(node):\n",
        "  if node is None:\n",
        "    return 0 ## -1 for edges and 0 for node\n",
        "  \n",
        "  lheight = heightBT(node.left)\n",
        "  rheight = heightBT(node.right)\n",
        "\n",
        "  theight = max(lheight,rheight)+1\n",
        "  return theight\n",
        "\n",
        "def printKDistantfromLeaf(node,k): \n",
        "  global MAX_HEIGHT\n",
        "  path = [None] * MAX_HEIGHT \n",
        "  visited = [False] * MAX_HEIGHT \n",
        "  printKDistance(node, k, path, visited, 0)\n",
        "\n",
        "def printKDistance(node,k,path,visited,count):\n",
        "\n",
        "  if node is None:\n",
        "    return\n",
        "  \n",
        "  path[count] = node.data\n",
        "  visited[count] = False\n",
        "\n",
        "  if (node.left is None) and (node.right is None) and (count-k>=0) and (visited[count-k] == False):\n",
        "    print(path[count-k])\n",
        "    visited[count-k] = True\n",
        "    return\n",
        "  \n",
        "  printKDistance(node.left,k,path,visited,count+1)\n",
        "  printKDistance(node.right,k,path,visited,count+1)"
      ],
      "execution_count": null,
      "outputs": []
    },
    {
      "cell_type": "code",
      "metadata": {
        "id": "sl2glezMZmTb"
      },
      "source": [
        "class Node:\n",
        "  # Constructor to create a new Node\n",
        "  def __init__(self, data):\n",
        "    self.data = data\n",
        "    self.left = None\n",
        "    self.right = None\n",
        "\n",
        "root = Node(20) \n",
        "root.left = Node(8) \n",
        "root.left.left = Node(4) \n",
        "root.left.right = Node(12) \n",
        "root.left.right.left = Node(10) \n",
        "root.left.right.right = Node(14) \n",
        "root.right = Node(22) \n",
        "root.right.right = Node(25)\n",
        "\n",
        "MAX_HEIGHT = heightBT(root)\n",
        "actual = printKDistantfromLeaf(root,3)"
      ],
      "execution_count": null,
      "outputs": []
    },
    {
      "cell_type": "code",
      "metadata": {
        "id": "OiPFMiHfjpHm"
      },
      "source": [
        "MAX_HEIGHT"
      ],
      "execution_count": null,
      "outputs": []
    },
    {
      "cell_type": "code",
      "metadata": {
        "id": "9AAXFk88aoAv"
      },
      "source": [
        ""
      ],
      "execution_count": null,
      "outputs": []
    },
    {
      "cell_type": "code",
      "metadata": {
        "id": "Jj-2dCPjfyKi"
      },
      "source": [
        ""
      ],
      "execution_count": null,
      "outputs": []
    },
    {
      "cell_type": "code",
      "metadata": {
        "id": "O6vT9eANfyOX"
      },
      "source": [
        "## Sum,max,height,size of Binary tree\n",
        "\n",
        "def sumBT(node):\n",
        "\n",
        "  if node is None:\n",
        "    return 0\n",
        "\n",
        "  ls = sumBT(node.left)\n",
        "  rs = sumBT(node.right)\n",
        "\n",
        "  ts = ls+rs+node.data\n",
        "  return ts\n",
        "\n",
        "def sizeBT(node):\n",
        "\n",
        "  if node is None:\n",
        "    return 0\n",
        "\n",
        "  lsize = sizeBT(node.left)\n",
        "  rsize = sizeBT(node.right)\n",
        "\n",
        "  tsize = lsize+rsize+1\n",
        "  return tsize\n",
        "\n",
        "def heightBT(node):\n",
        "  if node is None:\n",
        "    return -1 ## -1 for edges and 0 for node\n",
        "  \n",
        "  lheight = heightBT(node.left)\n",
        "  rheight = heightBT(node.right)\n",
        "\n",
        "  theight = max(lheight,rheight)+1\n",
        "  return theight\n",
        "\n",
        "def maxBT(node):\n",
        "  if (node == None):\n",
        "    return float('-inf')\n",
        "\n",
        "  lmax = maxBT(node.left)\n",
        "  rmax = maxBT(node.right)\n",
        "\n",
        "  tmax = max(node.data,max(lmax,rmax))\n",
        "  return tmax\n"
      ],
      "execution_count": null,
      "outputs": []
    },
    {
      "cell_type": "code",
      "metadata": {
        "id": "Xxk1BdCUhYH5"
      },
      "source": [
        "root"
      ],
      "execution_count": null,
      "outputs": []
    },
    {
      "cell_type": "code",
      "metadata": {
        "id": "2jrKL8kEhccY"
      },
      "source": [
        "maxBT(root)"
      ],
      "execution_count": null,
      "outputs": []
    },
    {
      "cell_type": "code",
      "metadata": {
        "id": "n3vAGYtbhe5S"
      },
      "source": [
        ""
      ],
      "execution_count": null,
      "outputs": []
    },
    {
      "cell_type": "code",
      "metadata": {
        "id": "Wff7YxMTc6QZ"
      },
      "source": [
        "##Question:print all boundary nodes in a Binary Tree\n",
        "##we will solve this problem by 3 helper function 1.left Internal nodes 2.leaves nodes 3.right internal nodes\n",
        "\n",
        "##leaves nodes\n",
        "def printleaves(node):\n",
        "  \n",
        "  if node:\n",
        "    printleaves(node.left)\n",
        "    if (node.left is  None) and (node.right is  None):\n",
        "      print(node.data)\n",
        "    printleaves(node.right)\n",
        "\n",
        "##left Internal Nodes\n",
        "def leftinternalnodes(node):\n",
        "  if node:\n",
        "    if node.left is not None:\n",
        "      print(node.data)\n",
        "      leftinternalnodes(node.left)\n",
        "    elif node.right is not None:\n",
        "      print(node.data)\n",
        "      leftinternalnodes(node.right)\n",
        "\n",
        "##right internal nodes\n",
        "def rightinternalnodes(node):\n",
        "  if node:\n",
        "    if node.right is not None:\n",
        "      rightinternalnodes(node.right)\n",
        "      print(node.data)\n",
        "    elif node.left is not None:\n",
        "      rightinternalnodes(node.left)\n",
        "      print(node.data)\n",
        "\n",
        "\n",
        "      \n",
        "##Main function \n",
        "def printboundary(node):\n",
        "  if node is not None:\n",
        "    print(node.data)\n",
        "\n",
        "  leftinternalnodes(node.left)\n",
        "  printleaves(node.left)\n",
        "  printleaves(node.right)\n",
        "  rightinternalnodes(node.right)\n"
      ],
      "execution_count": null,
      "outputs": []
    },
    {
      "cell_type": "code",
      "metadata": {
        "id": "Xhu8Gn-OiT8r"
      },
      "source": [
        "class Node:\n",
        "  # Constructor to create a new Node\n",
        "  def __init__(self, data):\n",
        "    self.data = data\n",
        "    self.left = None\n",
        "    self.right = None\n",
        "\n",
        "root = Node(20) \n",
        "root.left = Node(8) \n",
        "root.left.left = Node(4) \n",
        "root.left.right = Node(12) \n",
        "root.left.right.left = Node(10) \n",
        "root.left.right.right = Node(14) \n",
        "root.right = Node(22) \n",
        "root.right.right = Node(25)"
      ],
      "execution_count": null,
      "outputs": []
    },
    {
      "cell_type": "code",
      "metadata": {
        "id": "bi0dgCRNiVBg"
      },
      "source": [
        "printboundary(root)"
      ],
      "execution_count": null,
      "outputs": []
    },
    {
      "cell_type": "code",
      "metadata": {
        "id": "dqCGONvJjAJn"
      },
      "source": [
        ""
      ],
      "execution_count": null,
      "outputs": []
    },
    {
      "cell_type": "code",
      "metadata": {
        "id": "v_zWAeoijAQM"
      },
      "source": [
        ""
      ],
      "execution_count": null,
      "outputs": []
    },
    {
      "cell_type": "code",
      "metadata": {
        "id": "P_Y_HlLojAZN"
      },
      "source": [
        "##Question:check whether a binary tree is a subtree of another binary tree\n",
        "\n",
        "def inorder(node,ls):\n",
        "  if node is None:\n",
        "    return \n",
        "  \n",
        "  inorder(node.left,ls)\n",
        "  ls.append(node.data)\n",
        "  inorder(node.right,ls)\n",
        "\n",
        "def postorder(node,ls):\n",
        "  if node is None:\n",
        "    return \n",
        "  \n",
        "  postorder(node.left,ls)\n",
        "  postorder(node.right,ls)\n",
        "  ls.append(node.data)\n",
        "\n",
        "def checkSubtree(tree,subtree):\n",
        "\n",
        "  if tree == subtree:\n",
        "    print(True)\n",
        "    return\n",
        "  \n",
        "  if tree is None:\n",
        "    return False\n",
        "  \n",
        "  first = []\n",
        "  second = []\n",
        "\n",
        "  inorder(tree,first)\n",
        "  inorder(subtree,second)\n",
        "\n",
        "  a1 = ''.join([str(elem) for elem in first])\n",
        "  a2 = ''.join([str(elem) for elem in second])\n",
        "\n",
        "  if a1.find(a2) == -1:\n",
        "    return False\n",
        "  \n",
        "  first.clear()\n",
        "  second.clear()\n",
        "\n",
        "  postorder(tree,first)\n",
        "  postorder(subtree,second)\n",
        "\n",
        "  a3 = ''.join([str(elem) for elem in first])\n",
        "  a4 = ''.join([str(elem) for elem in second])\n",
        "\n",
        "  if a3.find(a4) == -1:\n",
        "    return False\n",
        "  \n",
        "  return True\n",
        "\n",
        "\n",
        "\n",
        "  \n"
      ],
      "execution_count": null,
      "outputs": []
    },
    {
      "cell_type": "code",
      "metadata": {
        "id": "9ILlRvlxBebG"
      },
      "source": [
        "class Node:\n",
        "  def __init__(self, data, left=None, right=None):\n",
        "    self.data = data\n",
        "    self.left = left\n",
        "    self.right = right\n",
        " \n",
        "  def __repr__(self):\n",
        "    return str(self.data)\n",
        "    \n",
        "root = Node(1)\n",
        "root.left = Node(2)\n",
        "root.right = Node(3)\n",
        "root.left.left = Node(4)\n",
        "root.left.right = Node(5)\n",
        "root.right.left = Node(6)\n",
        "root.right.right = Node(7)\n",
        " \n",
        "if checkSubtree(root, root.right):\n",
        "  print(\"Yes\")\n",
        "else:\n",
        "  print(\"No\")"
      ],
      "execution_count": null,
      "outputs": []
    },
    {
      "cell_type": "code",
      "metadata": {
        "id": "oChmoVh_Gmwz"
      },
      "source": [
        ""
      ],
      "execution_count": null,
      "outputs": []
    },
    {
      "cell_type": "code",
      "metadata": {
        "id": "1UgzO9dfGm0R"
      },
      "source": [
        ""
      ],
      "execution_count": null,
      "outputs": []
    },
    {
      "cell_type": "code",
      "metadata": {
        "id": "EP61W5iCFU1i"
      },
      "source": [
        "##Question : Check whether Binary Tree is a Valid BST or not\n",
        "\n",
        "def checkbst(node,min,max):\n",
        "  \n",
        "  if node is None:\n",
        "    return True\n",
        "  \n",
        "  if node.data>max or node.data<min:\n",
        "    return False\n",
        "\n",
        "\n",
        "  return checkbst(node.left,min,node.data-1) and checkbst(node.right,node.data-1,max)"
      ],
      "execution_count": null,
      "outputs": []
    },
    {
      "cell_type": "code",
      "metadata": {
        "id": "EE6dUOZ8dz4h"
      },
      "source": [
        "class Node: \n",
        "\tdef __init__(self, data): \n",
        "\t\tself.data = data \n",
        "\t\tself.left = None\n",
        "\t\tself.right = None\n",
        "\n",
        "root = Node(12); \n",
        "root.left = Node(4); \n",
        "root.right = Node(25); \n",
        "root.left.left = Node(2); \n",
        "root.left.right = Node(9); \n",
        "root.right.left = Node(16); \n",
        "root.right.right = Node(32); \n",
        "\n"
      ],
      "execution_count": null,
      "outputs": []
    },
    {
      "cell_type": "code",
      "metadata": {
        "id": "aX5bHT_-eKZE"
      },
      "source": [
        "checkbst(root,float('-inf'),float('inf'))"
      ],
      "execution_count": null,
      "outputs": []
    },
    {
      "cell_type": "code",
      "metadata": {
        "id": "Jp4Lyml9xxkH"
      },
      "source": [
        ""
      ],
      "execution_count": null,
      "outputs": []
    },
    {
      "cell_type": "code",
      "metadata": {
        "id": "_VHBQ8P-xx7K"
      },
      "source": [
        ""
      ],
      "execution_count": null,
      "outputs": []
    },
    {
      "cell_type": "code",
      "metadata": {
        "id": "f9wpGd9TeNGp"
      },
      "source": [
        "##Question:print bottom view of a Binary Tree\n",
        "\n",
        "def bottomview(node,level,d,dic):\n",
        "  if node is None:  ##base case\n",
        "    return \n",
        "  \n",
        "  if d not in dic.keys() or level>=dic[d][1]:\n",
        "    dic[d] = (node.data,level)\n",
        "  \n",
        "  bottomview(node.left,level+1,d-1,dic)\n",
        "  bottomview(node.right,level+1,d+1,dic)"
      ],
      "execution_count": null,
      "outputs": []
    },
    {
      "cell_type": "code",
      "metadata": {
        "id": "2g-84gF-yJsL"
      },
      "source": [
        "class Node: \n",
        "\tdef __init__(self, data): \n",
        "\t\tself.data = data \n",
        "\t\tself.left = None\n",
        "\t\tself.right = None\n",
        "\n",
        "root = Node(1)\n",
        "root.left = Node(2)\n",
        "root.right = Node(3)\n",
        "root.left.right = Node(4)\n",
        "root.right.left = Node(5)\n",
        "root.right.right = Node(6)\n",
        "root.right.left.left = Node(7)\n",
        "root.right.left.right = Node(8)\n",
        "\n"
      ],
      "execution_count": null,
      "outputs": []
    },
    {
      "cell_type": "code",
      "metadata": {
        "id": "vVHkl-EpyJvq"
      },
      "source": [
        "dic = {}\n",
        "bottomview(root,0,0,dic)"
      ],
      "execution_count": null,
      "outputs": []
    },
    {
      "cell_type": "code",
      "metadata": {
        "id": "YCHRelglyPxn"
      },
      "source": [
        "dic"
      ],
      "execution_count": null,
      "outputs": []
    },
    {
      "cell_type": "code",
      "metadata": {
        "id": "e1sQ9bM3zWWN"
      },
      "source": [
        "for key in sorted(dic.keys()):\n",
        "  print(dic.get(key)[0])"
      ],
      "execution_count": null,
      "outputs": []
    },
    {
      "cell_type": "code",
      "metadata": {
        "id": "Q3KgulTrzgQ0"
      },
      "source": [
        ""
      ],
      "execution_count": null,
      "outputs": []
    },
    {
      "cell_type": "code",
      "metadata": {
        "id": "wg_FdMMiCGcJ"
      },
      "source": [
        ""
      ],
      "execution_count": null,
      "outputs": []
    },
    {
      "cell_type": "code",
      "metadata": {
        "id": "nJHU9bNgCGyA"
      },
      "source": [
        "##Question:Lowest common ancestor of two nodes in a binary tree\n",
        "\n",
        "## first find out node to root path of given two nodes\n",
        "def node2root(node,value,path):\n",
        "  if node is None:\n",
        "    return False\n",
        "  \n",
        "  if node.data == value:\n",
        "    path.append(node.data)\n",
        "    return True\n",
        "  \n",
        "  filc = node2root(node.left,value,path)\n",
        "  if filc:\n",
        "    path.append(node.data)\n",
        "    return True\n",
        "  \n",
        "  firc = node2root(node.right,value,path)\n",
        "  if firc:\n",
        "    path.append(node.data)\n",
        "    return True\n",
        "\n",
        "  return False\n",
        "\n",
        "def findlca(node,n1,n2):\n",
        "  path1 = []\n",
        "  path2 = []\n",
        "\n",
        "  ##get node 2 root path of both the nodes\n",
        "  node2root(node,n1,path1)\n",
        "  node2root(node,n2,path2)\n",
        "\n",
        "  i = len(path1)-1\n",
        "  j = len(path2)-1\n",
        "\n",
        "  while(i>=0 and j>=0 and path1[i]==path2[j] ):\n",
        "    i = i-1\n",
        "    j = j-1\n",
        "  \n",
        "  return path1[i+1]\n"
      ],
      "execution_count": null,
      "outputs": []
    },
    {
      "cell_type": "code",
      "metadata": {
        "id": "mrKZmfIRCexc"
      },
      "source": [
        "class Node: \n",
        "\tdef __init__(self, data): \n",
        "\t\tself.data = data \n",
        "\t\tself.left = None\n",
        "\t\tself.right = None\n",
        "root = Node(3) \n",
        "root.left = Node(4) \n",
        "root.right = Node(5) \n",
        "root.left.left = Node(6) \n",
        "root.left.right = Node(7) \n",
        "root.right.left = Node(8) \n",
        "root.right.right = Node(9) "
      ],
      "execution_count": null,
      "outputs": []
    },
    {
      "cell_type": "code",
      "metadata": {
        "id": "K6ZR1IE0GfX-"
      },
      "source": [
        "findlca(root,4,9)"
      ],
      "execution_count": null,
      "outputs": []
    },
    {
      "cell_type": "code",
      "metadata": {
        "id": "7BZTiOZ6HBDZ"
      },
      "source": [
        ""
      ],
      "execution_count": null,
      "outputs": []
    },
    {
      "cell_type": "code",
      "metadata": {
        "id": "sDzY1NTlLPH6"
      },
      "source": [
        ""
      ],
      "execution_count": null,
      "outputs": []
    },
    {
      "cell_type": "code",
      "metadata": {
        "id": "is05ImVKLPVN"
      },
      "source": [
        "## Question : Construct Binary tree from postorder and inorder using stack push,pop method\n",
        "\n",
        "class TreeNode:\n",
        "   def __init__(self, data = 0):\n",
        "      self.val = data\n",
        "      self.left = None\n",
        "      self.right = None\n",
        "\n",
        "class Pair:\n",
        "  def __init__(self,node,state):\n",
        "    self.node = node\n",
        "    self.state = state\n",
        "\n",
        "def constructbt(arr):\n",
        "  \n",
        "  stack = []\n",
        "  n = len(arr)\n",
        "  root = TreeNode(arr[0])\n",
        "  \n",
        "  ##lets create root pair\n",
        "  rtp = Pair(root,1)\n",
        "  stack.append(rtp)\n",
        "\n",
        "  idx = 0\n",
        "  while(len(stack)>0):\n",
        "    top = stack[0]\n",
        "\n",
        "    if top.state == 1:\n",
        "      idx = idx+1\n",
        "      if arr[idx] is not None:\n",
        "        ln = TreeNode(arr[idx])\n",
        "        top.node.left = ln\n",
        "        lp = Pair(ln,1)\n",
        "        stack.append(lp)\n",
        "      else:\n",
        "        top.node.left = None\n",
        "        \n",
        "      top.state = top.state + 1\n",
        "\n",
        "    elif top.state == 2:\n",
        "      idx = idx+1\n",
        "      if arr[idx] is not None:\n",
        "        rn = TreeNode(arr[idx])\n",
        "        top.node.right = rn\n",
        "        rp = Pair(rn,1)\n",
        "        stack.append(rp)\n",
        "      else:\n",
        "        top.node.right = None\n",
        "        \n",
        "      top.state = top.state + 1\n",
        "\n",
        "    \n",
        "    else:\n",
        "      stack.pop()\n",
        "    \n",
        "  return root"
      ],
      "execution_count": null,
      "outputs": []
    },
    {
      "cell_type": "code",
      "metadata": {
        "id": "B69V7KDuLvnD"
      },
      "source": [
        "arr = [50,25,12,None,None,37,30,None,None,None,75,62,None,70,None,None,87,None,None]\n",
        "\n",
        "root = constructbt(arr)"
      ],
      "execution_count": null,
      "outputs": []
    },
    {
      "cell_type": "code",
      "metadata": {
        "id": "K-tql0iVOM_M"
      },
      "source": [
        "def inorderTraversal(root):\n",
        "\n",
        "\tif root is None:\n",
        "\t\treturn\n",
        "\n",
        "\tinorderTraversal(root.left)\n",
        "\tprint(root.val, end=' ')\n",
        "\tinorderTraversal(root.right)\n",
        "\n",
        "inorderTraversal(root)"
      ],
      "execution_count": null,
      "outputs": []
    },
    {
      "cell_type": "code",
      "metadata": {
        "id": "xiRAcQBmQvdf"
      },
      "source": [
        ""
      ],
      "execution_count": null,
      "outputs": []
    },
    {
      "cell_type": "code",
      "metadata": {
        "id": "Sywt_kcBcfcR"
      },
      "source": [
        ""
      ],
      "execution_count": null,
      "outputs": []
    },
    {
      "cell_type": "code",
      "metadata": {
        "id": "QUSLOvbAckfi"
      },
      "source": [
        "##Question : Build binary tree from postorder and inorder arrays\n",
        "\n",
        "class TreeNode:\n",
        "  def __init__(self,data):\n",
        "    self.data = data\n",
        "    self.left = self.right = None\n",
        "\n",
        "def findindex(arr,start,end,ele):\n",
        "  idx = arr.index(ele,start,end)\n",
        "  return idx\n",
        "\n",
        "def buildTree(inorder,postorder,start,end,current):\n",
        "\n",
        "  if start>end:\n",
        "    return None\n",
        "  \n",
        "  current = current-1\n",
        "  root = TreeNode(postorder[current]) ##it will create root of the binary tree\n",
        "  \n",
        "  print(start,end)\n",
        "  if start == end:\n",
        "    return root\n",
        "  \n",
        "  idx = findindex(inorder,start,end,root.data)\n",
        "  root.right = buildTree(inorder,postorder,idx+1,end,current)\n",
        "  root.left = buildTree(inorder,postorder,start,idx-1,current)\n",
        "\n",
        "  return root\n",
        "\n"
      ],
      "execution_count": null,
      "outputs": []
    },
    {
      "cell_type": "code",
      "metadata": {
        "id": "BNMZNpAPgMtM"
      },
      "source": [
        "\n",
        "##Question : construct binary tree from post and inorder arrays\n",
        "\n",
        "# Data structure to store a Binary Tree node\n",
        "class Node:\n",
        "\tdef __init__(self, key):\n",
        "\t\tself.key = key\n",
        "# Recursive function to perform inorder traversal of a binary tree\t\t\n",
        "def inorderTraversal(root):\n",
        "\n",
        "\tif root is None:\n",
        "\t\treturn\n",
        "\n",
        "\tinorderTraversal(root.left)\n",
        "\tprint(root.key, end=' ')\n",
        "\tinorderTraversal(root.right)\n",
        "# Recursive function to perform postorder traversal of a binary tree\n",
        "def postorderTraversal(root):\n",
        "\n",
        "\tif root is None:\n",
        "\t\treturn\n",
        "\n",
        "\tpostorderTraversal(root.left)\n",
        "\tpostorderTraversal(root.right)\n",
        "\tprint(root.key, end=' ')\n",
        "\n",
        "# Recursive function to construct a binary tree from\n",
        "# inorder and postorder traversals\n",
        "def buildTree(start, end, postorder, current, dict):\n",
        "\n",
        "\t# base case\n",
        "\tif start > end:\n",
        "\t\treturn None, current\n",
        "\n",
        "\t# Consider the next item from the end of given postorder sequence\n",
        "\t# This value would be the root node of subtree formed by inorder[start, end]\n",
        "\troot = Node(postorder[current])\n",
        "\tcurrent = current - 1\n",
        "\t# search the index of current node in inorder sequence to determine\n",
        "\t# the boundary of left and right subtree\n",
        "\tindex = dict[root.key]\n",
        "\n",
        "\t# recursively construct the right subtree\n",
        "\troot.right, current = buildTree(index + 1, end, postorder, current, dict)\n",
        "\n",
        "\t# recursively construct the left subtree\n",
        "\troot.left, current = buildTree(start, index - 1, postorder, current, dict)\n",
        "\n",
        "\t# return root node\n",
        "\treturn root, current\n",
        "\n",
        "# Construct a binary tree from inorder and postorder traversals\n",
        "# This function assumes that the input is valid\n",
        "# i.e. given inorder and postorder sequence forms a binary tree\n",
        "def constructTree(inorder, postorder):\n",
        "\t\n",
        "\tn = len(inorder)\n",
        "\t# dict is used to efficiently find the index of any element in\n",
        "\t# given inorder sequence\n",
        "\tdict = {}\n",
        "\tfor i, e in enumerate(inorder):\n",
        "\t\tdict[e] = i\n",
        "  # pIndex stores the index of next unprocessed node from the end\n",
        "\t# of postorder sequence\n",
        "\tpIndex = n - 1\n",
        "\treturn buildTree(0, n - 1, postorder, pIndex, dict)[0]\n",
        "\n",
        "\n",
        "if __name__ == '__main__':\n",
        "  \"\"\" Consider below tree\n",
        "\t\t\t  1\n",
        "\t\t\t/   \\\n",
        "\t\t   /\t \\\n",
        "\t\t  2\t\t  3\n",
        "\t\t /\t\t / \\\n",
        "\t\t/\t\t/   \\\n",
        "\t   4\t   5\t 6\n",
        "\t\t\t  / \\\n",
        "\t\t\t /\t \\\n",
        "\t\t\t7\t  8\n",
        "\t\"\"\"\n",
        "  inorder = [4, 2, 1, 7, 5, 8, 3, 6]\n",
        "  postorder = [4, 2, 7, 8, 5, 6, 3, 1]\n",
        "  root = constructTree(inorder, postorder)\n",
        "  \n",
        "  # traverse the constructed tree\n",
        "  print(\"Inorder   : \", end='')\n",
        "  inorderTraversal(root)\n",
        "  \n",
        "  print(\"\\nPostorder : \", end='')\n",
        "  postorderTraversal(root)"
      ],
      "execution_count": null,
      "outputs": []
    },
    {
      "cell_type": "code",
      "metadata": {
        "id": "1iy4M3B8jnDi"
      },
      "source": [
        ""
      ],
      "execution_count": null,
      "outputs": []
    },
    {
      "cell_type": "code",
      "metadata": {
        "id": "8Y8ptt7ZjnU5"
      },
      "source": [
        ""
      ],
      "execution_count": null,
      "outputs": []
    },
    {
      "cell_type": "code",
      "metadata": {
        "id": "10aMLF1yvMqQ"
      },
      "source": [
        "##Question : Distance between two nodes is the minimum number of edges to be traversed to reach one node from other\n",
        "## Use lowest common ancestor and node2root path\n",
        "\n",
        "##Question:Lowest common ancestor of two nodes in a binary tree\n",
        "\n",
        "## first find out node to root path of given two nodes\n",
        "def node2root(node,value,path):\n",
        "  if node is None:\n",
        "    return False\n",
        "  \n",
        "  if node.data == value:\n",
        "    path.append(node)\n",
        "    return True\n",
        "  \n",
        "  filc = node2root(node.left,value,path)\n",
        "  if filc:\n",
        "    path.append(node)\n",
        "    return True\n",
        "  \n",
        "  firc = node2root(node.right,value,path)\n",
        "  if firc:\n",
        "    path.append(node)\n",
        "    return True\n",
        "\n",
        "  return False\n",
        "\n",
        "def findlca(node,n1,n2):\n",
        "  path1 = []\n",
        "  path2 = []\n",
        "\n",
        "  ##get node 2 root path of both the nodes\n",
        "  node2root(node,n1,path1)\n",
        "  node2root(node,n2,path2)\n",
        "\n",
        "  i = len(path1)-1\n",
        "  j = len(path2)-1\n",
        "\n",
        "  while(i>=0 and j>=0 and path1[i]==path2[j] ):\n",
        "    i = i-1\n",
        "    j = j-1\n",
        "  \n",
        "  return path1[i+1]\n",
        "\n",
        "def findDistance(node,n1,n2):\n",
        "\n",
        "  ## Find Lowest common ancestor\n",
        "  lca = findlca(node,n1,n2)\n",
        "\n",
        "  ## then find node2root path\n",
        "  path1 = []\n",
        "  path2 = []\n",
        "\n",
        "  node2root(lca,n1,path1)\n",
        "  node2root(lca,n2,path2)\n",
        "\n",
        "  return len(path1)-1 + len(path2)-1"
      ],
      "execution_count": null,
      "outputs": []
    },
    {
      "cell_type": "code",
      "metadata": {
        "id": "zBQfTa8S3FQj"
      },
      "source": [
        "class Node:\n",
        "  def __init__(self,data):\n",
        "    self.data = data\n",
        "    self.left = None\n",
        "    self.right = None\n",
        "\n",
        "root = Node(5) \n",
        "root.left = Node(3) \n",
        "root.right = Node(6) \n",
        "root.left.left = Node(2) \n",
        "root.left.right = Node(4) \n",
        "root.left.left.left = Node(1) \n",
        "root.right.right = Node(7) \n",
        "root.left.right.right = Node(8) \n"
      ],
      "execution_count": null,
      "outputs": []
    },
    {
      "cell_type": "code",
      "metadata": {
        "id": "VHkwdM3N3VfZ"
      },
      "source": [
        "findlca(root,1,8).data"
      ],
      "execution_count": null,
      "outputs": []
    },
    {
      "cell_type": "code",
      "metadata": {
        "id": "jc6QrWK65Xq5"
      },
      "source": [
        "def findDistance(node,n1,n2):\n",
        "\n",
        "  ## Find Lowest common ancestor\n",
        "  lca = findlca(node,n1,n2)\n",
        "\n",
        "  ## then find node2root path\n",
        "  path1 = []\n",
        "  path2 = []\n",
        "\n",
        "  node2root(lca,n1,path1)\n",
        "  node2root(lca,n2,path2)\n",
        "\n",
        "  return path1,path2\n",
        "\n",
        "\n",
        "\n",
        "\n"
      ],
      "execution_count": null,
      "outputs": []
    },
    {
      "cell_type": "code",
      "metadata": {
        "id": "iB_gUXjZ9Yx0"
      },
      "source": [
        "path1,path2 = findDistance(root,1,8)"
      ],
      "execution_count": null,
      "outputs": []
    },
    {
      "cell_type": "code",
      "metadata": {
        "id": "6TsLduMF_7rz"
      },
      "source": [
        ""
      ],
      "execution_count": null,
      "outputs": []
    },
    {
      "cell_type": "code",
      "metadata": {
        "id": "SsKy9PNU-_PD"
      },
      "source": [
        "for i in path2:\n",
        "  print(i.data)"
      ],
      "execution_count": null,
      "outputs": []
    },
    {
      "cell_type": "code",
      "metadata": {
        "id": "S8v3jVK29hzh"
      },
      "source": [
        "i = len(path1)-1\n",
        "j = len(path2)-1\n",
        "\n",
        "while(i>=0 and j>=0 and ):\n",
        "  "
      ],
      "execution_count": null,
      "outputs": []
    },
    {
      "cell_type": "code",
      "metadata": {
        "id": "r-u2SQFG9ixP"
      },
      "source": [
        ""
      ],
      "execution_count": null,
      "outputs": []
    },
    {
      "cell_type": "code",
      "metadata": {
        "id": "u-FGW_CaErYJ"
      },
      "source": [
        ""
      ],
      "execution_count": null,
      "outputs": []
    },
    {
      "cell_type": "code",
      "metadata": {
        "id": "A24lU2PBErbV"
      },
      "source": [
        "##Question: Diameter of a Binary Tree\n",
        "\n",
        "def findDia(node,diameter):\n",
        "  if node is None:\n",
        "    return 0,diameter\n",
        "  \n",
        "  left_height,diameter = findDia(node.left,diameter)\n",
        "  right_height,diameter = findDia(node.right,diameter)\n",
        "\n",
        "  max_diameter = left_height+right_height +1\n",
        "\n",
        "  if max_diameter > diameter:\n",
        "    diameter = max_diameter\n",
        "  \n",
        "  return 1 + max(left_height,right_height) , diameter"
      ],
      "execution_count": null,
      "outputs": []
    },
    {
      "cell_type": "code",
      "metadata": {
        "id": "BJKK5AItFWkV"
      },
      "source": [
        "class Node:\n",
        "  def __init__(self,data):\n",
        "    self.data = data\n",
        "    self.left = None\n",
        "    self.right = None\n",
        "\n",
        "root = Node(1)\n",
        "root.left = Node(2)\n",
        "root.right = Node(3)\n",
        "root.left.right = Node(4)\n",
        "root.right.left = Node(5)\n",
        "root.right.right = Node(6)\n",
        "root.right.left.left = Node(7)\n",
        "root.right.left.right = Node(8)\n",
        "\n",
        "\n",
        "findDia(root,0)"
      ],
      "execution_count": null,
      "outputs": []
    },
    {
      "cell_type": "code",
      "metadata": {
        "id": "QgbMIId5FfUC"
      },
      "source": [
        ""
      ],
      "execution_count": null,
      "outputs": []
    },
    {
      "cell_type": "code",
      "metadata": {
        "id": "PXcRNxBDPSxb"
      },
      "source": [
        ""
      ],
      "execution_count": null,
      "outputs": []
    },
    {
      "cell_type": "code",
      "metadata": {
        "id": "VV-6DSZ3PS4-"
      },
      "source": [
        "## Question: find the largest subtree which is a Binary Search Tree (BST)\n",
        "\n",
        "## we will use isBST function here\n",
        "## so lets write some code here\n",
        "class BSTpair:\n",
        "  def __init__(self,isBST):\n",
        "    self.isBST = self.isBST\n",
        "    self.min = None\n",
        "    self.max = None\n",
        "  \n",
        "def findBST(node):\n",
        "  \n",
        "  ##base case\n",
        "  if node is None:\n",
        "    bp = BSTpair(True)\n",
        "    bp.min = float('-inf')\n",
        "    bp.max = float('inf')\n",
        "\n",
        "  \n",
        "  lp = BSTpair(True)\n",
        "  rp = BSTpair(True)\n",
        "\n",
        "  lp = findBST(node.left)\n",
        "  rp = findBST(node.right)\n",
        "\n",
        "  mp = BSTpair(True) ## my pair\n",
        "  mp.isBST = (lp.isBST) and (rp.isBST) and (node.data >= lp.max and node.data <= rp.min)\n",
        "\n",
        "  mp.min = min(node.data,min(lp.min,rp.min))\n",
        "  mp.max = max(node.data,max(lp.max,rp.max))\n",
        "\n",
        "  return mp.isBST"
      ],
      "execution_count": null,
      "outputs": []
    },
    {
      "cell_type": "code",
      "metadata": {
        "id": "n1h37RnpKmFR"
      },
      "source": [
        ""
      ],
      "execution_count": null,
      "outputs": []
    },
    {
      "cell_type": "code",
      "metadata": {
        "id": "CP3GgYaYI-IL"
      },
      "source": [
        "## Approach 2 to find largest bst subtree in tree\n",
        "\n",
        "minVal= -2147483648\n",
        "maxVal = 2147483647\n",
        "def Findlargest(node):\n",
        "\n",
        "  if node is None:\n",
        "    return 0,minVal,maxVal,True,0\n",
        "  \n",
        "  if (node.left is None) and (node.right is None):\n",
        "    return 1,node.data,node.data,True,1\n",
        "\n",
        "  lp = Findlargest(node.left)\n",
        "  rp = Findlargest(node.right)\n",
        "\n",
        "  ret = [0,0,0,False,0]\n",
        "\n",
        "  ret[0] = (1 + lp[0]+rp[0]) ## size is (1+lp.size+rp.size)\n",
        "\n",
        "  if (lp[3] and rp[3] and ((node.data)>lp[1]) and (node.data<rp[2])):\n",
        "    \n",
        "    ret[2] = min(lp[2], min(rp[2], node.data))  \n",
        "    ret[1] = max(rp[1], max(lp[1], node.data))  \n",
        "\n",
        "    ret[3] = True\n",
        "    ret[4] = ret[0]\n",
        "  \n",
        "    return ret\n",
        "  \n",
        "  ret[4] = max(lp[4],rp[4])\n",
        "  ret[3] = False\n",
        "\n",
        "  return ret\n"
      ],
      "execution_count": null,
      "outputs": []
    },
    {
      "cell_type": "code",
      "metadata": {
        "id": "d7kiUao4Mkng"
      },
      "source": [
        "class newNode:  \n",
        "  def __init__(self, data):  \n",
        "    self.data = data  \n",
        "    self.left = None\n",
        "    self.right = None\n",
        "root = newNode(20)  \n",
        "root.left = newNode(25)  \n",
        "root.right = newNode(30)  \n",
        "root.left.left = newNode(10)\n",
        "\n",
        "Findlargest(root)[4]"
      ],
      "execution_count": null,
      "outputs": []
    },
    {
      "cell_type": "code",
      "metadata": {
        "id": "iHhboniOOynP"
      },
      "source": [
        ""
      ],
      "execution_count": null,
      "outputs": []
    },
    {
      "cell_type": "code",
      "metadata": {
        "id": "pqXqG4vkPi9F"
      },
      "source": [
        ""
      ],
      "execution_count": null,
      "outputs": []
    },
    {
      "cell_type": "code",
      "metadata": {
        "id": "60UbYNxkPjOe"
      },
      "source": [
        "##Question : Print left view of a Binary tree\n",
        "\n",
        "\n",
        "def printleftview(node,level):\n",
        "  global last_level\n",
        "\n",
        "  if node is None:\n",
        "    return \n",
        "  \n",
        "  if last_level < level:\n",
        "    print(node.data)\n",
        "    last_level = level\n",
        "  \n",
        "  printleftview(node.left,level+1)\n",
        "  printleftview(node.right,level+1)"
      ],
      "execution_count": null,
      "outputs": []
    },
    {
      "cell_type": "code",
      "metadata": {
        "id": "-S9h1Y1i--7p"
      },
      "source": [
        "class Node:\n",
        "\tdef __init__(self, key, left=None, right=None):\n",
        "\t\tself.data = key\n",
        "\t\tself.left = left\n",
        "\t\tself.right = right\n",
        "\n",
        "root = Node(1)\n",
        "root.left = Node(2)\n",
        "root.right = Node(3)\n",
        "root.left.right = Node(4)\n",
        "root.right.left = Node(5)\n",
        "root.right.right = Node(6)\n",
        "root.right.left.left = Node(7)\n",
        "root.right.left.right = Node(8)\n",
        "\n",
        "last_level = 0\n",
        "printleftview(root,1)"
      ],
      "execution_count": null,
      "outputs": []
    },
    {
      "cell_type": "code",
      "metadata": {
        "id": "wqpRTtX4_Myc"
      },
      "source": [
        ""
      ],
      "execution_count": null,
      "outputs": []
    },
    {
      "cell_type": "code",
      "metadata": {
        "id": "2h7LeT6QBGyg"
      },
      "source": [
        ""
      ],
      "execution_count": null,
      "outputs": []
    },
    {
      "cell_type": "code",
      "metadata": {
        "id": "tpk0CQ94BG9d"
      },
      "source": [
        "## Question : find if the two nodes are cousins or not\n",
        "\n",
        "def findLevel(node,node1,level):  ## to check if they are on same level or not\n",
        "  if node is None:\n",
        "    return 0\n",
        "  \n",
        "  if node.data == node1:\n",
        "    return level\n",
        "  \n",
        "  left = findLevel(node.left,node1,level+1)\n",
        "\n",
        "  if (left!=0):\n",
        "    return left\n",
        "  \n",
        "  return findLevel(node.right,node1,level+1)\n",
        "\n",
        "\n",
        "def parentcheck(node,node1,node2):\n",
        "\n",
        "  if node is None:\n",
        "    return False\n",
        "  \n",
        "  if (node.left == node1 and node.right == node2) or (node.left == node2 and node.right == node1):\n",
        "    return False  \n",
        "  \n",
        "  lc = parentcheck(node.left,node1,node2)\n",
        "\n",
        "  if lc:\n",
        "    return True\n",
        "  \n",
        "  rc = parentcheck(node.right,node1,node2)\n",
        "\n",
        "  if rc:\n",
        "    return True\n",
        "  \n",
        "  return False"
      ],
      "execution_count": null,
      "outputs": []
    },
    {
      "cell_type": "code",
      "metadata": {
        "id": "BiR23h18EvlT"
      },
      "source": [
        "class Node:\n",
        "\tdef __init__(self, key, left=None, right=None):\n",
        "\t\tself.data = key\n",
        "\t\tself.left = left\n",
        "\t\tself.right = right\n",
        "root = Node(1)\n",
        "root.left = Node(2)\n",
        "root.right = Node(3)\n",
        "root.left.left = Node(4)\n",
        "root.left.right = Node(5)\n",
        "root.right.left = Node(6)\n",
        "root.right.right = Node(7)"
      ],
      "execution_count": null,
      "outputs": []
    },
    {
      "cell_type": "code",
      "metadata": {
        "id": "F7ygS5dLFCmC"
      },
      "source": [
        "findLevel(root,6,0)"
      ],
      "execution_count": null,
      "outputs": []
    },
    {
      "cell_type": "code",
      "metadata": {
        "id": "IZkDN6W-FIh8"
      },
      "source": [
        "parentcheck(root,5,6)"
      ],
      "execution_count": null,
      "outputs": []
    },
    {
      "cell_type": "code",
      "metadata": {
        "id": "VNzNvjWzF41A"
      },
      "source": [
        ""
      ],
      "execution_count": null,
      "outputs": []
    },
    {
      "cell_type": "code",
      "metadata": {
        "id": "GcskumUWAsxt"
      },
      "source": [
        ""
      ],
      "execution_count": null,
      "outputs": []
    },
    {
      "cell_type": "code",
      "metadata": {
        "id": "Qx0i0qMIAs5p"
      },
      "source": [
        "## Question : Binary Tree Reverse Level Order Traversal \n",
        "\n",
        "def ReverseTraversal(node):\n",
        "  stack = []\n",
        "  queue = []\n",
        "\n",
        "  queue.append(node)\n",
        "\n",
        "  while(len(queue)>0):\n",
        "    node = queue.pop(0)\n",
        "    stack.append(node)\n",
        "\n",
        "    if (node.right):\n",
        "      queue.append(node.right)\n",
        "\n",
        "    if (node.left):\n",
        "      queue.append(node.left)\n",
        "\n",
        "  while(len(stack)>0):\n",
        "    node = stack.pop()\n",
        "    print(node.data)\n",
        " "
      ],
      "execution_count": null,
      "outputs": []
    },
    {
      "cell_type": "code",
      "metadata": {
        "id": "D2J6QfuRVLda"
      },
      "source": [
        ""
      ],
      "execution_count": null,
      "outputs": []
    },
    {
      "cell_type": "code",
      "metadata": {
        "id": "_TXSVQS6-pq1"
      },
      "source": [
        ""
      ],
      "execution_count": null,
      "outputs": []
    },
    {
      "cell_type": "code",
      "metadata": {
        "id": "AHcy9v-yVWBQ"
      },
      "source": [
        "class Pair:\n",
        "  def __init__(self,node,state):\n",
        "    self.node = node\n",
        "    self.state = state"
      ],
      "execution_count": null,
      "outputs": []
    },
    {
      "cell_type": "code",
      "metadata": {
        "id": "EckaiyaoVWJF"
      },
      "source": [
        "##Question : Iterative pre,post,In order traversal of a Binary Tree\n",
        "\n",
        "def Ierative(node):\n",
        "  stack = []\n",
        "  rp = Pair(node,1)\n",
        "  stack.append(rp)\n",
        "  \n",
        "  preorder = []\n",
        "  inorder = []\n",
        "  postorder = []\n",
        "  while(len(stack)>0):\n",
        "    top = stack[-1]  ## same like stack.peek() give the top most element in the stack\n",
        "\n",
        "    if (top.state == 1):  ## pre ,state++,left\n",
        "      preorder.append(top.node.data)\n",
        "      top.state = top.state+1\n",
        "\n",
        "      if (top.node.left is not None):\n",
        "        lp = Pair(top.node.left,1)\n",
        "        stack.append(lp)\n",
        "    elif (top.state == 2): ## in , state++,right\n",
        "      inorder.append(top.node.data)\n",
        "      top.state = top.state+1\n",
        "      \n",
        "      if(top.node.right is not None):\n",
        "        rp = Pair(top.node.right,1)\n",
        "        stack.append(rp)\n",
        "    else: ## post,pop\n",
        "      postorder.append(top.node.data)\n",
        "      stack.pop()\n",
        "  print(preorder)\n",
        "  print(inorder)\n",
        "  print(postorder)\n",
        "\n"
      ],
      "execution_count": null,
      "outputs": []
    },
    {
      "cell_type": "code",
      "metadata": {
        "id": "j0g5680gBUW8"
      },
      "source": [
        "class Node: \n",
        "      \n",
        "    def __init__(self, data): \n",
        "        self.data = data  \n",
        "        self.left = None\n",
        "        self.right = None\n",
        "root = Node(6); \n",
        "root.left = Node(4); \n",
        "root.right = Node(10); \n",
        "root.left.right = Node(5); \n",
        "root.right.right = Node(12); \n",
        "root.right.left = Node(8)"
      ],
      "execution_count": null,
      "outputs": []
    },
    {
      "cell_type": "code",
      "metadata": {
        "id": "6O-VAtreBiBw"
      },
      "source": [
        "Ierative(root)"
      ],
      "execution_count": null,
      "outputs": []
    },
    {
      "cell_type": "code",
      "metadata": {
        "id": "09oyQzOyD1Tf"
      },
      "source": [
        ""
      ],
      "execution_count": null,
      "outputs": []
    },
    {
      "cell_type": "code",
      "metadata": {
        "id": "ptRNLmWLD1gQ"
      },
      "source": [
        ""
      ],
      "execution_count": null,
      "outputs": []
    },
    {
      "cell_type": "code",
      "metadata": {
        "id": "-aLQQht8D3Vo"
      },
      "source": [
        "## Question : Vertical Sum of nodes in a Binary Tree\n",
        "\n",
        "def VerticalSum(node,d,dic):\n",
        "  if node is None:\n",
        "    return\n",
        "  \n",
        "  dic[d] = dic.get(d,0)+node.data\n",
        "\n",
        "\n",
        "  VerticalSum(node.left,d-1,dic)\n",
        "  VerticalSum(node.right,d+1,dic)\n",
        "\n",
        "  return dic"
      ],
      "execution_count": null,
      "outputs": []
    },
    {
      "cell_type": "code",
      "metadata": {
        "id": "7JIq73cgKjor"
      },
      "source": [
        "class TreeNode:\n",
        "    def __init__(self, data, left=None, right=None):\n",
        "        self.data = data\n",
        "        self.left = left\n",
        "        self.right = right\n",
        "root = TreeNode(1)\n",
        "root.left = TreeNode(2)\n",
        "root.right = TreeNode(3)\n",
        "root.right.left = TreeNode(5)\n",
        "root.right.right = TreeNode(6)\n",
        "root.right.left.left = TreeNode(7)\n",
        "root.right.left.right = TreeNode(8)"
      ],
      "execution_count": null,
      "outputs": []
    },
    {
      "cell_type": "code",
      "metadata": {
        "id": "MZRnny1KKyoq"
      },
      "source": [
        "ans = VerticalSum(root,0,dic={})"
      ],
      "execution_count": null,
      "outputs": []
    },
    {
      "cell_type": "code",
      "metadata": {
        "id": "JEa5s4aNK16X"
      },
      "source": [
        "ans.get(3,0)"
      ],
      "execution_count": null,
      "outputs": []
    },
    {
      "cell_type": "code",
      "metadata": {
        "id": "HoUbsR8zK2qv"
      },
      "source": [
        "ans[3] = ans.get(3,0)"
      ],
      "execution_count": null,
      "outputs": []
    },
    {
      "cell_type": "code",
      "metadata": {
        "id": "ZWw0MwdbNpZJ"
      },
      "source": [
        "ans"
      ],
      "execution_count": null,
      "outputs": []
    },
    {
      "cell_type": "code",
      "metadata": {
        "id": "k8UMrBwoNvnn"
      },
      "source": [
        ""
      ],
      "execution_count": null,
      "outputs": []
    },
    {
      "cell_type": "code",
      "metadata": {
        "id": "Idw4mjHeNxFX"
      },
      "source": [
        ""
      ],
      "execution_count": null,
      "outputs": []
    },
    {
      "cell_type": "code",
      "metadata": {
        "id": "-uOt35HUOFsd"
      },
      "source": [
        "## Question : Find the maximum sum leaf to root path in a Binary Tree \n",
        "## we will use root2node path here\n",
        "\n",
        "def root2node(node,value,path):\n",
        "  if node is None:\n",
        "    return False\n",
        "  \n",
        "  if node.data == value:\n",
        "    path.append(node.data)\n",
        "    return True\n",
        "  \n",
        "  filc = root2node(node.left,value,path)\n",
        "  if filc:\n",
        "    path.append(node.data)\n",
        "    return True\n",
        "  \n",
        "  firc = root2node(node.right,value,path)\n",
        "  if firc:\n",
        "    path.append(node.data)\n",
        "    return True\n",
        "\n",
        "  return False\n",
        "\n",
        "def Maxdistance(node,node_count):\n",
        "\n",
        "  if node is None:\n",
        "    return \n",
        "\n",
        "  if (node.left is None) and (node.right is None):\n",
        "    node_count.append(node)\n",
        "\n",
        "  Maxdistance(node.left,node_count)\n",
        "  Maxdistance(node.right,node_count)\n",
        "\n",
        "  return node_count\n",
        "\n",
        "def FindMax(node):\n",
        "  max_dist = 0\n",
        "  node_list = []\n",
        "  node_list = Maxdistance(node,node_list) ##contains all the leaf node\n",
        "\n",
        "  path = []\n",
        "  for i in range(len(node_list)):\n",
        "    if root2node(node,node_list[i].data,path):\n",
        "      if sum(path) > max_dist:\n",
        "        max_dist = sum(path)\n",
        "        path.clear()\n",
        "  return max_dist\n",
        "\n",
        "      \n",
        "  \n",
        "\n",
        "  \n",
        "  \n",
        "\n",
        "\n",
        "    \n",
        "\n"
      ],
      "execution_count": null,
      "outputs": []
    },
    {
      "cell_type": "code",
      "metadata": {
        "id": "1W4B87TcPxSf"
      },
      "source": [
        "FindMax(root)"
      ],
      "execution_count": null,
      "outputs": []
    },
    {
      "cell_type": "code",
      "metadata": {
        "id": "A6mlqikWSSm9"
      },
      "source": [
        ""
      ],
      "execution_count": null,
      "outputs": []
    },
    {
      "cell_type": "code",
      "metadata": {
        "id": "XEcLKYoWbeKr"
      },
      "source": [
        ""
      ],
      "execution_count": null,
      "outputs": []
    },
    {
      "cell_type": "code",
      "metadata": {
        "id": "-D5vIvCIbe2H"
      },
      "source": [
        "## Question : Print spiral order of Binary tree\n",
        "\n",
        "def printSpiral(node):\n",
        "\n",
        "  if node is None:\n",
        "    return \n",
        "  \n",
        "  s1 = []\n",
        "  s2 = []\n",
        "\n",
        "  s1.append(node)\n",
        "\n",
        "  while(len(s1)>0 or len(s2)>0 ):\n",
        "\n",
        "    while(len(s1)>0):\n",
        "      root1 = s1.pop(-1)\n",
        "      print(root1.data,' ')\n",
        "\n",
        "      if (root1.right is not None):\n",
        "        s2.append(root1.right)\n",
        "      if (root1.left is not None):\n",
        "        s2.append(root1.left)\n",
        "      \n",
        "    while(len(s2)>0):\n",
        "      root2 = s2.pop(-1)\n",
        "      print(root2.data,' ')\n",
        "\n",
        "      if (root2.left is not None):\n",
        "        s1.append(root2.left)\n",
        "      if (root2.right is not None):\n",
        "        s1.append(root2.right)\n",
        "\n"
      ],
      "execution_count": null,
      "outputs": []
    },
    {
      "cell_type": "code",
      "metadata": {
        "id": "QbuoNQ_2hrpK"
      },
      "source": [
        "class newNode: \n",
        "    def __init__(self, data): \n",
        "        self.data = data  \n",
        "        self.left = None\n",
        "        self.right = None\n",
        "\n",
        "root = newNode(1)  \n",
        "root.left = newNode(2)  \n",
        "root.right = newNode(3)  \n",
        "root.left.left = newNode(7)  \n",
        "root.left.right = newNode(6)  \n",
        "root.right.left = newNode(5)  \n",
        "root.right.right = newNode(4)\n",
        "\n",
        "printSpiral(root)"
      ],
      "execution_count": null,
      "outputs": []
    },
    {
      "cell_type": "code",
      "metadata": {
        "id": "c2HGz5nxhtfL"
      },
      "source": [
        "class Pair:\n",
        "    def __init__(self,node,state):\n",
        "        self.node = node\n",
        "        self.state = state\n",
        "def preOrder(root): \n",
        "   #Write your code here    \n",
        "    inorder = []\n",
        "    preorder = []\n",
        "    stack = []\n",
        "    rp = Pair(root,1)\n",
        "    stack.append(rp)\n",
        "    \n",
        "    while(len(stack)>0):\n",
        "        top = stack[-1]\n",
        "        \n",
        "        if top.state == 1 :\n",
        "            top.state = top.state + 1\n",
        "            preorder.append(top.node.data)\n",
        "            \n",
        "            if (top.node.left is not None):\n",
        "                lp = Pair(top.node.left,1)\n",
        "                stack.append(lp)\n",
        "                \n",
        "                \n",
        "        \n",
        "        elif top.state == 2 :\n",
        "            top.state = top.state + 1\n",
        "            inorder.append(top.node.data)\n",
        "            \n",
        "            if (top.node.right is not None):\n",
        "                rp = Pair(top.node.right,1)\n",
        "                stack.append(rp)\n",
        "        else:\n",
        "            stack.pop()\n",
        "    \n",
        "    return preorder\n"
      ],
      "execution_count": null,
      "outputs": []
    },
    {
      "cell_type": "code",
      "metadata": {
        "id": "B7geQbFfnmJN"
      },
      "source": [
        "class Node: \n",
        "      \n",
        "    def __init__(self, data): \n",
        "        self.data = data  \n",
        "        self.left = None\n",
        "        self.right = None\n",
        "\n",
        "root = Node(6); \n",
        "root.left = Node(4); \n",
        "root.right = Node(10); \n",
        "root.left.right = Node(5); \n",
        "root.right.right = Node(12); \n",
        "root.right.left = Node(8);\n",
        "actual = preOrder(root)\n",
        "\n",
        "\n",
        "        "
      ],
      "execution_count": null,
      "outputs": []
    },
    {
      "cell_type": "code",
      "metadata": {
        "id": "HzmErjTdnx-b"
      },
      "source": [
        "actual"
      ],
      "execution_count": null,
      "outputs": []
    },
    {
      "cell_type": "code",
      "metadata": {
        "id": "84NG_81dnzBI"
      },
      "source": [
        ""
      ],
      "execution_count": null,
      "outputs": []
    },
    {
      "cell_type": "code",
      "metadata": {
        "id": "0bvAi0Gy-Drc"
      },
      "source": [
        ""
      ],
      "execution_count": null,
      "outputs": []
    },
    {
      "cell_type": "code",
      "metadata": {
        "id": "5clJjmD3-DzD"
      },
      "source": [
        "## Question : Check if two N-ary trees are Mirror image or not\n",
        "\n",
        "class Node:                   ## way of representing n-ary tree (tree with n child)\n",
        "  def __init__(self,key):\n",
        "    self.key = key\n",
        "    self.child = []\n",
        "\n",
        "def mirrortree(root):\n",
        "\n",
        "  if root is None:\n",
        "    return\n",
        "  \n",
        "  n = len(root.child)\n",
        "\n",
        "  if n<2 :\n",
        "    return\n",
        "  \n",
        "  for i in range(n):\n",
        "    mirrortree(root.child[i])\n",
        "  \n",
        "  root.child.reverse()\n",
        "\n",
        "\n",
        "\n",
        "## Not Completed\n"
      ],
      "execution_count": null,
      "outputs": []
    },
    {
      "cell_type": "code",
      "metadata": {
        "id": "NdmGC3KtAEmh"
      },
      "source": [
        ""
      ],
      "execution_count": null,
      "outputs": []
    },
    {
      "cell_type": "code",
      "metadata": {
        "id": "7NiUaTexAFcv"
      },
      "source": [
        ""
      ],
      "execution_count": null,
      "outputs": []
    },
    {
      "cell_type": "code",
      "metadata": {
        "id": "t_8HCow3AFk4"
      },
      "source": [
        "## Question : Mirror Image of a Binary Tree\n",
        "class Node:\n",
        "    def __init__(self, data, left=None, right=None):\n",
        "        self.data = data\n",
        "        self.left = left\n",
        "        self.right = right\n",
        "\n",
        "def MirrorTree(node):\n",
        "  \n",
        "  if node is None:\n",
        "    return None\n",
        "  \n",
        "  else:\n",
        "    temp = node\n",
        "\n",
        "    MirrorTree(node.left)\n",
        "    MirrorTree(node.right)\n",
        "\n",
        "    temp = node.left\n",
        "    node.left = node.right\n",
        "    node.right = temp\n",
        "  \n",
        "  return node\n",
        "  \n",
        "  \n"
      ],
      "execution_count": null,
      "outputs": []
    },
    {
      "cell_type": "code",
      "metadata": {
        "id": "KQmmjSClSwO7"
      },
      "source": [
        ""
      ],
      "execution_count": null,
      "outputs": []
    },
    {
      "cell_type": "code",
      "metadata": {
        "id": "udu2qjKVhBwU"
      },
      "source": [
        ""
      ],
      "execution_count": null,
      "outputs": []
    },
    {
      "cell_type": "code",
      "metadata": {
        "id": "gQUG8OWjhB4y"
      },
      "source": [
        "## Question : Maximum sum path in a Binary tree\n",
        "ans = 0\n",
        "def Maxsum(node):\n",
        "  global ans\n",
        "\n",
        "  if node is None:\n",
        "    return 0\n",
        "\n",
        "  left = Maxsum(node.left)\n",
        "  right = Maxsum(node.right)\n",
        "\n",
        "  max_val = max(max(left,right)+node.data,node.data)\n",
        "  max_top = max(max_val,left+right+node.data)\n",
        "  ans = max(max_top,ans)\n",
        "\n",
        "  return ans\n"
      ],
      "execution_count": null,
      "outputs": []
    },
    {
      "cell_type": "code",
      "metadata": {
        "id": "Bfn0Y9-ehqSB"
      },
      "source": [
        "class Node:\n",
        "\n",
        "    def __init__(self, data): \n",
        "        self.data = data \n",
        "        self.left = None\n",
        "        self.right = None\n",
        "\n",
        "root = Node(10) \n",
        "root.left = Node(2)\n",
        "root.right = Node(15)\n",
        "root.left.left = Node(-4)\n",
        "root.left.right = Node(-6) \n",
        "root.left.left.left = Node(28)\n",
        "root.left.left.right = Node(-22)\n",
        "root.right.right = Node(-25)\n",
        "root.right.right.left = Node(3)\n",
        "root.right.right.right = Node(4)\n",
        "\n",
        "ans = 0\n",
        "Maxsum(root)\n",
        "\n"
      ],
      "execution_count": null,
      "outputs": []
    },
    {
      "cell_type": "code",
      "metadata": {
        "id": "3mmoJr3UiDyI"
      },
      "source": [
        "\n",
        "class Node:\n",
        "\n",
        "    def __init__(self, data): \n",
        "        self.data = data \n",
        "        self.left = None\n",
        "        self.right = None\n",
        "        \n",
        "result=0        \n",
        "def findMaxPathSumBT(root):\n",
        "    global result\n",
        "    if root is None: \n",
        "        return 0 \n",
        "    # left and right store maximum path sum going through left and right child of root respetively \n",
        "    left = findMaxPathSumBT(root.left) \n",
        "    right = findMaxPathSumBT(root.right) \n",
        "\n",
        "   # Max path for parent call of root. This path must include at most one child of root \n",
        "    max_single = max(max(left, right) + root.data, root.data) \n",
        "\n",
        "    # Max top represents the sum when the node under consideration is the root of the maxSum path and no ancestor of root are there in max sum path  \n",
        "    max_top = max(max_single, left+right+ root.data) \n",
        "    # Global variable to store the changes Store the maximum result \n",
        "    result = max(result, max_top)  \n",
        "  \n",
        "    return max_single \n",
        "    \n",
        "\n",
        "root = Node(10) \n",
        "root.left = Node(2)\n",
        "root.right = Node(15)\n",
        "root.left.left = Node(-4)\n",
        "root.left.right = Node(-6) \n",
        "root.left.left.left = Node(28)\n",
        "root.left.left.right = Node(-22)\n",
        "root.right.right = Node(-25)\n",
        "root.right.right.left = Node(3)\n",
        "root.right.right.right = Node(4)\n",
        "findMaxPathSumBT(root)\n",
        "print ('Max path sum is' , result)"
      ],
      "execution_count": null,
      "outputs": []
    },
    {
      "cell_type": "code",
      "metadata": {
        "id": "x8s6b79wixdL"
      },
      "source": [
        ""
      ],
      "execution_count": null,
      "outputs": []
    },
    {
      "cell_type": "code",
      "metadata": {
        "id": "gqkCSW7Fi782"
      },
      "source": [
        ""
      ],
      "execution_count": null,
      "outputs": []
    },
    {
      "cell_type": "code",
      "metadata": {
        "id": "PQgVqdaGi8BC"
      },
      "source": [
        "## Question : Given a Binary Tree, Convert this to a tree where each node contains the sum of the left and right node\n",
        "\n",
        "def convert(node):\n",
        "\n",
        "  if (node is None):\n",
        "    return 0\n",
        "  \n",
        "  old_val = node.data\n",
        "\n",
        "  left = convert(node.left)\n",
        "  right = convert(node.right)\n",
        "\n",
        "  node.data = left+right\n",
        "\n",
        "  return node.data + old_val\n",
        "\n",
        "\n"
      ],
      "execution_count": null,
      "outputs": []
    },
    {
      "cell_type": "code",
      "metadata": {
        "id": "1QTnR0S8qFZK"
      },
      "source": [
        "\n",
        "def Inorder(node,inorder) :\n",
        "    #Write your code here\n",
        "    # This function will return the actua\n",
        "    \n",
        "    if node is None:\n",
        "        return\n",
        "    \n",
        "    Inorder(node.left,inorder)\n",
        "    inorder.append(node.data)\n",
        "    Inorder(node.right,inorder)\n",
        "    \n",
        "    return inorder"
      ],
      "execution_count": null,
      "outputs": []
    },
    {
      "cell_type": "code",
      "metadata": {
        "id": "UPP-MQM_q0Cc"
      },
      "source": [
        "\n",
        "class newNode:  \n",
        "      \n",
        "    def __init__(self, data):  \n",
        "        self.left = None\n",
        "        self.right = None\n",
        "        self.data = data\n",
        "root = newNode(10)  \n",
        "root.left = newNode(-2)  \n",
        "root.right = newNode(6)  \n",
        "root.left.left = newNode(8)  \n",
        "root.left.right = newNode(-4)  \n",
        "root.right.left = newNode(7)  \n",
        "root.right.right = newNode(5)"
      ],
      "execution_count": null,
      "outputs": []
    },
    {
      "cell_type": "code",
      "metadata": {
        "id": "h4rVNxd5q9UR"
      },
      "source": [
        "first = []\n",
        "first = Inorder(root,first)\n",
        "second = []\n",
        "convert(root)\n",
        "second = Inorder(root,second)"
      ],
      "execution_count": null,
      "outputs": []
    },
    {
      "cell_type": "code",
      "metadata": {
        "id": "uuoLtUEarYwO"
      },
      "source": [
        "first"
      ],
      "execution_count": null,
      "outputs": []
    },
    {
      "cell_type": "code",
      "metadata": {
        "id": "DcT1YozPrgOS"
      },
      "source": [
        "second"
      ],
      "execution_count": null,
      "outputs": []
    },
    {
      "cell_type": "code",
      "metadata": {
        "id": "kxviJsCUrhi2"
      },
      "source": [
        "##################### end of Binary Tree ################################"
      ],
      "execution_count": null,
      "outputs": []
    },
    {
      "cell_type": "code",
      "metadata": {
        "id": "NYRPGFwtrq6B"
      },
      "source": [
        "## Chapter-03 (Linked List)"
      ],
      "execution_count": null,
      "outputs": []
    },
    {
      "cell_type": "code",
      "metadata": {
        "id": "2CWXaN4Srq9c"
      },
      "source": [
        "class Node:\n",
        "  def __init__(self,data):\n",
        "    self.data = data\n",
        "    self.next = None\n",
        "\n",
        "node1 = Node(1)\n",
        "node2 = Node(2)"
      ],
      "execution_count": null,
      "outputs": []
    },
    {
      "cell_type": "code",
      "metadata": {
        "id": "gVpKpEiJ5Z_D"
      },
      "source": [
        "node1.next , node2.next"
      ],
      "execution_count": null,
      "outputs": []
    },
    {
      "cell_type": "code",
      "metadata": {
        "id": "eOQNroV95dKB"
      },
      "source": [
        "node1.next = node2\n",
        "node1.next"
      ],
      "execution_count": null,
      "outputs": []
    },
    {
      "cell_type": "code",
      "metadata": {
        "id": "FPm_eJlm5ncY"
      },
      "source": [
        "node1 = node1.next"
      ],
      "execution_count": null,
      "outputs": []
    },
    {
      "cell_type": "code",
      "metadata": {
        "id": "2bJVrvS95t33"
      },
      "source": [
        "print(node1.next)"
      ],
      "execution_count": null,
      "outputs": []
    },
    {
      "cell_type": "code",
      "metadata": {
        "id": "JUoR_Zdi5vjO"
      },
      "source": [
        ""
      ],
      "execution_count": null,
      "outputs": []
    },
    {
      "cell_type": "code",
      "metadata": {
        "id": "UUQLE4LTdSkp"
      },
      "source": [
        ""
      ],
      "execution_count": null,
      "outputs": []
    },
    {
      "cell_type": "code",
      "metadata": {
        "id": "0--9mFV9dSvz"
      },
      "source": [
        "## Question : Merge two sorted Linked List\n",
        "\n",
        "class Node:\n",
        "  # constructor\n",
        "  def __init__(self, data = None, next=None): \n",
        "    self.data = data\n",
        "    self.next = next\n",
        "\n",
        "class LinkedList:\n",
        "  def __init__(self):\n",
        "    self.head = None\n",
        "  \n",
        "  def insert(self,data):\n",
        "    newNode = Node(data)\n",
        "    if (self.head):\n",
        "      current = self.head\n",
        "      while(current.next):\n",
        "        current = current.next\n",
        "      current.next = newNode\n",
        "    else:\n",
        "      self.head = newNode\n",
        "  def printLL(self):\n",
        "    current = self.head\n",
        "    while(current):\n",
        "      print(current.data)\n",
        "      current = current.next\n",
        "  \n",
        "def merge(List_1,List_2):\n",
        "  one = List_1.head\n",
        "  two = List_2.head\n",
        "\n",
        "  res = LinkedList()\n",
        "\n",
        "  while((one is not None) and (two is not None)):\n",
        "    if (one.data > two.data):\n",
        "      res.insert(one.data)\n",
        "      one.next\n",
        "    else:\n",
        "      res.insert(two.data)\n",
        "      two.next\n",
        "\n",
        "  while(one is not None):\n",
        "    res.insert(one.data)\n",
        "    one.next\n",
        "    \n",
        "  while(two is not None):\n",
        "    res.insert(two.data)\n",
        "    two.next\n",
        "    \n",
        "  return res\n",
        "      \n",
        "  "
      ],
      "execution_count": null,
      "outputs": []
    },
    {
      "cell_type": "code",
      "metadata": {
        "id": "OUQjSjA-hkZf"
      },
      "source": [
        "LL1 = LinkedList()\n",
        "LL1.insert(2)\n",
        "LL1.insert(4)\n",
        "LL1.insert(6)\n",
        "LL1.insert(8)\n",
        "# Linked List with odd numbers\n",
        "LL2 = LinkedList()\n",
        "LL2.insert(1)\n",
        "LL2.insert(3)\n",
        "LL2.insert(5)\n",
        "LL2.insert(7)"
      ],
      "execution_count": null,
      "outputs": []
    },
    {
      "cell_type": "code",
      "metadata": {
        "id": "pulJ-MQaj2Zf"
      },
      "source": [
        "LL1.head.next.next.data"
      ],
      "execution_count": null,
      "outputs": []
    },
    {
      "cell_type": "code",
      "metadata": {
        "id": "garEQLR-h-va"
      },
      "source": [
        "LL3.printLL()"
      ],
      "execution_count": null,
      "outputs": []
    },
    {
      "cell_type": "code",
      "metadata": {
        "id": "VmI8zSy1G-ss"
      },
      "source": [
        ""
      ],
      "execution_count": null,
      "outputs": []
    },
    {
      "cell_type": "code",
      "metadata": {
        "id": "C-rXfJFoG_DK"
      },
      "source": [
        ""
      ],
      "execution_count": null,
      "outputs": []
    },
    {
      "cell_type": "code",
      "metadata": {
        "id": "dmbxGkbVkMnK"
      },
      "source": [
        "## Question : Merge two sorted Linked List\n",
        "\n",
        "def MergeLL(L1,L2,temp):\n",
        "  new_list = Node()\n",
        "\n",
        "  if (L1 is None):\n",
        "    return L2\n",
        "  if (L2 is None):\n",
        "    return L1\n",
        "  if (L1.data <= L2.data):\n",
        "    temp = L1\n",
        "    L1 = temp.next\n",
        "  else:\n",
        "    temp = L2\n",
        "    L2 = temp.next\n",
        "  \n",
        "  new_list =  temp\n",
        "\n",
        "  while( (L1 is not None) and (L2 is not None)):\n",
        "\n",
        "    if (L1.data <= L2.data):\n",
        "      temp.next = L1\n",
        "      temp = L1\n",
        "      L1 = temp.next\n",
        "    else:\n",
        "      temp.next = L2\n",
        "      temp = L2\n",
        "      L2 = temp.next\n",
        "    \n",
        "  if (L1 is None):\n",
        "    temp.next = L2\n",
        "  if (L2 is None):\n",
        "    temp.next = L1\n",
        "  \n",
        "  return new_list"
      ],
      "execution_count": null,
      "outputs": []
    },
    {
      "cell_type": "code",
      "metadata": {
        "id": "_AH0zHv_L5hl"
      },
      "source": [
        "class Node:\n",
        "\tdef __init__(self, data=None, next=None):\n",
        "\t\tself.data = data\n",
        "\t\tself.next = next\n",
        "\n",
        "def printList(msg, head):\n",
        "\tprint(msg, end='')\n",
        "\tptr = head\n",
        "\twhile ptr:\n",
        "\t\tprint(ptr.data, end=\" -> \")\n",
        "\t\tptr = ptr.next\n",
        "\tprint(\"None\")\n",
        "\n",
        "a = b = None\n",
        "a = Node(1) \n",
        "a.next = Node(3) \n",
        "a.next.next = Node(5) \n",
        "  \n",
        "\n",
        "b = Node(2) \n",
        "b.next = Node(4) \n",
        "b.next.next = Node(6)"
      ],
      "execution_count": null,
      "outputs": []
    },
    {
      "cell_type": "code",
      "metadata": {
        "id": "VBydqpYEMJo1"
      },
      "source": [
        "printList('First  ', a)\n",
        "printList('second  ', b)"
      ],
      "execution_count": null,
      "outputs": []
    },
    {
      "cell_type": "code",
      "metadata": {
        "id": "u4bVAQ0iMKhN"
      },
      "source": [
        "temp = Node()\n",
        "L3 = MergeLL(a,b,temp)"
      ],
      "execution_count": null,
      "outputs": []
    },
    {
      "cell_type": "code",
      "metadata": {
        "id": "0o9DqTIeMu7v"
      },
      "source": [
        "printList('third  ', L3)"
      ],
      "execution_count": null,
      "outputs": []
    },
    {
      "cell_type": "code",
      "metadata": {
        "id": "RelaXlPyMyVZ"
      },
      "source": [
        ""
      ],
      "execution_count": null,
      "outputs": []
    },
    {
      "cell_type": "code",
      "metadata": {
        "id": "sUlNC1AdM7Ta"
      },
      "source": [
        ""
      ],
      "execution_count": null,
      "outputs": []
    },
    {
      "cell_type": "code",
      "metadata": {
        "id": "sWR_LLFsM7bg"
      },
      "source": [
        "## Question : Given a singly linked list, determine if it is a palindrome\n",
        "\n",
        "def Findmiddle(LL):\n",
        "  fast_ptr = LL\n",
        "  slow_ptr = LL\n",
        "\n",
        "  while( (fast_ptr is not None) and (fast_ptr.next is not None)):\n",
        "    fast_ptr = fast_ptr.next.next\n",
        "    slow_ptr = slow_ptr.next\n",
        "  \n",
        "  return slow_ptr\n",
        "\n",
        "def printList(msg, head):\n",
        "\tprint(msg, end='')\n",
        "\tptr = head\n",
        "\twhile ptr:\n",
        "\t\tprint(ptr.data, end=\" -> \")\n",
        "\t\tptr = ptr.next\n",
        "\tprint(\"None\")\n"
      ],
      "execution_count": null,
      "outputs": []
    },
    {
      "cell_type": "code",
      "metadata": {
        "id": "jNC7Q2qaUpds"
      },
      "source": [
        "class Node: \n",
        "  def __init__(self, data): \n",
        "    self.data = data \n",
        "    self.next = None \n",
        "\n",
        "LL = Node(1)\n",
        "LL.next = Node(2)\n",
        "LL.next.next = Node(2)\n",
        "LL.next.next.next = Node(1)"
      ],
      "execution_count": null,
      "outputs": []
    },
    {
      "cell_type": "code",
      "metadata": {
        "id": "pxxV6YDrUz2n"
      },
      "source": [
        "class LinkesList:\n",
        "  def __init__(self):\n",
        "    self.head = None\n",
        "  \n",
        "  def ispalindrome(self):\n",
        "    node = self.head\n",
        "    comp = []\n",
        "\n",
        "    while (node):\n",
        "      comp.append(node.data)\n",
        "      node = node.next\n",
        "    \n",
        "    node = self.head\n",
        "    for item in comp[::-1]:\n",
        "      if (item != node.data):\n",
        "        return False\n",
        "      node = node.next\n",
        "    return True\n"
      ],
      "execution_count": null,
      "outputs": []
    },
    {
      "cell_type": "code",
      "metadata": {
        "id": "mANWEj-5UAGM"
      },
      "source": [
        "class Node: \n",
        "  def __init__(self, data): \n",
        "    self.data = data \n",
        "    self.next = None \n",
        "\n",
        "LL = LinkesList()\n",
        "LL.head = Node(1)\n",
        "LL.head.next = Node(2)\n",
        "LL.head.next.next = Node(2)\n",
        "LL.head.next.next.next = Node(1)"
      ],
      "execution_count": null,
      "outputs": []
    },
    {
      "cell_type": "code",
      "metadata": {
        "id": "Cxl825U_WMbW"
      },
      "source": [
        "LL.ispalindrome()"
      ],
      "execution_count": null,
      "outputs": []
    },
    {
      "cell_type": "code",
      "metadata": {
        "id": "CJrIagkPWPHA"
      },
      "source": [
        "def palindrome(LL):\n",
        "  curr = LL\n",
        "\n",
        "  comp = []\n",
        "  while(curr):\n",
        "    comp.append(curr.data)\n",
        "    curr = curr.next\n",
        "  \n",
        "  start = LL\n",
        "\n",
        "  for item in comp[::-1]:\n",
        "    if item != start.data:\n",
        "      return False\n",
        "    \n",
        "    start = start.next\n",
        "  \n",
        "  return True"
      ],
      "execution_count": null,
      "outputs": []
    },
    {
      "cell_type": "code",
      "metadata": {
        "id": "zPDNzqqhYQIs"
      },
      "source": [
        "class Node: \n",
        "  def __init__(self, data): \n",
        "    self.data = data \n",
        "    self.next = None \n",
        "\n",
        "LL = Node(1)\n",
        "LL.next = Node(2)\n",
        "LL.next.next = Node(2)\n",
        "LL.next.next.next = Node(1)"
      ],
      "execution_count": null,
      "outputs": []
    },
    {
      "cell_type": "code",
      "metadata": {
        "id": "a_TzAczKYVL7"
      },
      "source": [
        "palindrome(LL)"
      ],
      "execution_count": null,
      "outputs": []
    },
    {
      "cell_type": "code",
      "metadata": {
        "id": "gLADHMWaYXDQ"
      },
      "source": [
        ""
      ],
      "execution_count": null,
      "outputs": []
    },
    {
      "cell_type": "code",
      "metadata": {
        "id": "OyNapLwXZNdO"
      },
      "source": [
        ""
      ],
      "execution_count": null,
      "outputs": []
    },
    {
      "cell_type": "code",
      "metadata": {
        "id": "Y4srN4l4ZNpB"
      },
      "source": [
        "## Question : Given a Linked List of integers, write a function to modify the linked list such that all even numbers appear before all the odd numbers in the modified linked list. Also, keep the order of even and odd numbers same..\n",
        "\n",
        "class Node:\n",
        "  def __init__(self,data=None):\n",
        "    self.data = data\n",
        "    self.next = None\n",
        "\n",
        "class LinkedList:\n",
        "  def __init__(self):\n",
        "    self.head = None\n",
        "  \n",
        "  def insert(self,data):\n",
        "    newNode = Node(data)\n",
        "    if (self.head):\n",
        "      current = self.head\n",
        "      while(current.next):\n",
        "        current = current.next\n",
        "      current.next = newNode\n",
        "    else:\n",
        "      self.head = newNode\n",
        "  \n",
        "  def printLL(self):\n",
        "    current = self.head\n",
        "    while(current):\n",
        "      print(current.data)\n",
        "      current = current.next\n",
        "\n",
        "def EvenOdd(LL):\n",
        "  \n",
        "  curr = LL.head\n",
        "  L1 = LinkedList()\n",
        "  L2 = LinkedList()\n",
        "\n",
        "  if (curr.data %2 == 0):\n",
        "    L1.head = curr\n",
        "    curr = curr.next\n",
        "  \n",
        "  if (curr.data %2 != 0):\n",
        "    L2.head = curr\n",
        "    curr = curr.next\n",
        "\n",
        "  while (curr):\n",
        "    if (L1.head):\n",
        "      if (curr.data %2 == 0):\n",
        "        L1.next = curr\n",
        "        curr = curr.next\n",
        "    else:\n",
        "      L2.next = curr\n",
        "      curr = curr.next\n",
        "  return L1,L2\n",
        "\n",
        "## Wrong approach\n",
        "    \n",
        "    "
      ],
      "execution_count": null,
      "outputs": []
    },
    {
      "cell_type": "code",
      "metadata": {
        "id": "aJfIvbXs5q9n"
      },
      "source": [
        "LL1 = LinkedList()\n",
        "LL1.insert(8)\n",
        "LL1.insert(10)\n",
        "LL1.insert(5)\n",
        "LL1.insert(4)\n",
        "LL1.insert(1)\n",
        "LL1.insert(6)\n",
        "\n"
      ],
      "execution_count": null,
      "outputs": []
    },
    {
      "cell_type": "code",
      "metadata": {
        "id": "8CklahwUPNbj"
      },
      "source": [
        "## Right approach for evenodd question\n",
        "\n",
        "def evenodd(LL):\n",
        "  oddlist = Node()\n",
        "  evenlist = Node()\n",
        "\n",
        "  odd = oddlist\n",
        "  even = evenlist\n",
        "\n",
        "  curr = head\n",
        "\n",
        "  while(curr is not None):\n",
        "    if (curr.data %2 != 0):\n",
        "      odd.next = curr\n",
        "      odd = odd.next\n",
        "    else:\n",
        "      even.next = curr\n",
        "      even = even.next\n",
        "    curr = curr.next\n",
        "  \n",
        "  even.next = oddlist.next\n",
        "  odd.next = None\n",
        "  return evenlist.next\n"
      ],
      "execution_count": null,
      "outputs": []
    },
    {
      "cell_type": "code",
      "metadata": {
        "id": "M5JICf3rQASz"
      },
      "source": [
        "LL1 = LinkedList()\n",
        "LL1.insert(8)\n",
        "LL1.insert(10)\n",
        "LL1.insert(5)\n",
        "LL1.insert(4)\n",
        "LL1.insert(1)\n",
        "LL1.insert(6)\n",
        "\n",
        "ans = evenodd(LL1)"
      ],
      "execution_count": null,
      "outputs": []
    },
    {
      "cell_type": "code",
      "metadata": {
        "id": "s5niaY-vQN2w"
      },
      "source": [
        "def printList(msg, head):\n",
        "\tprint(msg, end='')\n",
        "\tptr = head\n",
        "\twhile ptr:\n",
        "\t\tprint(ptr.data, end=\" -> \")\n",
        "\t\tptr = ptr.next\n",
        "\tprint(\"None\")\n",
        "\n",
        "printList('l  ',ans)"
      ],
      "execution_count": null,
      "outputs": []
    },
    {
      "cell_type": "code",
      "metadata": {
        "id": "XZxKF-0kQbTr"
      },
      "source": [
        "def insert( head_ref, new_data): \n",
        "  \n",
        "    # allocate node  \n",
        "    new_node = Node(0) \n",
        "  \n",
        "    # put in the data  \n",
        "    new_node.data = new_data \n",
        "  \n",
        "    # link the old list off the new node  \n",
        "    new_node.next = (head_ref) \n",
        "  \n",
        "    # move the head to pochar to the new node  \n",
        "    (head_ref) = new_node \n",
        "      \n",
        "    return head_ref \n",
        "head = None\n",
        "head = insert(head, 8) \n",
        "head = insert(head, 12) \n",
        "head = insert(head, 10) \n",
        "head = insert(head, 5) \n",
        "head = insert(head, 4) \n",
        "head = insert(head, 1) \n",
        "head = insert(head, 6) "
      ],
      "execution_count": null,
      "outputs": []
    },
    {
      "cell_type": "code",
      "metadata": {
        "id": "_wSasV29Ssjl"
      },
      "source": [
        ""
      ],
      "execution_count": null,
      "outputs": []
    },
    {
      "cell_type": "code",
      "metadata": {
        "id": "Vf3xkpDyTiu9"
      },
      "source": [
        ""
      ],
      "execution_count": null,
      "outputs": []
    },
    {
      "cell_type": "code",
      "metadata": {
        "id": "4BgBC3AWTi12"
      },
      "source": [
        "## Question : Sort Linked List using Merge Sort\n",
        "\n",
        "def Findmiddle(LL):\n",
        "  fast_ptr = LL\n",
        "  slow_ptr = LL\n",
        "\n",
        "  while( (fast_ptr is not None) and (fast_ptr.next is not None)):\n",
        "    fast_ptr = fast_ptr.next.next\n",
        "    slow_ptr = slow_ptr.next\n",
        "  \n",
        "  return slow_ptr\n",
        "\n",
        "def MergeLL(L1,L2,temp):\n",
        "  new_list = Node()\n",
        "\n",
        "  if (L1 is None):\n",
        "    return L2\n",
        "  if (L2 is None):\n",
        "    return L1\n",
        "  if (L1.data <= L2.data):\n",
        "    temp = L1\n",
        "    L1 = temp.next\n",
        "  else:\n",
        "    temp = L2\n",
        "    L2 = temp.next\n",
        "  \n",
        "  new_list =  temp\n",
        "\n",
        "  while( (L1 is not None) and (L2 is not None)):\n",
        "\n",
        "    if (L1.data <= L2.data):\n",
        "      temp.next = L1\n",
        "      temp = L1\n",
        "      L1 = temp.next\n",
        "    else:\n",
        "      temp.next = L2\n",
        "      temp = L2\n",
        "      L2 = temp.next\n",
        "    \n",
        "  if (L1 is None):\n",
        "    temp.next = L2\n",
        "  if (L2 is None):\n",
        "    temp.next = L1\n",
        "  \n",
        "  return new_list\n",
        "\n",
        "def MergeSort(LL):\n",
        "  if ((LL is None) or (LL.next is None)):\n",
        "    return LL\n",
        "  \n",
        "  middle = Findmiddle(LL)\n",
        "  middle_next = middle.next\n",
        "\n",
        "  middle.next = None\n",
        "\n",
        "  first = MergeSort(LL)\n",
        "  second = MergeSort(middle_next)\n",
        "\n",
        "  sorted_list = MergeLL(first,second,temp = Node())\n",
        "\n",
        "  return sorted_list\n"
      ],
      "execution_count": null,
      "outputs": []
    },
    {
      "cell_type": "code",
      "metadata": {
        "id": "dZtJ2QKeFBl7"
      },
      "source": [
        "class Node: \n",
        "    def __init__(self, data): \n",
        "        self.data = data \n",
        "        self.next = None\n",
        "  \n",
        "class LinkedList: \n",
        "    def __init__(self): \n",
        "        self.head = None\n",
        "    # insert new value to linked list \n",
        "    # using insert method \n",
        "    def insert(self, new_value):\n",
        "        # Allocate new node \n",
        "        new_node = Node(new_value) \n",
        "        # if head is None, initialize it to new node\n",
        "        if self.head is None: \n",
        "            self.head = new_node \n",
        "            return\n",
        "        curr_node = self.head \n",
        "        while curr_node.next is not None: \n",
        "            curr_node = curr_node.next\n",
        "        # Append the new node at the end \n",
        "        # of the linked list \n",
        "        curr_node.next = new_node \n",
        "          \n",
        "    def sortedMerge(self, a, b): \n",
        "        result = None\n",
        "        if a == None: \n",
        "            return b \n",
        "        if b == None: \n",
        "            return a \n",
        "        # pick either a or b \n",
        "        if a.data <= b.data: \n",
        "            result = a \n",
        "            result.next = self.sortedMerge(a.next, b) \n",
        "        else: \n",
        "            result = b \n",
        "            result.next = self.sortedMerge(a, b.next) \n",
        "        return result \n",
        "      \n",
        "    def mergeSort(self, h):\n",
        "        # Base case if head is None \n",
        "        if h == None or h.next == None: \n",
        "            return h \n",
        "        # get the middle of the list\n",
        "        middle = self.getMiddle(h) \n",
        "        nexttomiddle = middle.next #point to middle next\n",
        "        # set the next of middle node to None\n",
        "        middle.next = None\n",
        "        # Apply mergeSort on left list\n",
        "        left = self.mergeSort(h)\n",
        "        # Apply mergeSort on right list \n",
        "        right = self.mergeSort(nexttomiddle)\n",
        "        # Merge the left and right lists \n",
        "        sortedlist = self.sortedMerge(left, right) \n",
        "        return sortedlist \n",
        "    \n",
        "    def getMiddle(self, head): \n",
        "        if (head == None): \n",
        "            return head \n",
        "        slow = head \n",
        "        fast = head \n",
        "        while (fast.next != None and \n",
        "               fast.next.next != None): \n",
        "            slow = slow.next\n",
        "            fast = fast.next.next\n",
        "        return slow \n",
        "\n",
        "def printList(head): \n",
        "    if head is None: \n",
        "        print(' ') \n",
        "        return\n",
        "    curr_node = head \n",
        "    while curr_node: \n",
        "        print(curr_node.data, end = \" \") \n",
        "        curr_node = curr_node.next\n",
        "    print(' ') \n",
        "\n",
        "if __name__ == '__main__': \n",
        "    list1 = LinkedList() \n",
        "    list1.insert(4); \n",
        "    list1.insert(2); \n",
        "    list1.insert(8); \n",
        "    list1.insert(1); \n",
        "    list1.insert(6); \n",
        "    list1.insert(3);\n",
        "    list1.insert(7);\n",
        "    \n",
        "    list1.head = list1.mergeSort(list1.head) \n",
        "    print (\"Sorted Linked List is:\") \n",
        "    printList(list1.head) "
      ],
      "execution_count": null,
      "outputs": []
    },
    {
      "cell_type": "code",
      "metadata": {
        "id": "J8PLG7rG1akg"
      },
      "source": [
        ""
      ],
      "execution_count": null,
      "outputs": []
    },
    {
      "cell_type": "code",
      "metadata": {
        "id": "LQ7ZfKoQ1mqN"
      },
      "source": [
        ""
      ],
      "execution_count": null,
      "outputs": []
    },
    {
      "cell_type": "code",
      "metadata": {
        "id": "ZFLovqftHIWW"
      },
      "source": [
        "## Question : Sum List of Two LinkedList\n",
        "result = None\n",
        "class Node:\n",
        "  def __init__(self,data):\n",
        "    self.data = data\n",
        "    self.next = None\n",
        "class LinkedList: \n",
        "    def __init__(self): \n",
        "        self.head = None\n",
        "    # insert new value to linked list \n",
        "    # using insert method \n",
        "    def insert(self, new_value):\n",
        "        # Allocate new node \n",
        "        new_node = Node(new_value) \n",
        "        # if head is None, initialize it to new node\n",
        "        if self.head is None: \n",
        "            self.head = new_node \n",
        "            return\n",
        "        curr_node = self.head \n",
        "        while curr_node.next is not None: \n",
        "            curr_node = curr_node.next\n",
        "        # Append the new node at the end \n",
        "        # of the linked list \n",
        "        curr_node.next = new_node\n",
        "\n",
        "    def size(self,LL):\n",
        "      count = 1\n",
        "      curr = LL.head\n",
        "\n",
        "      while(curr.next is not None):\n",
        "        count = count+1\n",
        "        curr = curr.next\n",
        "      \n",
        "      return count\n",
        "   \n",
        "    def append(self, new_data):\n",
        "      new_node = Node(new_data)\n",
        "      if self.head is None:\n",
        "        self.head = new_node\n",
        "        return\n",
        "      last = self.head\n",
        "      while (last.next):\n",
        "        last = last.next\n",
        "      last.next =  new_node\n",
        "    \n",
        "    \n",
        "    def insert_2(self,value):\n",
        "      global result\n",
        "      latestNode = Node(value)\n",
        "      self.head = latestNode\n",
        "      latestNode.next = result\n",
        "      result = latestNode\n",
        "     \n",
        "def addList(one,pv1,two,pv2,res):\n",
        "\n",
        "  if ((one == None) and (two == None)):\n",
        "    return 0 ## carry \n",
        "  \n",
        "  data = 0\n",
        "\n",
        "  if (pv1>pv2):\n",
        "    oc = addList(one.next,pv1-1,two,pv2,res)\n",
        "    data = one.data + oc\n",
        "  \n",
        "  elif (pv1<pv2):\n",
        "    oc = addList(one,pv1,two.next,pv2-1,res)\n",
        "    data = two.data + oc\n",
        "  \n",
        "  else:\n",
        "    oc = addList(one.next,pv1-1,two.next,pv2-1,res)\n",
        "    data = one.data + two.data + oc\n",
        "\n",
        "  nd = int(data%10)\n",
        "  nc = int(data/10)\n",
        "\n",
        "  res.insert_2(nd)\n",
        "  return nc\n",
        "\n",
        "def AddTwoList(LL1,LL2):\n",
        "  res = LinkedList()\n",
        "  curr1 = LL1.head\n",
        "  curr2 = LL2.head\n",
        "  \n",
        "\n",
        "  oc = addList(curr1,LL1.size(LL1),curr2,LL2.size(LL2),res)\n",
        "  if (oc>0):\n",
        "    res.insert_2(oc)\n",
        "  \n",
        "  return res"
      ],
      "execution_count": null,
      "outputs": []
    },
    {
      "cell_type": "code",
      "metadata": {
        "id": "DiHuLYl6JL74"
      },
      "source": [
        "list1 = LinkedList() \n",
        "list1.insert(9); \n",
        "list1.insert(9); \n",
        "list1.insert(9); \n",
        "\n",
        "\n",
        "list2 = LinkedList()\n",
        "list2.insert(1); "
      ],
      "execution_count": null,
      "outputs": []
    },
    {
      "cell_type": "code",
      "metadata": {
        "id": "uOkWFPvpKJKU"
      },
      "source": [
        "ans = AddTwoList(list1,list2)"
      ],
      "execution_count": null,
      "outputs": []
    },
    {
      "cell_type": "code",
      "metadata": {
        "id": "hBpu63-Nc0RK"
      },
      "source": [
        "ans.head"
      ],
      "execution_count": null,
      "outputs": []
    },
    {
      "cell_type": "code",
      "metadata": {
        "id": "ubaIg_YkLn0K"
      },
      "source": [
        "def printList(head): \n",
        "    if head is None: \n",
        "        print(' ') \n",
        "        return\n",
        "    curr_node = head \n",
        "    while curr_node: \n",
        "        print(curr_node.data, end = \" \") \n",
        "        curr_node = curr_node.next\n",
        "    print(' ') \n",
        "\n",
        "printList(ans.head)"
      ],
      "execution_count": null,
      "outputs": []
    },
    {
      "cell_type": "code",
      "metadata": {
        "id": "a1dwQU-CPjVl"
      },
      "source": [
        "def printList_2(LL): \n",
        "    actual = []\n",
        "    temp = LL.head \n",
        "    while(temp is not None): \n",
        "        actual.append (temp.data) \n",
        "        temp = temp.next\n",
        "    return actual\n",
        "\n",
        "L = printList_2(ans)\n"
      ],
      "execution_count": null,
      "outputs": []
    },
    {
      "cell_type": "code",
      "metadata": {
        "id": "TrM0c-C-fryt"
      },
      "source": [
        "L"
      ],
      "execution_count": null,
      "outputs": []
    },
    {
      "cell_type": "code",
      "metadata": {
        "id": "1_V87RcBSF0f"
      },
      "source": [
        ""
      ],
      "execution_count": null,
      "outputs": []
    },
    {
      "cell_type": "code",
      "metadata": {
        "id": "lGbkTUT58h62"
      },
      "source": [
        ""
      ],
      "execution_count": null,
      "outputs": []
    },
    {
      "cell_type": "code",
      "metadata": {
        "id": "pdTP6aql8iDU"
      },
      "source": [
        "## Question : Clone a Linked List\n",
        "\n",
        "class Node:\n",
        "  def __init__(self,data=None,next=None,random=None):\n",
        "    self.data = data\n",
        "    self.next = None\n",
        "    self.random = None\n",
        "\n",
        "def cloneLL(head):\n",
        "  curr = head\n",
        "  \n",
        "  head2 = Node()\n",
        "  ## making of second Linked list\n",
        "  while(curr is not None):\n",
        "    head2.random = None\n",
        "    head2.next = Node(curr.data)\n",
        "    curr = curr.next\n",
        "  \n",
        "  return head2\n",
        "  \n",
        "  '''## Now head2 is replica of head with its all random pointers point to zero\n",
        "  first = head\n",
        "  second = head2\n",
        "  ptr = head2\n",
        "  st = head\n",
        "  temp = st.next\n",
        "\n",
        "  while(ptr):\n",
        "    print(ptr.data)\n",
        "    ptr = ptr.next\n",
        " \n",
        "  while(temp is not None):\n",
        "    #print(temp.data)\n",
        "    st.next = ptr\n",
        "    ptr = ptr.next\n",
        "    print(ptr.next)\n",
        "    st = temp\n",
        "    temp = temp.next'''\n",
        "    "
      ],
      "execution_count": null,
      "outputs": []
    },
    {
      "cell_type": "code",
      "metadata": {
        "id": "oXK8jotF98-y"
      },
      "source": [
        "head = Node(3)\n",
        "head.next = Node(4)\n",
        "head.next.next = Node(5)\n",
        "head.next.next.next = Node(6)\n",
        "head.next.next.next.next = Node(7)\n",
        "\n",
        "head.random = head.next.next\n",
        "head.next.random = head\n",
        "head.next.next.random = head.next.next.next.next\n",
        "head.next.next.next.random = head.next.next.next.next\n",
        "head.next.next.next.next.random = head.next"
      ],
      "execution_count": null,
      "outputs": []
    },
    {
      "cell_type": "code",
      "metadata": {
        "id": "5ZO9DsKICk-1"
      },
      "source": [
        "L2=cloneLL(head)"
      ],
      "execution_count": null,
      "outputs": []
    },
    {
      "cell_type": "code",
      "metadata": {
        "id": "yv4gZWE2CpnK"
      },
      "source": [
        "def printList(head): \n",
        "    if head is None: \n",
        "        print(' ') \n",
        "        return\n",
        "    curr_node = head \n",
        "    while curr_node: \n",
        "        print(curr_node.data, end = \" \") \n",
        "        curr_node = curr_node.next\n",
        "        \n",
        "    print(' ') \n",
        "\n",
        "printList(L2)"
      ],
      "execution_count": null,
      "outputs": []
    },
    {
      "cell_type": "code",
      "metadata": {
        "id": "ug7ne1ZyDxJv"
      },
      "source": [
        "## !!!Note: Clone of Linked List is to be done later"
      ],
      "execution_count": null,
      "outputs": []
    },
    {
      "cell_type": "code",
      "metadata": {
        "id": "WUMIMtzXoUU4"
      },
      "source": [
        ""
      ],
      "execution_count": null,
      "outputs": []
    },
    {
      "cell_type": "code",
      "metadata": {
        "id": "CHnqMD70o7aI"
      },
      "source": [
        ""
      ],
      "execution_count": null,
      "outputs": []
    },
    {
      "cell_type": "code",
      "metadata": {
        "id": "dv2hnW2Xo7hn"
      },
      "source": [
        "## Question : Print nth node from last\n",
        "\n",
        "def Check1(LL,ls,n):\n",
        "  if (LL is None):\n",
        "    return 0,ls\n",
        "  \n",
        "  ans,_ = Check1(LL.next,ls,n)\n",
        "  \n",
        "  if (ans+1 == n):\n",
        "    ls.append(LL.data)\n",
        "\n",
        "  return ans+1,ls\n",
        "  \n",
        "\n",
        "  "
      ],
      "execution_count": null,
      "outputs": []
    },
    {
      "cell_type": "code",
      "metadata": {
        "id": "0WEMDfjwpKRo"
      },
      "source": [
        "class Node:\n",
        "  def __init__(self,data):\n",
        "    self.data = data\n",
        "    self.next = None\n",
        "\n",
        "LL = Node(1)\n",
        "LL.next = Node(2)\n",
        "LL.next.next = Node(3)\n",
        "LL.next.next.next = Node(4)\n",
        "LL.next.next.next.next = Node(5)\n",
        "LL.next.next.next.next.next = Node(6)\n",
        "LL.next.next.next.next.next.next = Node(7)\n",
        "LL.next.next.next.next.next.next.next = Node(8)\n",
        "LL.next.next.next.next.next.next.next.next = Node(9)"
      ],
      "execution_count": null,
      "outputs": []
    },
    {
      "cell_type": "code",
      "metadata": {
        "id": "62BrFI42peto"
      },
      "source": [
        "_,a = Check1(LL,[],2)"
      ],
      "execution_count": null,
      "outputs": []
    },
    {
      "cell_type": "code",
      "metadata": {
        "id": "MdyF0GTIwUu9"
      },
      "source": [
        "class Node: \n",
        "    def __init__(self, new_data): \n",
        "        self.data = new_data \n",
        "        self.next = None\n",
        "#ok for all test cases required      \n",
        "class LinkedList: \n",
        "    def __init__(self): \n",
        "        self.head = None\n",
        "  \n",
        "  \n",
        "    def push(self, new_data): \n",
        "        new_node = Node(new_data) \n",
        "        new_node.next = self.head \n",
        "        self.head = new_node\n",
        "llist = LinkedList()  \n",
        "llist.push(1)  \n",
        "llist.push(2)  \n",
        "llist.push(3)  \n",
        "llist.push(4) \n",
        "llist.push(5)\n",
        "llist.push(6) "
      ],
      "execution_count": null,
      "outputs": []
    },
    {
      "cell_type": "code",
      "metadata": {
        "id": "8RF8--DWw2is"
      },
      "source": [
        "llist.head.data"
      ],
      "execution_count": null,
      "outputs": []
    },
    {
      "cell_type": "code",
      "metadata": {
        "id": "HMgeuUPWJgea"
      },
      "source": [
        ""
      ],
      "execution_count": null,
      "outputs": []
    },
    {
      "cell_type": "code",
      "metadata": {
        "id": "ZYa5FmfoxIjc"
      },
      "source": [
        "## Correct Solution\n",
        "def FindNthFromLast(head,n):\n",
        "  second = head\n",
        "  first = head\n",
        "\n",
        "  count = 0\n",
        "  if (head != None):\n",
        "    while(count<n):\n",
        "      if(first is None):\n",
        "        print('Linked List is Empty')\n",
        "      first = first.next\n",
        "      count = count+1\n",
        "  \n",
        "  while(first is not None):\n",
        "    second = second.next\n",
        "    first = first.next\n",
        "  \n",
        "  print(\"Answer \",second.data)"
      ],
      "execution_count": null,
      "outputs": []
    },
    {
      "cell_type": "code",
      "metadata": {
        "id": "5zJoH4MCEiWv"
      },
      "source": [
        "class Node:\n",
        "  def __init__(self,data):\n",
        "    self.data = data\n",
        "    self.next = None\n",
        "\n",
        "LL = Node(1)\n",
        "LL.next = Node(2)\n",
        "LL.next.next = Node(3)\n",
        "LL.next.next.next = Node(4)\n",
        "LL.next.next.next.next = Node(5)\n",
        "LL.next.next.next.next.next = Node(6)\n",
        "LL.next.next.next.next.next.next = Node(7)\n",
        "LL.next.next.next.next.next.next.next = Node(8)\n",
        "LL.next.next.next.next.next.next.next.next = Node(9)"
      ],
      "execution_count": null,
      "outputs": []
    },
    {
      "cell_type": "code",
      "metadata": {
        "id": "SHQs1Fz9ybqn"
      },
      "source": [
        "FindNthFromLast(LL,2)"
      ],
      "execution_count": null,
      "outputs": []
    },
    {
      "cell_type": "code",
      "metadata": {
        "id": "5NkfDf8Oym4C"
      },
      "source": [
        ""
      ],
      "execution_count": null,
      "outputs": []
    },
    {
      "cell_type": "code",
      "metadata": {
        "id": "5XjyYqaBw-R_"
      },
      "source": [
        ""
      ],
      "execution_count": null,
      "outputs": []
    },
    {
      "cell_type": "code",
      "metadata": {
        "id": "2YfBk8zsj6G2"
      },
      "source": [
        "## Question : Intersection point of the two LinkedList\n",
        "def Findele(LL,ele):\n",
        "\n",
        "  curr = LL\n",
        "\n",
        "  while(curr is not None):\n",
        "    if(curr.data == ele):\n",
        "      return curr\n",
        "    \n",
        "    curr = curr.next\n",
        "  \n",
        "  return -1\n",
        "\n",
        "def lastele(LL):\n",
        "  curr = LL\n",
        "\n",
        "  while(curr.next!=None):\n",
        "    curr = curr.next\n",
        "  \n",
        "  return curr.data\n",
        "\n",
        "def PrepareLL(LL1,LL2):\n",
        "  len1 = FindLength(LL1)\n",
        "  len2 = FindLength(LL2)\n",
        "\n",
        "  if (len1>len2):\n",
        "    diff = len1-len2\n",
        "    last_ele = lastele(LL2)\n",
        "    node = Findele(LL1,last_ele)\n",
        "    while(LL2.next!=None):\n",
        "      LL2 = LL2.next\n",
        "    \n",
        "    curr = node.next\n",
        "    LL2.next = curr\n",
        "  else:\n",
        "    diff = len2-len1\n",
        "    last_ele = lastele(LL1)\n",
        "    node = Findele(LL2,last_ele)\n",
        "    while(LL1!=None):\n",
        "      LL1 = LL1.next\n",
        "    \n",
        "    curr = node.next\n",
        "    LL1.next = curr\n",
        "\n",
        "def FindLength(head):\n",
        "\n",
        "  count = 0\n",
        "  curr = head\n",
        "\n",
        "  while(curr is not None):\n",
        "    curr = curr.next\n",
        "    count = count+1\n",
        "  \n",
        "  return count\n",
        "\n",
        "def FindIntersection(head1,head2):\n",
        "  \n",
        "  PrepareLL(head1,head2)\n",
        "  len1 = FindLength(head1)\n",
        "  len2 = FindLength(head2)\n",
        "\n",
        "  if (len1>len2):\n",
        "    diff = len1-len2\n",
        "    res = FindNode(diff,head1,head2)\n",
        "  \n",
        "  else:\n",
        "    res = FindNode(diff,head2,head1)\n",
        "  \n",
        "  return res\n",
        "\n",
        "def FindNode(diff,LL1,LL2):\n",
        "  \n",
        "  curr1 = LL1\n",
        "  curr2 = LL2\n",
        "  for i in range(diff):\n",
        "    if (curr1 == None):\n",
        "      return -1\n",
        "    \n",
        "    curr1 = curr1.next\n",
        "  \n",
        "  while(curr1!=None and curr2!=None):\n",
        "    if (curr1.data == curr2.data):\n",
        "      return curr1.data\n",
        "    \n",
        "    curr1 = curr1.next\n",
        "    curr2 = curr2.next\n",
        "  \n",
        "  return -1\n"
      ],
      "execution_count": null,
      "outputs": []
    },
    {
      "cell_type": "code",
      "metadata": {
        "id": "cGER91-FlWv3"
      },
      "source": [
        "class Node:\n",
        "  def __init__(self,data):\n",
        "    self.data = data\n",
        "    self.next = None\n",
        "\n",
        "LL1 = Node(3)\n",
        "LL1.next = Node(5)\n",
        "LL1.next.next = Node(7)\n",
        "LL1.next.next.next = Node(9)\n",
        "LL1.next.next.next.next = Node(10)\n",
        "\n",
        "LL2 = Node(8)\n",
        "LL2.next = Node(7)\n",
        "\n",
        "ans = FindIntersection(LL1,LL2)"
      ],
      "execution_count": null,
      "outputs": []
    },
    {
      "cell_type": "code",
      "metadata": {
        "id": "PHMuIWsEl5Mh"
      },
      "source": [
        "ans"
      ],
      "execution_count": null,
      "outputs": []
    },
    {
      "cell_type": "code",
      "metadata": {
        "id": "bwc_DPoJrJWv"
      },
      "source": [
        ""
      ],
      "execution_count": null,
      "outputs": []
    },
    {
      "cell_type": "code",
      "metadata": {
        "id": "77hQtrWYrJmd"
      },
      "source": [
        ""
      ],
      "execution_count": null,
      "outputs": []
    },
    {
      "cell_type": "code",
      "metadata": {
        "id": "Eu9I8MD5rJyo"
      },
      "source": [
        "## Question : Reverse K Linked List\n",
        "\n",
        "def ReverseLLK(head,k):\n",
        "  curr = head\n",
        "  prev = None\n",
        "  next = None\n",
        "\n",
        "  count = 0\n",
        "  while(count<k and curr!=None):\n",
        "    next = curr.next\n",
        "    curr.next = prev\n",
        "    prev = curr\n",
        "    curr = next\n",
        "    count = count+1\n",
        "  \n",
        "  if (head!=None):\n",
        "    head.next = ReverseLLK(next,k)\n",
        "  \n",
        "  return prev"
      ],
      "execution_count": null,
      "outputs": []
    },
    {
      "cell_type": "code",
      "metadata": {
        "id": "pB7zFQKt8wlR"
      },
      "source": [
        ""
      ],
      "execution_count": null,
      "outputs": []
    },
    {
      "cell_type": "code",
      "metadata": {
        "id": "EFFd6bW18wqo"
      },
      "source": [
        ""
      ],
      "execution_count": null,
      "outputs": []
    },
    {
      "cell_type": "code",
      "metadata": {
        "id": "sn1SmlMh8xCs"
      },
      "source": [
        "## Ques : Rearrange a Linked List\n",
        "\n",
        "\n",
        "def ReversePrint(LL,floor):\n",
        "  global curr\n",
        "  global flag\n",
        "  if (LL == None):\n",
        "    return \n",
        "  \n",
        "  ReversePrint(LL.next,floor+1)\n",
        "  #print('n is {} and data is {}'.format(n,LL.data))\n",
        "  \n",
        "  temp = LL.data\n",
        "  if floor>n/2:\n",
        "    if flag == 0:\n",
        "      #newLL.next = Node(temp)\n",
        "      print('value in the list {}'.format(temp))\n",
        "      flag = 1\n",
        "    else:\n",
        "      #newLL.next = Node(curr.data)\n",
        "      curr = curr.next\n",
        "      print('value in the list {}'.format(curr.data))\n",
        "      flag = 0\n",
        "\n",
        "  \n",
        "  \n",
        "\n",
        "\n",
        "\n",
        "\n",
        "  \n",
        "  "
      ],
      "execution_count": null,
      "outputs": []
    },
    {
      "cell_type": "code",
      "metadata": {
        "id": "bR_MeQqy9BYt"
      },
      "source": [
        "class Node:\n",
        "  def __init__(self,data):\n",
        "    self.data = data\n",
        "    self.next = None\n",
        "\n",
        "LL1 = Node(1)\n",
        "LL1.next = Node(2)\n",
        "LL1.next.next = Node(3)\n",
        "LL1.next.next.next = Node(4)\n",
        "LL1.next.next.next.next = Node(5)"
      ],
      "execution_count": null,
      "outputs": []
    },
    {
      "cell_type": "code",
      "metadata": {
        "id": "cIdgKcqa9KSt"
      },
      "source": [
        "flag = 0\n",
        "n=5\n",
        "curr = LL1\n",
        "newLL = Node(curr.data)\n",
        "curr = curr.next\n",
        "ReversePrint(LL1,0)"
      ],
      "execution_count": null,
      "outputs": []
    },
    {
      "cell_type": "code",
      "metadata": {
        "id": "EFRaGtnt9MXh"
      },
      "source": [
        "def printList(head): \n",
        "    if head is None: \n",
        "        print(' ') \n",
        "        return\n",
        "    curr_node = head \n",
        "    while curr_node: \n",
        "        print(curr_node.data, end = \" \") \n",
        "        curr_node = curr_node.next\n",
        "        \n",
        "    print(' ')\n",
        "\n",
        "printList(newLL)"
      ],
      "execution_count": null,
      "outputs": []
    },
    {
      "cell_type": "code",
      "metadata": {
        "id": "I1DIJr5LJGGw"
      },
      "source": [
        "## Right Solution for rearrangement of a Linked List in a special order\n",
        "\n",
        "def FindMiddle(LL):\n",
        "  slow_ptr = LL\n",
        "  fast_ptr = LL\n",
        "\n",
        "  while(fast_ptr!=None and fast_ptr.next!=None):\n",
        "    slow_ptr = slow_ptr.next\n",
        "    fast_ptr = fast_ptr.next.next\n",
        "  \n",
        "  return slow_ptr\n",
        "\n",
        "def ReverseLL(LL):\n",
        "  result = None\n",
        "  curr = LL\n",
        "\n",
        "  while(curr!=None):\n",
        "    next = curr.next\n",
        "    curr.next = result\n",
        "    result = curr\n",
        "    curr = next\n",
        "  return result\n",
        "\n",
        "def MergeLL(LL1,LL2):\n",
        "  curr = Node(0)\n",
        "\n",
        "  while(LL1!=None or LL2!=None):\n",
        "    if (LL1!=None):\n",
        "      curr.next = LL1\n",
        "      curr = curr.next\n",
        "      LL1 = LL1.next\n",
        "    \n",
        "    if(LL2!=None):\n",
        "      \n"
      ],
      "execution_count": null,
      "outputs": []
    },
    {
      "cell_type": "code",
      "metadata": {
        "id": "rBl7wokqs1bF"
      },
      "source": [
        "def mergeLinkedList(a, b,ls):\n",
        " \n",
        "    # see if either list is empty\n",
        "    if a is None:\n",
        "        return b\n",
        " \n",
        "    if b is None:\n",
        "        return a\n",
        " \n",
        "    # it turns out to be convenient to do the recursive call first --\n",
        "    # otherwise a.next and b.next need temporary storage\n",
        " \n",
        "    recur = mergeLinkedList(a.next, b.next,ls)\n",
        "    \n",
        "    ls.append(a)\n",
        "    ls.append(b)\n",
        "    return ls\n",
        "\n",
        "ans = mergeLinkedList(LL1,LL2,[])"
      ],
      "execution_count": null,
      "outputs": []
    },
    {
      "cell_type": "code",
      "metadata": {
        "id": "3LKsuHchwaG2"
      },
      "source": [
        "len(ans)"
      ],
      "execution_count": null,
      "outputs": []
    },
    {
      "cell_type": "code",
      "metadata": {
        "id": "7jQ02cbnq6Ak"
      },
      "source": [
        "class Node:\n",
        "  def __init__(self,data):\n",
        "    self.data = data\n",
        "    self.next = None\n",
        "\n",
        "LL1 = Node(1)\n",
        "LL1.next = Node(2)\n",
        "LL1.next.next = Node(3)\n",
        "LL1.next.next.next = Node(4)\n",
        "\n",
        "LL2 = Node(5)\n",
        "LL2.next = Node(6)\n",
        "\n"
      ],
      "execution_count": null,
      "outputs": []
    },
    {
      "cell_type": "code",
      "metadata": {
        "id": "2ERIRAwtrA6E"
      },
      "source": [
        "def mergeLinkedList(a, b,ls):\n",
        " \n",
        "    # see if either list is empty\n",
        "    if a is None:\n",
        "        return b\n",
        " \n",
        "    if b is None:\n",
        "        return a\n",
        " \n",
        "    # it turns out to be convenient to do the recursive call first --\n",
        "    # otherwise a.next and b.next need temporary storage\n",
        " \n",
        "    recur = mergeLinkedList(a.next, b.next,ls)\n",
        " \n",
        "    result = a        # one node from a\n",
        "    a.next = b        # one from b\n",
        "    b.next = recur\n",
        "    ls.append(a)\n",
        "    ls.append(b)\n",
        " \n",
        "    return ls\n",
        "ans = mergeLinkedList(LL1,LL2,[])"
      ],
      "execution_count": null,
      "outputs": []
    },
    {
      "cell_type": "code",
      "metadata": {
        "id": "C5RNKzA0xvjW"
      },
      "source": [
        "len(ans)"
      ],
      "execution_count": null,
      "outputs": []
    },
    {
      "cell_type": "code",
      "metadata": {
        "id": "Y2rvpitnrH-o"
      },
      "source": [
        "def printList(head): \n",
        "    if head is None: \n",
        "        print(' ') \n",
        "        return\n",
        "    curr_node = head \n",
        "    while curr_node: \n",
        "        print(curr_node.data, end = \" \") \n",
        "        curr_node = curr_node.next\n",
        "        \n",
        "    print(' ')\n",
        "\n",
        "printList(check)"
      ],
      "execution_count": null,
      "outputs": []
    },
    {
      "cell_type": "code",
      "metadata": {
        "id": "Tb7dI2Fqx_FR"
      },
      "source": [
        "def mergeLinkedList(a, b):\n",
        " \n",
        "    # see if either list is empty\n",
        "    if a is None:\n",
        "        return b\n",
        " \n",
        "    if b is None:\n",
        "        return a\n",
        " \n",
        "    # it turns out to be convenient to do the recursive call first --\n",
        "    # otherwise a.next and b.next need temporary storage\n",
        " \n",
        "    recur = mergeLinkedList(a.next, b.next)\n",
        " \n",
        "    result = a        # one node from a\n",
        "    a.next = b        # one from b\n",
        "    b.next = recur    # then the rest\n",
        " \n",
        "    return result\n",
        "\n",
        "check = mergeLinkedList(LL1,LL2)"
      ],
      "execution_count": null,
      "outputs": []
    },
    {
      "cell_type": "code",
      "metadata": {
        "id": "vnbt6z4FyXCi"
      },
      "source": [
        ""
      ],
      "execution_count": null,
      "outputs": []
    },
    {
      "cell_type": "code",
      "metadata": {
        "id": "B0d7-zq53VZq"
      },
      "source": [
        ""
      ],
      "execution_count": null,
      "outputs": []
    },
    {
      "cell_type": "code",
      "metadata": {
        "id": "Y2lOxw0aYd5l"
      },
      "source": [
        "def func(i):\n",
        "\n",
        "  if i == 3:\n",
        "    return \n",
        "  func(i+1)\n",
        "  print('the value of i is ',i)\n",
        "  func(i+1)"
      ],
      "execution_count": null,
      "outputs": []
    },
    {
      "cell_type": "code",
      "metadata": {
        "id": "NWFceQL1Z9qG"
      },
      "source": [
        "func(0)"
      ],
      "execution_count": null,
      "outputs": []
    },
    {
      "cell_type": "code",
      "metadata": {
        "id": "EmL4xBMlZ-sS"
      },
      "source": [
        ""
      ],
      "execution_count": null,
      "outputs": []
    },
    {
      "cell_type": "code",
      "metadata": {
        "id": "-wCXCXtmXiHU"
      },
      "source": [
        ""
      ],
      "execution_count": null,
      "outputs": []
    },
    {
      "cell_type": "code",
      "metadata": {
        "id": "W0uIDJzeXiMl"
      },
      "source": [
        "## Stack Queue "
      ],
      "execution_count": null,
      "outputs": []
    },
    {
      "cell_type": "code",
      "metadata": {
        "id": "n5BTupJ5XiR9"
      },
      "source": [
        "## Histogram problem\n",
        "\n",
        "def findLBRb(arr):\n",
        "\n",
        "  stack = []\n",
        "  rb = [0]*len(arr)\n",
        "  lb = [0]*len(arr)\n",
        "\n",
        "  lb[0] = -1 ## base case for the first element\n",
        "  stack.append(-1)\n",
        "  for i in range(1,len(arr)):\n",
        "    while(len(stack)>0 and arr[i]<stack[-1]):\n",
        "      stack.pop() ## pop all the element larger than top of stack\n",
        "    if (len(stack) == 0):\n",
        "      lb[i] = -1\n",
        "    else:\n",
        "      lb[i] = stack[-1]\n",
        "    \n",
        "    stack.append(i)\n",
        "  return lb"
      ],
      "execution_count": null,
      "outputs": []
    },
    {
      "cell_type": "code",
      "metadata": {
        "id": "UC92hdNltiRb"
      },
      "source": [
        "arr = [6,2,5,4,5,1,6]\n",
        "lb = findLBRb(arr)"
      ],
      "execution_count": null,
      "outputs": []
    },
    {
      "cell_type": "code",
      "metadata": {
        "id": "8pgtk5SGcTwG"
      },
      "source": [
        "lb"
      ],
      "execution_count": null,
      "outputs": []
    },
    {
      "cell_type": "code",
      "metadata": {
        "id": "n5IX01NQceb6"
      },
      "source": [
        "## Maximum area of histrogram incomplete"
      ],
      "execution_count": null,
      "outputs": []
    },
    {
      "cell_type": "code",
      "metadata": {
        "id": "zgIfIIp5wqfb"
      },
      "source": [
        ""
      ],
      "execution_count": null,
      "outputs": []
    },
    {
      "cell_type": "code",
      "metadata": {
        "id": "UdMv5LM3wr9U"
      },
      "source": [
        ""
      ],
      "execution_count": null,
      "outputs": []
    },
    {
      "cell_type": "code",
      "metadata": {
        "id": "cccTW7OZwsOv"
      },
      "source": [
        "## Question : An input string is valid if: Open brackets must be closed by the same type of brackets\n",
        "\n",
        "def Validexpr(expr):\n",
        "  stack = []\n",
        "\n",
        "  if len(expr)%2 != 0:\n",
        "    return False\n",
        "  \n",
        "  \n",
        "  for i in expr:\n",
        "\n",
        "    if i == '{':\n",
        "      stack.append('}')\n",
        "    elif i == '[':\n",
        "      stack.append(']')\n",
        "    elif i == '(':\n",
        "      stack.append(')')\n",
        "    \n",
        "    elif (len(stack)!=0):\n",
        "      if stack.pop() != i:\n",
        "        return False\n",
        "\n",
        "    print(stack)\n",
        "    \n",
        "  if len(stack) == 0:\n",
        "    return True\n",
        "  else:\n",
        "    return False"
      ],
      "execution_count": null,
      "outputs": []
    },
    {
      "cell_type": "code",
      "metadata": {
        "id": "hwoUi8hzw3-a"
      },
      "source": [
        "Validexpr('{()[]}')"
      ],
      "execution_count": null,
      "outputs": []
    },
    {
      "cell_type": "code",
      "metadata": {
        "id": "blNqotUD_3Zm"
      },
      "source": [
        ""
      ],
      "execution_count": null,
      "outputs": []
    },
    {
      "cell_type": "code",
      "metadata": {
        "id": "tOdG2bMcIU4z"
      },
      "source": [
        ""
      ],
      "execution_count": null,
      "outputs": []
    },
    {
      "cell_type": "code",
      "metadata": {
        "id": "azlJROIoIVA9"
      },
      "source": [
        "## Question : Stack that Supports getMin() in O(1)\n",
        "\n",
        "class Node:\n",
        "  def __init__(self,value):\n",
        "    self.value = value\n",
        "    self.next = None\n",
        "  \n",
        "  def __str__(self):                       ## This convert python object type variable into string\n",
        "    return \"Node value is {}\".format(self.value)\n",
        "\n",
        "class Stack:\n",
        "  def __init__(self):\n",
        "    self.top = None\n",
        "    self.count = 0\n",
        "    self.min = 0\n",
        "  def __str__(self):\n",
        "    temp = self.top\n",
        "    out = []\n",
        "    while temp:\n",
        "      out.append(str(temp.value))\n",
        "      temp = temp.next\n",
        "    out = '\\n'.join(out)\n",
        "    return 'top {} stack {}'.format(self.top,out)\n",
        "  def getmin(self):\n",
        "    if self.top is None:\n",
        "      return 'stack is empty'\n",
        "    else:\n",
        "      return self.min\n",
        "  def isempty(self):\n",
        "    if self.top is None:\n",
        "      return True\n",
        "    else:\n",
        "      return False\n",
        "  def __len__(self):\n",
        "    self.count = 0\n",
        "    tempnode = self.top\n",
        "    while tempnode:\n",
        "      self.count = self.count+1\n",
        "      tempnode = tempnode.next\n",
        "    return self.count\n",
        "  def peek(self):\n",
        "    "
      ],
      "execution_count": null,
      "outputs": []
    },
    {
      "cell_type": "code",
      "metadata": {
        "id": "k0E-Mip5KCe0"
      },
      "source": [
        ""
      ],
      "execution_count": null,
      "outputs": []
    },
    {
      "cell_type": "code",
      "metadata": {
        "id": "YsvF9Ld_KHbf"
      },
      "source": [
        ""
      ],
      "execution_count": null,
      "outputs": []
    },
    {
      "cell_type": "code",
      "metadata": {
        "id": "J0GslhoKKg2G"
      },
      "source": [
        "## Question : reverse the string using stack\n",
        "\n",
        "ip = \"i like this program very much\"\n",
        "ls = ip.split()\n",
        "stack = []\n",
        "for i in ls:\n",
        "  stack.append(i)\n",
        "ans = []\n",
        "for i in range(len(stack)):\n",
        "  ans.append(stack.pop())\n",
        "\n",
        "final_answer = ' '.join(ans)\n",
        "final_answer"
      ],
      "execution_count": null,
      "outputs": []
    },
    {
      "cell_type": "code",
      "metadata": {
        "id": "BWrXQci6Lwu9"
      },
      "source": [
        ""
      ],
      "execution_count": null,
      "outputs": []
    },
    {
      "cell_type": "code",
      "metadata": {
        "id": "tE8_CLvVLxtG"
      },
      "source": [
        ""
      ],
      "execution_count": null,
      "outputs": []
    },
    {
      "cell_type": "code",
      "metadata": {
        "id": "uFfNf6AlMIcj"
      },
      "source": [
        "## Question : Find Maximum size rectangle in Binary Sub-matrix\n",
        "\n",
        "## for this we first have to understand maximum rectangle area in a histogram\n",
        "\n",
        "def MaxHisto(arr):\n",
        "\n",
        "  ## for right boundary\n",
        "  rb = [None]*len(arr) ## next smallest index on the right side\n",
        "  stack = []\n",
        "  stack.append(len(arr)-1)\n",
        "  rb[len(arr)-1] = len(arr) ## right boundary for the last element on the right will be last index of array\n",
        "\n",
        "  for i in range(len(arr)-2,-1,-1):\n",
        "    while(len(stack)>0 and arr[i]<arr[stack[-1]]):\n",
        "      stack.pop()\n",
        "    \n",
        "    if len(stack) == 0:\n",
        "      rb[i] = len(arr)\n",
        "    \n",
        "    else:\n",
        "      rb[i] = stack[-1]\n",
        "\n",
        "    stack.append(i)\n",
        "\n",
        "\n",
        "  ## for left boundary \n",
        "  stack.clear()\n",
        "  stack.append(0)\n",
        "  lb = [None]*len(arr)\n",
        "  lb[0] = -1\n",
        "\n",
        "  for i in range(1,len(arr)):\n",
        "    while(len(stack)>0 and arr[i]<arr[stack[-1]]):\n",
        "      stack.pop()\n",
        "    \n",
        "    if len(stack) == 0:\n",
        "      lb[i] = -1\n",
        "    \n",
        "    else:\n",
        "      lb[i] = stack[-1]\n",
        "\n",
        "    stack.append(i)\n",
        "  \n",
        "  print('left ',lb)\n",
        "  print('right ',rb)\n",
        "  ## calculating max area\n",
        "  max_area = 0\n",
        "  for i in range(len(arr)):\n",
        "    area = (rb[i]-lb[i]-1) * arr[i]\n",
        "    if area > max_area:\n",
        "      max_area = area\n",
        "  \n",
        "  return max_area\n",
        "  \n",
        "## Now calculating max rectangle area in binary matrix\n",
        "\n",
        "## Lets use type casting to convert integer matrix into str\n",
        "def cast_matrix(matrix,dtype):\n",
        "  return list(map(lambda sub: list(map(dtype,sub)),matrix))\n",
        "\n",
        "def Findmax(matrix):\n",
        "  max_area = 0\n",
        "  str_matrix = matrix ##cast_matrix(matrix,str)\n",
        "\n",
        "  for i in range(1,len(str_matrix)):\n",
        "    for j in range(len(str_matrix[i])):\n",
        "\n",
        "      if str_matrix[i][j] == 1:\n",
        "        str_matrix[i][j] += str_matrix[i - 1][j]\n",
        "\n",
        "    max_area = max(max_area,MaxHisto(str_matrix[i]))\n",
        "  return str_matrix\n",
        "  "
      ],
      "execution_count": null,
      "outputs": []
    },
    {
      "cell_type": "code",
      "metadata": {
        "id": "8AHPOAyit3vw"
      },
      "source": [
        "MaxHisto([11,11,10,10,10])"
      ],
      "execution_count": null,
      "outputs": []
    },
    {
      "cell_type": "code",
      "metadata": {
        "id": "PZCakuaod1WB"
      },
      "source": [
        "## Histogram area is not working"
      ],
      "execution_count": null,
      "outputs": []
    },
    {
      "cell_type": "code",
      "metadata": {
        "id": "jJQEy0e-wCD-"
      },
      "source": [
        ""
      ],
      "execution_count": null,
      "outputs": []
    },
    {
      "cell_type": "code",
      "metadata": {
        "id": "ahGTFNnWwCLW"
      },
      "source": [
        ""
      ],
      "execution_count": null,
      "outputs": []
    },
    {
      "cell_type": "code",
      "metadata": {
        "id": "uWxgO8wFfZQM"
      },
      "source": [
        "## Question : Find next greater element in an array using stack\n",
        "\n",
        "arr = [1,3,2,4]\n",
        "\n",
        "stack = []\n",
        "stack.append(0) ## store first element in the stack not the element but its index\n",
        "\n",
        "op = [None]*len(arr)\n",
        "## now if current element is less than top of stack we store it\n",
        "for i in range(1,len(arr)):\n",
        "  \n",
        "  while(len(stack)>0 and arr[stack[-1]] < arr[i]):\n",
        "    op[stack[-1]] = arr[i]\n",
        "    stack.pop()\n",
        "\n",
        "  stack.append(i)\n",
        "  \n",
        "\n",
        "while(len(stack)>0):\n",
        "  op[stack[-1]] = -1\n",
        "  stack.pop()\n",
        "\n",
        "\n"
      ],
      "execution_count": null,
      "outputs": []
    },
    {
      "cell_type": "code",
      "metadata": {
        "id": "XG7mfGzVki-y"
      },
      "source": [
        "op"
      ],
      "execution_count": null,
      "outputs": []
    },
    {
      "cell_type": "code",
      "metadata": {
        "id": "4MEKPqMbk2Gt"
      },
      "source": [
        ""
      ],
      "execution_count": null,
      "outputs": []
    },
    {
      "cell_type": "code",
      "metadata": {
        "id": "kQzVR1USoUax"
      },
      "source": [
        ""
      ],
      "execution_count": null,
      "outputs": []
    },
    {
      "cell_type": "code",
      "metadata": {
        "id": "zb0zQVIBoUgI"
      },
      "source": [
        "## Question : sliding window maximum\n",
        "\n",
        "## we'll use next greater element concept here as well\n",
        "def FindNextGreater(arr,k):\n",
        "  stack = []\n",
        "  stack.append(0) ## store first element in the stack not the element but its index\n",
        "\n",
        "  op = [None]*len(arr)\n",
        "  ## now if current element is less than top of stack we store it\n",
        "  for i in range(1,len(arr)):\n",
        "    while(len(stack)>0 and arr[stack[-1]] < arr[i]):\n",
        "      op[stack[-1]] = i\n",
        "      stack.pop()\n",
        "\n",
        "    stack.append(i)\n",
        "  \n",
        "\n",
        "  while(len(stack)>0):\n",
        "    op[stack[-1]] = len(arr)\n",
        "    stack.pop()\n",
        "  \n",
        "  j = 0\n",
        "  for i in range(0,len(arr)-k+1):\n",
        "    if (j<i):\n",
        "      j = i\n",
        "    \n",
        "    while(op[j]<i+k):\n",
        "      j = op[j]\n",
        "      \n",
        "\n",
        "    print(arr[j])"
      ],
      "execution_count": null,
      "outputs": []
    },
    {
      "cell_type": "code",
      "metadata": {
        "id": "gL37bwXHQBlK"
      },
      "source": [
        "FindNextGreater([8, 5, 10, 7, 9, 4, 15, 12, 90, 13] ,4)"
      ],
      "execution_count": null,
      "outputs": []
    },
    {
      "cell_type": "code",
      "metadata": {
        "id": "2k5z-ybyRnZB"
      },
      "source": [
        "## window size greater element approach 2\n",
        "from collections import deque \n",
        "  \n",
        "def printMax(array, n, k): \n",
        "    Qi = deque() \n",
        "    for i in range(k): \n",
        "        while Qi and array[i] >= array[Qi[-1]] : \n",
        "            Qi.pop() \n",
        "        Qi.append(i); \n",
        "    for i in range(k, n): \n",
        "          \n",
        "        print(str(array[Qi[0]]) + \" \", end = \"\") \n",
        "        while Qi and Qi[0] <= i-k: \n",
        "            Qi.popleft()  \n",
        "        while Qi and array[i] >= array[Qi[-1]] : \n",
        "            Qi.pop() \n",
        "        Qi.append(i) \n",
        "    return str(array[Qi[0]])"
      ],
      "execution_count": null,
      "outputs": []
    },
    {
      "cell_type": "code",
      "metadata": {
        "id": "-V8HDPHXHm0n"
      },
      "source": [
        ""
      ],
      "execution_count": null,
      "outputs": []
    },
    {
      "cell_type": "code",
      "metadata": {
        "id": "jpu0yuVoHm-Q"
      },
      "source": [
        ""
      ],
      "execution_count": null,
      "outputs": []
    },
    {
      "cell_type": "code",
      "metadata": {
        "id": "z7Dw8lh9HnWg"
      },
      "source": [
        "## Recursion practice Questions for backtracking\n",
        "\n",
        "def printdecreasing(n):\n",
        "  \n",
        "  if n == 0:  ## establish relation between faith and expectation\n",
        "    return\n",
        "\n",
        "   \n",
        "  printdecreasing(n-1)\n",
        "  print(n)   ## faith"
      ],
      "execution_count": null,
      "outputs": []
    },
    {
      "cell_type": "code",
      "metadata": {
        "id": "Sl-LItP-H4In"
      },
      "source": [
        "printdecreasing(5)"
      ],
      "execution_count": null,
      "outputs": []
    },
    {
      "cell_type": "code",
      "metadata": {
        "id": "DfRIyX6ZH91O"
      },
      "source": [
        "## print increasing decreasing\n",
        "def func(n):\n",
        "  \n",
        "  if (n == 0):\n",
        "    return  \n",
        "    \n",
        "  print(n)\n",
        "  func(n-1)\n",
        "  print(n)"
      ],
      "execution_count": null,
      "outputs": []
    },
    {
      "cell_type": "code",
      "metadata": {
        "id": "VPdx0lLCNSsC"
      },
      "source": [
        "func(5)"
      ],
      "execution_count": null,
      "outputs": []
    },
    {
      "cell_type": "code",
      "metadata": {
        "id": "acWTbcHQNTq2"
      },
      "source": [
        "## Factorail recursion\n",
        "def fact(n):\n",
        "  if (n == 1):\n",
        "    return 1\n",
        "\n",
        "  fnm1 = fact(n-1)\n",
        "  fn = n*fnm1\n",
        "  return fn"
      ],
      "execution_count": null,
      "outputs": []
    },
    {
      "cell_type": "code",
      "metadata": {
        "id": "QfctIZ3HPG_3"
      },
      "source": [
        "fact(5)"
      ],
      "execution_count": null,
      "outputs": []
    },
    {
      "cell_type": "code",
      "metadata": {
        "id": "JJimUjgMPIGs"
      },
      "source": [
        "## Power\n",
        "def power(x,n):\n",
        "  \n",
        "  if (n == 0):\n",
        "    return 1\n",
        "  xn1 = power(x,n-1)\n",
        "  xn = x * xn1\n",
        "  return xn\n"
      ],
      "execution_count": null,
      "outputs": []
    },
    {
      "cell_type": "code",
      "metadata": {
        "id": "GtEyYKGVTr2v"
      },
      "source": [
        "\n",
        "def power2(x,n):\n",
        "\n",
        "  if (n == 0):\n",
        "    return 1\n",
        "\n",
        "  xn2 = power2(x,int(n/2))\n",
        "  xn = xn2 * xn2\n",
        "\n",
        "  if (n%2 == 1):\n",
        "    xn = xn * x\n",
        "  \n",
        "  return xn\n",
        "\n",
        "power2(2,3)"
      ],
      "execution_count": null,
      "outputs": []
    },
    {
      "cell_type": "code",
      "metadata": {
        "id": "bCih9pWOTtKI"
      },
      "source": [
        "## Tower of Hanoi\n",
        "def Toh(n,A,B,C):\n",
        "  \n",
        "  if (n == 0):\n",
        "    return \n",
        "    \n",
        "  Toh(n-1,A,C,B)\n",
        "  print('{}[{}->{}]'.format(n,A,B))\n",
        "  Toh(n-1,C,B,A)"
      ],
      "execution_count": null,
      "outputs": []
    },
    {
      "cell_type": "code",
      "metadata": {
        "id": "UGFrQH_1F_DT"
      },
      "source": [
        "Toh(3,1,2,3)"
      ],
      "execution_count": null,
      "outputs": []
    },
    {
      "cell_type": "code",
      "metadata": {
        "id": "7A4Py77NGCBS"
      },
      "source": [
        "## Sudoku solving Problem using backtracking\n",
        "def Sudoko(matrix,i,j):\n",
        "  \n",
        "  if (i == len(matrix)):\n",
        "    \n",
        "    return matrix\n",
        "\n",
        "  ni = 0\n",
        "  nj = 0\n",
        "\n",
        "  if (j == len(matrix[0])-1):  ## when at last cell increase the row number and come back to column 0\n",
        "    ni = i+1\n",
        "    nj = 0\n",
        "  else:\n",
        "    ni = i\n",
        "    nj = j+1\n",
        "  \n",
        "  if (matrix[i][j]!=0):\n",
        "    Sudoko(matrix,ni,nj)\n",
        "  \n",
        "  else:\n",
        "    for pos in range(1,9):\n",
        "      if (isvalid(matrix,i,j,pos) == True):\n",
        "        matrix[i][j] = pos\n",
        "        Sudoko(matrix,ni,nj)\n",
        "        matrix[i][j] = 0\n",
        "\n",
        "def isvalid(matrix,x,y,pos):\n",
        "  for i in range(len(matrix[0])):\n",
        "    if(matrix[x][i] == pos):\n",
        "      return False\n",
        "  for i in range(len(matrix)):\n",
        "    if (matrix[i][y] == pos):\n",
        "      return False\n",
        "  \n",
        "  smi = int(x/3) * 3\n",
        "  smj = int(y/3) * 3\n",
        "\n",
        "  for i in range(3):\n",
        "    for j in range(3):\n",
        "      if(matrix[smi+i][smj+j] == pos):\n",
        "        return False\n",
        "  \n",
        "  return True"
      ],
      "execution_count": null,
      "outputs": []
    },
    {
      "cell_type": "code",
      "metadata": {
        "id": "L3rqfcHJV89L"
      },
      "source": [
        "matrix = [[3, 0, 6, 5, 0, 8, 4, 0, 0],\n",
        "        [5, 2, 0, 0, 0, 0, 0, 0, 0],\n",
        "        [0, 8, 7, 0, 0, 0, 0, 3, 1],\n",
        "        [0, 0, 3, 0, 1, 0, 0, 8, 0],\n",
        "        [9, 0, 0, 8, 6, 3, 0, 0, 5],\n",
        "        [0, 5, 0, 0, 9, 0, 6, 0, 0],\n",
        "        [1, 3, 0, 0, 0, 0, 2, 5, 0],\n",
        "        [0, 0, 0, 0, 0, 0, 0, 7, 4],\n",
        "        [0, 0, 5, 2, 0, 6, 3, 0, 0]]\n",
        "\n"
      ],
      "execution_count": null,
      "outputs": []
    },
    {
      "cell_type": "code",
      "metadata": {
        "id": "HYgKwpfTWqu3"
      },
      "source": [
        "ans = Sudoko(matrix,0,0)"
      ],
      "execution_count": null,
      "outputs": []
    },
    {
      "cell_type": "code",
      "metadata": {
        "id": "ymyBZrfKXv_e"
      },
      "source": [
        "ans"
      ],
      "execution_count": null,
      "outputs": []
    },
    {
      "cell_type": "code",
      "metadata": {
        "id": "LeFU05Ac3hmb"
      },
      "source": [
        ""
      ],
      "execution_count": null,
      "outputs": []
    },
    {
      "cell_type": "code",
      "metadata": {
        "id": "HkDynuULROOo"
      },
      "source": [
        ""
      ],
      "execution_count": null,
      "outputs": []
    },
    {
      "cell_type": "code",
      "metadata": {
        "id": "Fr3dFb74CCo2"
      },
      "source": [
        ""
      ],
      "execution_count": null,
      "outputs": []
    },
    {
      "cell_type": "code",
      "metadata": {
        "id": "fDmxSiG6CC1D"
      },
      "source": [
        "## Question : Truck Tour\n",
        "\"[[1, 5], [10, 3], [3, 4]]\"\n",
        "\n",
        "def TruckTour(arr):\n",
        "\n",
        "  distance = []\n",
        "  litre = []\n",
        "  \n",
        "  distance.append(arr[0][1])\n",
        "  litre.append(arr[0][0])\n",
        "  \n",
        "  for i in range(1,len(arr)):\n",
        "    k = i\n",
        "    j = i\n",
        "\n",
        "    while(j<=len(arr) and distance[-1] < litre[-1]):\n",
        "      print(litre)\n",
        "      if (len(distance)<=1):\n",
        "        distance.append(arr[j][1])\n",
        "        litre.append(arr[j][0])\n",
        "      else:\n",
        "        litreleft = (litre[-1]-distance[-1]+arr[j][0])\n",
        "        litre.append(litreleft)\n",
        "        distance.append(arr[j][1])\n",
        "      j = j+1\n",
        "    \n",
        "    if (j!=len(arr)):\n",
        "      distance.clear()\n",
        "      litre.clear()\n",
        "      distance.append(arr[k][1])\n",
        "      litre.append(arr[k][0])\n",
        "\n",
        "  \n",
        "\n"
      ],
      "execution_count": null,
      "outputs": []
    },
    {
      "cell_type": "code",
      "metadata": {
        "id": "-oVvitSJLvNX"
      },
      "source": [
        "TruckTour([[1, 5], [10, 3], [3, 4]])"
      ],
      "execution_count": null,
      "outputs": []
    },
    {
      "cell_type": "code",
      "metadata": {
        "id": "_P3BoauKH2XY"
      },
      "source": [
        "  for i in range(4):\n",
        "  k = i\n",
        "  j = i+1\n",
        "  while(j<=4):\n",
        "    print('value of j is',j)\n",
        "    j = j+1\n",
        "  for i in range(0,k+1):\n",
        "    print('Next value is ',i) \n",
        "  "
      ],
      "execution_count": null,
      "outputs": []
    },
    {
      "cell_type": "code",
      "metadata": {
        "id": "kp8cFAukH37e"
      },
      "source": [
        "## yet to complete"
      ],
      "execution_count": null,
      "outputs": []
    },
    {
      "cell_type": "code",
      "metadata": {
        "id": "18Lu46EwQypi"
      },
      "source": [
        ""
      ],
      "execution_count": null,
      "outputs": []
    },
    {
      "cell_type": "code",
      "metadata": {
        "id": "EH1alINnRJxz"
      },
      "source": [
        ""
      ],
      "execution_count": null,
      "outputs": []
    },
    {
      "cell_type": "code",
      "metadata": {
        "id": "04aMlYOsRJ70"
      },
      "source": [
        "## Mobile Keypad Problem\n",
        "\n",
        "## Part-1 get all keypard combinations\n",
        "\n",
        "global codeslist\n",
        "def KPC(number):\n",
        "\n",
        "  if (len(number) == 0) :\n",
        "    bres = []\n",
        "    bres.append(\"\")\n",
        "    return bres\n",
        "  \n",
        "\n",
        "  firstnumber = number[0] ## it will give first number eg 5\n",
        "  restnumber = number[1:] ## it will give rest number eg 78\n",
        "\n",
        "  res = KPC(restnumber) ## it will give all combinations for 78\n",
        "  finalres = []\n",
        "  codesforch = codeslist[int(firstnumber)] ## \"PQRS\"\n",
        "\n",
        "  \n",
        "  for i in range(len(codesforch)):\n",
        "    for char in res:\n",
        "      finalres.append(codesforch[i] + char)\n",
        "  \n",
        "  return finalres\n"
      ],
      "execution_count": null,
      "outputs": []
    },
    {
      "cell_type": "code",
      "metadata": {
        "id": "a494VOBSY73F"
      },
      "source": [
        "codeslist =[\"\", \"\", \"abc\", \"def\", \"ghi\", \"jkl\",  \n",
        "                    \"mno\", \"pqrs\", \"tuv\", \"wxyz\"] \n",
        "ans = KPC('578')"
      ],
      "execution_count": null,
      "outputs": []
    },
    {
      "cell_type": "code",
      "metadata": {
        "id": "ketdVmh9dEM3"
      },
      "source": [
        "3*4*3"
      ],
      "execution_count": null,
      "outputs": []
    },
    {
      "cell_type": "code",
      "metadata": {
        "id": "CG_sh9kqb1Bl"
      },
      "source": [
        "len(ans)"
      ],
      "execution_count": null,
      "outputs": []
    },
    {
      "cell_type": "code",
      "metadata": {
        "id": "YFCtpDnFcWCW"
      },
      "source": [
        ""
      ],
      "execution_count": null,
      "outputs": []
    },
    {
      "cell_type": "code",
      "metadata": {
        "id": "GYnNiWzmdRk8"
      },
      "source": [
        ""
      ],
      "execution_count": null,
      "outputs": []
    },
    {
      "cell_type": "code",
      "metadata": {
        "id": "3wggQ0Ftlm7R"
      },
      "source": [
        "## Question : print permutation of string \n",
        "## Eg. For ABC output : abc , acb , bca , cab ....\n",
        "\n",
        "def PrintPermutation(string,asf):\n",
        "  if len(string) == 0:\n",
        "    print(asf)\n",
        "    return \n",
        "\n",
        "  for i in range(len(string)):\n",
        "    ch = string[i] ## for eg e in abcdefghi\n",
        "    qlpart = string[0:i]\n",
        "    qrpart = string[i+1:]\n",
        "    roq = qlpart + qrpart\n",
        "    PrintPermutation(roq,asf+ch)\n"
      ],
      "execution_count": null,
      "outputs": []
    },
    {
      "cell_type": "code",
      "metadata": {
        "id": "GQ9OyV6PmDZO"
      },
      "source": [
        "PrintPermutation('abc','')"
      ],
      "execution_count": null,
      "outputs": []
    },
    {
      "cell_type": "code",
      "metadata": {
        "id": "IJL6Fhw5xwFi"
      },
      "source": [
        ""
      ],
      "execution_count": null,
      "outputs": []
    },
    {
      "cell_type": "code",
      "metadata": {
        "id": "twFB9g36NZmI"
      },
      "source": [
        ""
      ],
      "execution_count": null,
      "outputs": []
    },
    {
      "cell_type": "code",
      "metadata": {
        "id": "2bOvNvLeNZvT"
      },
      "source": [
        "## Part-01 Print Target Sum Subset\n",
        "\n",
        "n = 5\n",
        "arr = [10,20,30,40,50]\n",
        "target = 60\n",
        "\n",
        "def TargetSubset(arr,idx,subset,sos,tar): ## SOS - Sum of Subset , set : current set value\n",
        "  \n",
        "  if (idx == len(arr)):\n",
        "    if (sos == target):\n",
        "      print(subset)\n",
        "    return\n",
        "  TargetSubset(arr,idx+1,subset+\" \"+str(arr[idx]) ,sos+arr[idx],tar)\n",
        "  TargetSubset(arr,idx+1,subset,sos,tar)"
      ],
      "execution_count": null,
      "outputs": []
    },
    {
      "cell_type": "code",
      "metadata": {
        "id": "KvsVBygcOZqF"
      },
      "source": [
        "a = [1,1,2,2,1,3,4]\n",
        "b = [1,2,1]\n",
        "c = [1,1,2]\n",
        "res = [[1,1,2],[22,2,2]]\n",
        "\n",
        "n = len(a)-1\n",
        "del a[-n:]\n",
        "a"
      ],
      "execution_count": null,
      "outputs": []
    },
    {
      "cell_type": "code",
      "metadata": {
        "id": "ZMUQjKHhOfCb"
      },
      "source": [
        "## Question : Target Sum Combination problem where repetetion are allowed \"recursion inside loop\"\n",
        "\n",
        "def SumCombination(arr,target,currlist,result,sum,index):\n",
        "\n",
        "  if (sum>target):\n",
        "    return\n",
        "  elif (sum == target):\n",
        "    currlist.sort()\n",
        "    if currlist not in result:\n",
        "      result.append(currlist)\n",
        "      print(result)\n",
        "\n",
        "  else:\n",
        "    for index in range(len(arr)):\n",
        "      currlist.append(arr[index])\n",
        "      SumCombination(arr,target,currlist,result,sum+arr[index],index)\n",
        "      currlist.pop()\n",
        "\n",
        "\n"
      ],
      "execution_count": null,
      "outputs": []
    },
    {
      "cell_type": "code",
      "metadata": {
        "id": "YCCSfaxoiD6E"
      },
      "source": [
        "result = []\n",
        "SumCombination([2,3,6,7,8],10,[],result,0,0)"
      ],
      "execution_count": null,
      "outputs": []
    },
    {
      "cell_type": "code",
      "metadata": {
        "id": "UxsAdqkriTfO"
      },
      "source": [
        "result"
      ],
      "execution_count": null,
      "outputs": []
    },
    {
      "cell_type": "code",
      "metadata": {
        "id": "oryxcSlkiUlr"
      },
      "source": [
        ""
      ],
      "execution_count": null,
      "outputs": []
    },
    {
      "cell_type": "code",
      "metadata": {
        "id": "seyHNydpqVcD"
      },
      "source": [
        ""
      ],
      "execution_count": null,
      "outputs": []
    },
    {
      "cell_type": "code",
      "metadata": {
        "id": "j2p9bpjHqVkv"
      },
      "source": [
        "## Question : Maze path problem\n",
        "\n",
        "## recursion problem with two calls like binary tree moving upward\n",
        "## we pass sr sc (source row source column) and dr,dc d:destination and we have to reach to dr,dc with H and V step at a time\n",
        "\n",
        "\n",
        "def MazePath(sr,sc,dr,dc): \n",
        "  \n",
        "  if (sr == dr and sc == dc):\n",
        "    bres = [] ## like at 3,3 we consider all the paths from 3,3 to 3,3 which is equal to None\n",
        "    bres.append(\"\")\n",
        "    return bres\n",
        "\n",
        "  hpaths = [] ## it will give all the paths if we take H at first time just have faith in it\n",
        "  vpaths = [] ## it will give all the paths if we take V at first time just have faith in it\n",
        "\n",
        "  if (sc<dc): ## like we are at that cell on which we cannot take futher H steps eg 2,3 \n",
        "    hpaths = MazePath(sr,sc+1,dr,dc)\n",
        "  if (sr<dr): ## like we cannot take any V steps further if sr crosses dr eg 3,1\n",
        "    vpaths = MazePath(sr+1,sc,dr,dc)\n",
        "  \n",
        "  ## now that we have hpaths and Vpaths now we just add H and V in front of all the paths generated in hpaths and vpaths recpectively\n",
        "  paths = [] ## will store resultant paths\n",
        "  for hpath in hpaths:\n",
        "    paths.append(\"h\"+hpath)\n",
        "  for vpath in vpaths:\n",
        "    paths.append(\"v\"+vpath)\n",
        "  \n",
        "  return paths \n",
        "    "
      ],
      "execution_count": null,
      "outputs": []
    },
    {
      "cell_type": "code",
      "metadata": {
        "id": "5kyUctsbssCt"
      },
      "source": [
        "ans = MazePath(1,1,3,3)"
      ],
      "execution_count": null,
      "outputs": []
    },
    {
      "cell_type": "code",
      "metadata": {
        "id": "l9AEq9H5sxaf"
      },
      "source": [
        "ans"
      ],
      "execution_count": null,
      "outputs": []
    },
    {
      "cell_type": "code",
      "metadata": {
        "id": "ILzmfVVc55tW"
      },
      "source": [
        ""
      ],
      "execution_count": null,
      "outputs": []
    },
    {
      "cell_type": "code",
      "metadata": {
        "id": "eVJODlhi55_-"
      },
      "source": [
        ""
      ],
      "execution_count": null,
      "outputs": []
    },
    {
      "cell_type": "code",
      "metadata": {
        "id": "bg_JvgTYtAum"
      },
      "source": [
        "## Question : rat maze problem where cell can be blocked we will use backtracking here\n",
        "\n",
        "## we will pass matrix and define our path with same shape will all zeros values \n",
        "## we also take two pointers to go through all the cells (x,y)\n",
        "def RatMaze(matrix,x,y,path):\n",
        "  \n",
        "  if (x == len(matrix)-1 and y == len(matrix[0])-1) and matrix[x][y] == 0:\n",
        "    path[x][y] = 1\n",
        "    return True\n",
        "\n",
        "  if isvalid(matrix,x,y) == True:\n",
        "    path[x][y] = 1\n",
        "\n",
        "    ## we will first try to go downward with this recursion call\n",
        "    if(RatMaze(matrix,x+1,y,path)):\n",
        "      return True\n",
        "    \n",
        "    ## if while going downward we encounter blocked cell then we come to its previous cell and move horizontal\n",
        "    if(RatMaze(matrix,x,y+1,path)):\n",
        "      return True\n",
        "\n",
        "    ## if to any path we found blocked cell in while going downward and horizontal then we just fill 0 at that loc in path and return false\n",
        "\n",
        "    path[x][y] = 0\n",
        "    return False\n",
        "  \n",
        "  return False ## if we not found cell by any two recursive call return false\n",
        "\n",
        "def isvalid( maze, x, y ): \n",
        "  if x >= 0 and x < len(maze) and y >= 0 and y < len(maze[0]) and maze[x][y] == 0: \n",
        "    return True\n",
        "      \n",
        "  return False"
      ],
      "execution_count": null,
      "outputs": []
    },
    {
      "cell_type": "code",
      "metadata": {
        "id": "2xLDt0bz0kxK"
      },
      "source": [
        "maze = [ [0, 1, 0, 1, 1], \n",
        "             [0, 0, 0, 0, 0], \n",
        "             [1, 0, 1, 0, 1], \n",
        "             [0, 0, 1, 0, 0], \n",
        "             [1, 0, 0, 1, 0]\n",
        "             ] \n",
        "path = [[ 0 for j in range(4) ] for i in range(4)] \n",
        "RatMaze(maze,0,0,path)"
      ],
      "execution_count": null,
      "outputs": []
    },
    {
      "cell_type": "code",
      "metadata": {
        "id": "LJZM0sPp36zb"
      },
      "source": [
        "def findPathInMaze(maze, x, y, path): \n",
        "    # if (x, y is goal) return True \n",
        "    if x == N - 1 and y == N - 1 and maze[x][y]== 0: \n",
        "        path[x][y] = 1\n",
        "        return True\n",
        "    # Check if maze[x][y] is valid \n",
        "    if isValid(maze, x, y) == True: \n",
        "        # mark x, y as part of solution path\n",
        "        path[x][y] = 1\n",
        "        # Move forward in x direction \n",
        "        if findPathInMaze(maze, x + 1, y, path) == True: \n",
        "            return True\n",
        "        # If moving in x direction doesn't give solution then Move down in y direction \n",
        "        if findPathInMaze(maze, x, y + 1, path) == True: \n",
        "            return True\n",
        "        # If none of the above movements work then perform backtracking to unmark x, y as part of solution path     \n",
        "        path[x][y] = 0\n",
        "        return False\n",
        "\n",
        "def isValid( maze, x, y ): \n",
        "  if x >= 0 and x < len(maze) and y >= 0 and y < len(maze[0]) and maze[x][y] == 0: \n",
        "    return True\n",
        "      \n",
        "  return False\n",
        "  "
      ],
      "execution_count": null,
      "outputs": []
    },
    {
      "cell_type": "code",
      "metadata": {
        "id": "mhKPsQ4g0nfh"
      },
      "source": [
        "N = 4\n",
        "maze = [ [0, 1, 0, 1, 1], \n",
        "             [0, 0, 0, 0, 0], \n",
        "             [1, 0, 1, 0, 1], \n",
        "             [0, 0, 1, 0, 0], \n",
        "             [1, 0, 0, 1, 0]\n",
        "             ] \n",
        "               \n",
        "path = [[ 0 for j in range(4)] for i in range(4)] \n",
        "findPathInMaze(maze,0,0,path)"
      ],
      "execution_count": null,
      "outputs": []
    },
    {
      "cell_type": "code",
      "metadata": {
        "id": "avLmWRh05Si-"
      },
      "source": [
        ""
      ],
      "execution_count": null,
      "outputs": []
    },
    {
      "cell_type": "code",
      "metadata": {
        "id": "9DEIbLnM58g4"
      },
      "source": [
        ""
      ],
      "execution_count": null,
      "outputs": []
    },
    {
      "cell_type": "code",
      "metadata": {
        "colab": {
          "base_uri": "https://localhost:8080/"
        },
        "id": "cerdtKDi-RWd",
        "outputId": "d830e962-a11c-4b6d-e919-6addb694fa7f"
      },
      "source": [
        "## Question : PowerSet problem using backtracking and recursion\n",
        "\n",
        "## use of recursion inside for loop \n",
        "\n",
        "## Function-01 to find subset of size - 0,1,...log(length(array)) base 2\n",
        "\n",
        "global output\n",
        "def Powerset(first,curr,array,size):\n",
        "\n",
        "  ## if length of curr is equal to size eg 1,2,3 .. one by one then we'll add the result into output list\n",
        "  if len(curr) == size:\n",
        "    output.append(curr)\n",
        "    \n",
        "    return\n",
        "  \n",
        "  ## then we iterate through all the ele in array to find the subsets of size = size\n",
        "  for i in range(first,len(array)):\n",
        "\n",
        "    ## start with first ele \n",
        "    curr.append(array[i])\n",
        "    ## then find all the possible combination for ele = i\n",
        "    Powerset(i+1,curr,array,size)\n",
        "    ## once we come out of the recursion then it means we have find first subset for ele = array[i]\n",
        "    ## lets remove the 2nd ele added and find other subsets\n",
        "    curr.pop(len(curr)-1)\n",
        "    print(curr)\n",
        "\n",
        "\n",
        "\n",
        "size = 2\n",
        "array = [1,2,3]\n",
        "output = []\n",
        "curr = []\n",
        "first = 0\n",
        "Powerset(first,curr,array,size)\n",
        "\n",
        "## getting wrong answers in output come back to it later"
      ],
      "execution_count": null,
      "outputs": [
        {
          "output_type": "stream",
          "text": [
            "[1]\n",
            "[1]\n",
            "[]\n",
            "[2]\n",
            "[]\n",
            "[]\n"
          ],
          "name": "stdout"
        }
      ]
    },
    {
      "cell_type": "code",
      "metadata": {
        "id": "2JdxzLDV440K"
      },
      "source": [
        ""
      ],
      "execution_count": null,
      "outputs": []
    },
    {
      "cell_type": "code",
      "metadata": {
        "id": "XHx_JCnf7sWc"
      },
      "source": [
        ""
      ],
      "execution_count": null,
      "outputs": []
    },
    {
      "cell_type": "code",
      "metadata": {
        "id": "tUVyGm4H7sfY"
      },
      "source": [
        "## Question : Knight walk problem\n",
        "\n",
        "## we are given with the starting position of knigh(horse in chess) and we need to print chess board\n",
        "## only if knight covered all the cell without visiting cell twice\n",
        "\n",
        "## we will use here backtracking and do recursive call i.e 8 options are available for the first move\n",
        "\n",
        "## chess-chess board,r-row number , c-column number , move - move number\n",
        "\n",
        "def KnightWalk(chess,r,c,move):\n",
        "  \n",
        "  ## base condition\n",
        "  if (r<0 or c<0 or r>=len(chess) or c>=len(chess[0]) or chess[r][c]>0):\n",
        "    return \n",
        "  ## once the move equal to 25 then just put the move number and return back from it\n",
        "  elif (move == len(chess)*len(chess)):\n",
        "    chess[r][c] = move\n",
        "\n",
        "    print(\"ans found\")\n",
        "    print(chess)\n",
        "    return \n",
        "  \n",
        "  chess[r][c] = move  ## put the move number at the position r,c in chess board \n",
        "\n",
        "  ## now lets recursively call 8 initial option that first move can take\n",
        "  KnightWalk(chess,r-2,c+1,move+1)\n",
        "  KnightWalk(chess,r-1,c+2,move+1)\n",
        "  KnightWalk(chess,r+1,c+2,move+1)\n",
        "  KnightWalk(chess,r+2,c+1,move+1)\n",
        "  KnightWalk(chess,r+2,c-1,move+1)\n",
        "  KnightWalk(chess,r+1,c-2,move+1)\n",
        "  KnightWalk(chess,r-1,c-2,move+1)\n",
        "  KnightWalk(chess,r-2,c-1,move+1)\n",
        "  \n",
        "\n",
        "  ## once we return back from recursion that means we had taken a wrong step so just reverse it and go to another call\n",
        "  chess[r][c] = 0"
      ],
      "execution_count": null,
      "outputs": []
    },
    {
      "cell_type": "code",
      "metadata": {
        "colab": {
          "base_uri": "https://localhost:8080/"
        },
        "id": "Yhzm6juUvtSl",
        "outputId": "83ca4756-671e-46f3-850e-c38443de94df"
      },
      "source": [
        "chess = [[ 0 for j in range(5) ] for i in range(5)] \n",
        "len(chess)"
      ],
      "execution_count": null,
      "outputs": [
        {
          "output_type": "execute_result",
          "data": {
            "text/plain": [
              "5"
            ]
          },
          "metadata": {
            "tags": []
          },
          "execution_count": 14
        }
      ]
    },
    {
      "cell_type": "code",
      "metadata": {
        "colab": {
          "base_uri": "https://localhost:8080/"
        },
        "id": "ZnTnEwmfwfv-",
        "outputId": "0ff8306e-1ec9-41fd-f4bd-6ff645812bf7"
      },
      "source": [
        "KnightWalk(chess,1,1,1)"
      ],
      "execution_count": null,
      "outputs": [
        {
          "output_type": "stream",
          "text": [
            "ans found\n",
            "[[25, 16, 7, 2, 19], [6, 1, 18, 15, 8], [17, 24, 11, 20, 3], [12, 5, 22, 9, 14], [23, 10, 13, 4, 21]]\n"
          ],
          "name": "stdout"
        }
      ]
    },
    {
      "cell_type": "code",
      "metadata": {
        "id": "11aisNg0wj9G"
      },
      "source": [
        ""
      ],
      "execution_count": null,
      "outputs": []
    },
    {
      "cell_type": "code",
      "metadata": {
        "id": "t7xzDRc0z7Dg"
      },
      "source": [
        ""
      ],
      "execution_count": null,
      "outputs": []
    },
    {
      "cell_type": "code",
      "metadata": {
        "id": "VCEIfWAJHxWp"
      },
      "source": [
        "from collections import deque\n",
        "## Question : Knight walk problem \n",
        "## we are given with starting cordinate of knight and we have to find shortest count by which \n",
        "## knight will reach to the destination cordinate\n",
        "\n",
        "class Node:\n",
        "  def __init__(self,x,y,dist=0):\n",
        "    ## x,y are cordinates of the knight\n",
        "    ## dist = distance from the source(starting position from which we will find count to destination)\n",
        "    self.x = x\n",
        "    self.y = y\n",
        "    self.dist = dist\n",
        "\n",
        "    ## as we are storing node as a key in lookup dictionary then we will find hash for ever\n",
        "    ## (x,y,dist) pair and use it to store in dictionary\n",
        "    ## python __hash__() module will return one hash value for every (x,y,dist) pair\n",
        "    def __hash__(self):\n",
        "      return hash((self.x,self.y,self.dist))\n",
        "    \n",
        "    ## one helper function to equate two node object \n",
        "    ## Note: in python with the help of __eq__ we can overide == functionality and can \n",
        "    ## prepare custom equal check for class objects\n",
        "    def __eq__(self,other):\n",
        "      return (self.x,self.y,self.other) == (other.x,other.y,other.dist)\n",
        "    \n",
        "\n",
        "# Below lists details all 8 possible movements for a knight its same like how many possible \n",
        "## options knight have at every move\n",
        "## same like we increment row(r) and column(c) in previous problem\n",
        "row = [2, 2, -2, -2, 1, 1, -1, -1]\n",
        "col = [-1, 1, 1, -1, 2, -2, 2, -2]\n",
        "\n",
        "## helper function to check whether the cell is valid or not\n",
        "def valid(x,y,N):\n",
        "  ## x = cordinate of row\n",
        "  ## y = cordinate of column\n",
        "  ## N = size of chess board\n",
        "  return not (x<0 or y<0 or x>=N or y>=N)\n",
        "\n",
        "# Find minimum number of steps taken by the knight\n",
        "# from source to reach destination using BFS\n",
        "## BFS - Breadth-first search is an algorithm for traversing or searching tree or graph data \n",
        "## structures. It starts at the tree root, and explores all of the neighbor nodes at the\n",
        "##  present depth prior to moving on to the nodes at the next depth level\n",
        "def BFS(src,dst,N):\n",
        "  ## src - source cordinates\n",
        "  ## dst - destination cordinate\n",
        "\n",
        "  ## create set to check whether cell is visited before or not\n",
        "  visited = set()\n",
        "\n",
        "  # create a queue and enqueue first node\n",
        "  ## in deque we can add or remove element from both the side\n",
        "  q = deque()\n",
        "  q.append(src)\n",
        "  \n",
        "  ## looping over while q is not empty\n",
        "  while q:\n",
        "     \n",
        "    ## take the left most node and process it\n",
        "    node = q.popleft()\n",
        "    x = node.x\n",
        "    y = node.y\n",
        "    dist = node.dist\n",
        "\n",
        "    ## if destination is reached return its distance\n",
        "    if x == dst.x and y == dst.y:\n",
        "      return dist\n",
        "    \n",
        "    ## process node if its not visited before\n",
        "    if node not in visited:\n",
        "      visited.add(node)\n",
        "    # check for all 8 possible movements for a knight\n",
        "    # and enqueue each valid movement into the queue\n",
        "    for i in range(8):\n",
        "      # Get the valid position of Knight from current position on\n",
        "      # chessboard and enqueue it with +1 distance\n",
        "      x1 = x+row[i]\n",
        "      y1 = y+col[i]\n",
        "\n",
        "      if valid(x1,y1,N):\n",
        "        q.append(Node(x1,y1,dist+1))\n",
        "  \n",
        "  return float('inf')\n",
        "\n",
        "\n",
        "\n",
        " "
      ],
      "execution_count": null,
      "outputs": []
    },
    {
      "cell_type": "code",
      "metadata": {
        "colab": {
          "base_uri": "https://localhost:8080/"
        },
        "id": "awSuGmV7nR6y",
        "outputId": "593dcef8-c1d5-4d3f-e4ea-15cbde158019"
      },
      "source": [
        "N = 8\n",
        "src = Node(0, 7)   # source coordinates\n",
        "dest = Node(7, 0)  # destination coordinates\n",
        " \n",
        "print(\"Minimum number of steps required is\", BFS(src, dest, N))"
      ],
      "execution_count": null,
      "outputs": [
        {
          "output_type": "stream",
          "text": [
            "Minimum number of steps required is 6\n"
          ],
          "name": "stdout"
        }
      ]
    },
    {
      "cell_type": "code",
      "metadata": {
        "id": "qIKcuSCBnUVY"
      },
      "source": [
        ""
      ],
      "execution_count": null,
      "outputs": []
    },
    {
      "cell_type": "code",
      "metadata": {
        "id": "keZbVPT1n0Vq"
      },
      "source": [
        ""
      ],
      "execution_count": null,
      "outputs": []
    },
    {
      "cell_type": "code",
      "metadata": {
        "colab": {
          "base_uri": "https://localhost:8080/"
        },
        "id": "YG49BAlTn0gi",
        "outputId": "18bf0d01-2bc1-4930-b20e-962f1832f994"
      },
      "source": [
        "## power using recursion again\n",
        "def pow(x,n):\n",
        "  \n",
        "  if (n==0):\n",
        "    return 1\n",
        "\n",
        "  xn1 = pow(x,n-1)\n",
        "  return xn1*x\n",
        "\n",
        "pow(2,3)"
      ],
      "execution_count": null,
      "outputs": [
        {
          "output_type": "execute_result",
          "data": {
            "text/plain": [
              "8"
            ]
          },
          "metadata": {
            "tags": []
          },
          "execution_count": 8
        }
      ]
    },
    {
      "cell_type": "code",
      "metadata": {
        "id": "BKT_71DZoxCJ"
      },
      "source": [
        ""
      ],
      "execution_count": null,
      "outputs": []
    },
    {
      "cell_type": "code",
      "metadata": {
        "id": "AMs0f91iq2Uw"
      },
      "source": [
        ""
      ],
      "execution_count": null,
      "outputs": []
    },
    {
      "cell_type": "code",
      "metadata": {
        "id": "pwKbQk_pq24g"
      },
      "source": [
        "## Pepcoding\n",
        "## Question : N queen problem\n",
        "## Place N queen such that no queen kills any other queen on chess board\n",
        "\n",
        "## we will use backtracking and recursion here to place queen at valid position \n",
        "## Note: we do place queen row by row \n",
        "\n",
        "## qsf = queen so far means cell where we have placed our queen so far\n",
        "def NQueen(chess,r,qsf):\n",
        "  \n",
        "  if (r == len(chess)):\n",
        "    print(chess)\n",
        "    return \n",
        "\n",
        "  ## at every row we have 0 to column-1 options \n",
        "  for col in range(len(chess)):\n",
        "    ## now we place queen only after its a valid position or not\n",
        "    if isSafe(chess,r,col) == True:\n",
        "      chess[r][col] = 1\n",
        "      NQueen(chess,r+1,qsf+str(r)+\"-\"+str(col)+\",\")\n",
        "      ## when we backtrack means if we places queen at wrong position then put zero again at that position\n",
        "      chess[r][col] = 0\n",
        "\n",
        "def isSafe(mat, r, c):\n",
        " \n",
        "    # return false if two queens share the same column\n",
        "    for i in range(r):\n",
        "        if mat[i][c] == 1:\n",
        "            return False\n",
        " \n",
        "    # return false if two queens share the same \\ diagonal\n",
        "    (i, j) = (r, c)\n",
        "    while i >= 0 and j >= 0:\n",
        "        if mat[i][j] == 1:\n",
        "            return False\n",
        "        i = i - 1\n",
        "        j = j - 1\n",
        " \n",
        "    # return false if two queens share the same / diagonal\n",
        "    (i, j) = (r, c)\n",
        "    while i >= 0 and j < N:\n",
        "        if mat[i][j] == 1:\n",
        "            return False\n",
        "        i = i - 1\n",
        "        j = j + 1\n",
        " \n",
        "    return True"
      ],
      "execution_count": null,
      "outputs": []
    },
    {
      "cell_type": "code",
      "metadata": {
        "colab": {
          "base_uri": "https://localhost:8080/"
        },
        "id": "9Xc2NnE6DATC",
        "outputId": "515615eb-245f-4b81-9634-451c5bf2ce52"
      },
      "source": [
        "chess = [[0 for x in range(4)] for y in range(4)]\n",
        "N = len(chess)\n",
        "r = 0\n",
        "qsf = ''\n",
        "NQueen(chess,r,qsf)"
      ],
      "execution_count": null,
      "outputs": [
        {
          "output_type": "stream",
          "text": [
            "[[0, 1, 0, 0], [0, 0, 0, 1], [1, 0, 0, 0], [0, 0, 1, 0]]\n",
            "[[0, 0, 1, 0], [1, 0, 0, 0], [0, 0, 0, 1], [0, 1, 0, 0]]\n"
          ],
          "name": "stdout"
        }
      ]
    },
    {
      "cell_type": "code",
      "metadata": {
        "colab": {
          "base_uri": "https://localhost:8080/"
        },
        "id": "quln3xItDFTv",
        "outputId": "e260cc3e-573d-4516-f5fe-6ea16856d0cd"
      },
      "source": [
        "for i in range(2,5,1):\n",
        "  print(i)"
      ],
      "execution_count": null,
      "outputs": [
        {
          "output_type": "stream",
          "text": [
            "2\n",
            "3\n",
            "4\n"
          ],
          "name": "stdout"
        }
      ]
    },
    {
      "cell_type": "code",
      "metadata": {
        "colab": {
          "base_uri": "https://localhost:8080/"
        },
        "id": "F81g2lEjDgXj",
        "outputId": "0a042a1d-a663-4cf1-a451-75308cc3fb2a"
      },
      "source": [
        "len(chess)"
      ],
      "execution_count": null,
      "outputs": [
        {
          "output_type": "execute_result",
          "data": {
            "text/plain": [
              "4"
            ]
          },
          "metadata": {
            "tags": []
          },
          "execution_count": 12
        }
      ]
    },
    {
      "cell_type": "code",
      "metadata": {
        "id": "R_ic88wlD00P"
      },
      "source": [
        ""
      ],
      "execution_count": null,
      "outputs": []
    },
    {
      "cell_type": "code",
      "metadata": {
        "id": "vzkzS5XHzlND"
      },
      "source": [
        ""
      ],
      "execution_count": null,
      "outputs": []
    },
    {
      "cell_type": "code",
      "metadata": {
        "id": "nyNe2uPIzlQ_"
      },
      "source": [
        "## Question : Generate all balanced parenthesis\n",
        "\n",
        "## we will use here recursion and backtracking\n",
        "\n",
        "def GenerateParenthesis(idx,N,close,open,output):\n",
        "  ## idx = idx at output we are inserting our bracket\n",
        "  ## N = for N=2 ()() ,(()) output will generate\n",
        "  ## close = number of closing bracket at any time\n",
        "  ## open = number of opening bracket at any time\n",
        "\n",
        "  ## Base Case\n",
        "  ## if idx == 2*n means we are at last index of output\n",
        "  if (idx == 2*N):\n",
        "    output[idx] = '.'\n",
        "    print(\"\".join(output))\n",
        "    return\n",
        "  \n",
        "  ## we make two recursive calls one for closing and one for opening\n",
        "  ## if open<N then we can add opening bracket\n",
        "  if (open < N):\n",
        "    output[idx] = '('\n",
        "    GenerateParenthesis(idx+1,N,close,open+1,output)\n",
        "  \n",
        "  ## if closing < opening then we can add closing bracket and make closing recursive calls\n",
        "  if (close < open ):\n",
        "    output[idx] = ')'\n",
        "    GenerateParenthesis(idx+1,N,close+1,open,output)\n"
      ],
      "execution_count": null,
      "outputs": []
    },
    {
      "cell_type": "code",
      "metadata": {
        "colab": {
          "base_uri": "https://localhost:8080/"
        },
        "id": "vmSInsNi1NuV",
        "outputId": "d800307d-077c-45af-83bc-e84d6a558dc5"
      },
      "source": [
        "N = 3\n",
        "close = 0\n",
        "open = 0\n",
        "size = 2*N\n",
        "output = [None]*(size+1)\n",
        "idx = 0\n",
        "GenerateParenthesis(idx,N,close,open,output)"
      ],
      "execution_count": null,
      "outputs": [
        {
          "output_type": "stream",
          "text": [
            "((())).\n",
            "(()()).\n",
            "(())().\n",
            "()(()).\n",
            "()()().\n"
          ],
          "name": "stdout"
        }
      ]
    },
    {
      "cell_type": "code",
      "metadata": {
        "id": "vbHENfpn1zUl"
      },
      "source": [
        ""
      ],
      "execution_count": null,
      "outputs": []
    },
    {
      "cell_type": "code",
      "metadata": {
        "id": "OSnyLalO2Scw"
      },
      "source": [
        ""
      ],
      "execution_count": null,
      "outputs": []
    },
    {
      "cell_type": "code",
      "metadata": {
        "id": "Mc-J2t1x2otb"
      },
      "source": [
        "## place two identicals items in 4 different boxes\n",
        "## we will use property of combinations like there are ncr ways of putting r identicals items in n boxes\n",
        "## and total ways of putting 2 non-identicals items in n boxes is 2^n\n",
        "## 2^n = nc0 + nc1 + .. ncn\n",
        "\n",
        "## we write two functions calls one will take the item and one will not\n",
        "\n",
        "def Combinations(cb,asf,ssf,ts,tb):\n",
        "  ## cb = current box\n",
        "  ## asf = answer so far\n",
        "  ## ssf = selection so far\n",
        "  ## ts = total selection to be made eg 2 if we want to place two i,i in 4 boxes(tb)\n",
        "  ## tb = total box\n",
        "\n",
        "  ## base case\n",
        "\n",
        "  if (cb>=tb):\n",
        "    if (ssf == ts):\n",
        "      print(asf)\n",
        "    return \n",
        "\n",
        "  ## if item is not selected to be places on ith box\n",
        "  ## ssf will not increase in that case\n",
        "  Combinations(cb+1,asf+str(\"-\"),ssf,ts,tb)\n",
        "  ## if item is places in ith box\n",
        "  Combinations(cb+1,asf+str(\"i\"),ssf+1,ts,tb)\n"
      ],
      "execution_count": null,
      "outputs": []
    },
    {
      "cell_type": "code",
      "metadata": {
        "colab": {
          "base_uri": "https://localhost:8080/"
        },
        "id": "yMFug4MY6YhJ",
        "outputId": "2c21e706-1787-4f39-b187-573b059570bc"
      },
      "source": [
        "Combinations(0,\"\",0,2,4)"
      ],
      "execution_count": null,
      "outputs": [
        {
          "output_type": "stream",
          "text": [
            "--ii\n",
            "-i-i\n",
            "-ii-\n",
            "i--i\n",
            "i-i-\n",
            "ii--\n"
          ],
          "name": "stdout"
        }
      ]
    },
    {
      "cell_type": "code",
      "metadata": {
        "id": "yDyI3W8F6dwd"
      },
      "source": [
        ""
      ],
      "execution_count": null,
      "outputs": []
    },
    {
      "cell_type": "code",
      "metadata": {
        "id": "vfvR9rCV0da4"
      },
      "source": [
        ""
      ],
      "execution_count": null,
      "outputs": []
    },
    {
      "cell_type": "code",
      "metadata": {
        "id": "Ft_REply0djI"
      },
      "source": [
        "## generating combinations using permutations\n",
        "## use of for loop recursion and backtracking\n",
        "\n",
        "def CombinationPer(boxes,ci,ti,llb):\n",
        "  ## llb = last level box (last box in which item was placed)\n",
        "  ## ci = current item\n",
        "  ## ti = total items\n",
        "  ## boxes = arr of boxes\n",
        "\n",
        "  if ci >= ti:\n",
        "    \n",
        "    ## printing boxes with i at positions 1 and - at position 0\n",
        "    for i in boxes:\n",
        "      if i == 1:\n",
        "        print('i',end=\"\")\n",
        "      else:\n",
        "        print('-',end=\"\")\n",
        "    print('\\n')\n",
        "\n",
        "    return\n",
        "\n",
        "  for b in range(llb+1,len(boxes),1):\n",
        "    ## we check whether bth position in boxes is occupied or not in boxes\n",
        "    if boxes[b] == 0: \n",
        "      boxes[b] = 1\n",
        "      ## then in recursion we are incrementing current item as we place next item now\n",
        "      ## and last level box = b means for the next call next itme will be places on \n",
        "      ## level greater than b\n",
        "      CombinationPer(boxes,ci+1,ti,b)\n",
        "      boxes[b] = 0"
      ],
      "execution_count": null,
      "outputs": []
    },
    {
      "cell_type": "code",
      "metadata": {
        "colab": {
          "base_uri": "https://localhost:8080/"
        },
        "id": "zcd3rdWp2yaL",
        "outputId": "e4410506-dc59-4b34-c913-889a69fb4022"
      },
      "source": [
        "CombinationPer([0,0,0,0],0,2,-1)"
      ],
      "execution_count": null,
      "outputs": [
        {
          "output_type": "stream",
          "text": [
            "ii--\n",
            "\n",
            "i-i-\n",
            "\n",
            "i--i\n",
            "\n",
            "-ii-\n",
            "\n",
            "-i-i\n",
            "\n",
            "--ii\n",
            "\n"
          ],
          "name": "stdout"
        }
      ]
    },
    {
      "cell_type": "code",
      "metadata": {
        "id": "yfYmL6Na36xS"
      },
      "source": [
        ""
      ],
      "execution_count": null,
      "outputs": []
    },
    {
      "cell_type": "code",
      "metadata": {
        "id": "b9j1CwmsaY5V"
      },
      "source": [
        ""
      ],
      "execution_count": null,
      "outputs": []
    },
    {
      "cell_type": "code",
      "metadata": {
        "id": "tb5-q49QaZCo"
      },
      "source": [
        "## Min/Max Heap Implementation\n",
        "\n",
        "## we store the  max heap in the array not like binary tree \n",
        "## adding the element in a max heap is called heapify operation\n",
        "\n",
        "def Heapify(array,n,i):\n",
        "  ## we take largest first as array[i] and then we check whether it is greater than from its right and left child\n",
        "  largest = i\n",
        "\n",
        "  ## we store child of every node like right and left child at position mentioned below\n",
        "  ## where i the location of rote of the children(left,right) in an array\n",
        "  left = 2*i+1\n",
        "  right = 2*i+2\n",
        "\n",
        "  ## check for left child\n",
        "  if (left < n and array[largest]<array[left]):\n",
        "    largest = left\n",
        "  if (right < n and array[right]>array[largest]):\n",
        "    largest = right\n",
        "  \n",
        "  ## now swapping happen\n",
        "  ## now check whether value of largest is changed or not\n",
        "  if largest!=i:\n",
        "    array[i],array[largest] = array[largest],array[i]\n",
        "\n",
        "    ## then recursively do this for all right and left child\n",
        "    Heapify(array,n,largest)\n",
        "\n",
        "  "
      ],
      "execution_count": null,
      "outputs": []
    },
    {
      "cell_type": "code",
      "metadata": {
        "id": "1Ms6_VFsydOn"
      },
      "source": [
        "## now for array n//2 -1 will be the main node and rest will be equal to tree root\n",
        "arr = [ 3,5,9,6,8,20,10,12, 19,18,2 ]\n",
        "n = len(arr)\n",
        "node = n//2-1\n",
        "for i in range(node,-1,-1):\n",
        "  Heapify(arr,n,i)\n"
      ],
      "execution_count": null,
      "outputs": []
    },
    {
      "cell_type": "code",
      "metadata": {
        "colab": {
          "base_uri": "https://localhost:8080/"
        },
        "id": "FDS5yZ4dy7il",
        "outputId": "390f9b74-5eb6-4e1e-e902-8cbe53c46244"
      },
      "source": [
        "arr"
      ],
      "execution_count": null,
      "outputs": [
        {
          "output_type": "execute_result",
          "data": {
            "text/plain": [
              "[20, 19, 10, 12, 18, 9, 3, 5, 6, 8, 2]"
            ]
          },
          "metadata": {
            "tags": []
          },
          "execution_count": 8
        }
      ]
    },
    {
      "cell_type": "code",
      "metadata": {
        "id": "Uj0vOBpvzXJB"
      },
      "source": [
        ""
      ],
      "execution_count": null,
      "outputs": []
    },
    {
      "cell_type": "code",
      "metadata": {
        "id": "Bf0xxgQMzbca"
      },
      "source": [
        ""
      ],
      "execution_count": null,
      "outputs": []
    },
    {
      "cell_type": "code",
      "metadata": {
        "id": "X_dl9RRHzbko"
      },
      "source": [
        "## percolate up and percolate down operation in min-heap\n",
        "\n",
        "## arr = [20, 19, 10, 12, 18, 9, 3, 5, 6, 8, 2] for this array we will add another node at the last and find its exact location in an array so that array will remain max-heap\n",
        "\n",
        "def PushHeap(array,n,i):\n",
        "  check = i\n",
        "\n",
        "  ## find parent of array[i]\n",
        "  parent = (check-1)//2\n",
        "\n",
        "  ## now check whether parent is greater than added ele or not\n",
        "  if ( array[parent] < array[check] and parent >=0 ):\n",
        "    check = parent\n",
        "\n",
        "  if check!=i:\n",
        "    array[parent],array[check] = array[check],array[parent]\n",
        "\n",
        "    ## recursively do for all checks\n",
        "    PushHeap(array,n,check)\n",
        "\n",
        "\n",
        "\n"
      ],
      "execution_count": null,
      "outputs": []
    },
    {
      "cell_type": "code",
      "metadata": {
        "colab": {
          "base_uri": "https://localhost:8080/",
          "height": 322
        },
        "id": "eUur8Cx84hOp",
        "outputId": "c159781d-5aad-4eba-b874-8be7745f3ea8"
      },
      "source": [
        "arr  = [20, 19, 10, 12, 18, 9, 3, 5, 6, 8, 2] \n",
        "\n",
        "## append 10 at the last\n",
        "arr.append(11)\n",
        "\n",
        "## find exact position of ele=10 in an max-heap array\n",
        "i = len(arr)\n",
        "PushHeap(arr,n,i)"
      ],
      "execution_count": null,
      "outputs": [
        {
          "output_type": "error",
          "ename": "IndexError",
          "evalue": "ignored",
          "traceback": [
            "\u001b[0;31m---------------------------------------------------------------------------\u001b[0m",
            "\u001b[0;31mIndexError\u001b[0m                                Traceback (most recent call last)",
            "\u001b[0;32m<ipython-input-24-d1b218671a0b>\u001b[0m in \u001b[0;36m<module>\u001b[0;34m()\u001b[0m\n\u001b[1;32m      6\u001b[0m \u001b[0;31m## find exact position of ele=10 in an max-heap array\u001b[0m\u001b[0;34m\u001b[0m\u001b[0;34m\u001b[0m\u001b[0;34m\u001b[0m\u001b[0m\n\u001b[1;32m      7\u001b[0m \u001b[0mi\u001b[0m \u001b[0;34m=\u001b[0m \u001b[0mlen\u001b[0m\u001b[0;34m(\u001b[0m\u001b[0marr\u001b[0m\u001b[0;34m)\u001b[0m\u001b[0;34m\u001b[0m\u001b[0;34m\u001b[0m\u001b[0m\n\u001b[0;32m----> 8\u001b[0;31m \u001b[0mPushHeap\u001b[0m\u001b[0;34m(\u001b[0m\u001b[0marr\u001b[0m\u001b[0;34m,\u001b[0m\u001b[0mn\u001b[0m\u001b[0;34m,\u001b[0m\u001b[0mi\u001b[0m\u001b[0;34m)\u001b[0m\u001b[0;34m\u001b[0m\u001b[0;34m\u001b[0m\u001b[0m\n\u001b[0m",
            "\u001b[0;32m<ipython-input-23-862583f3a3db>\u001b[0m in \u001b[0;36mPushHeap\u001b[0;34m(array, n, i)\u001b[0m\n\u001b[1;32m     10\u001b[0m \u001b[0;34m\u001b[0m\u001b[0m\n\u001b[1;32m     11\u001b[0m   \u001b[0;31m## now check whether parent is greater than added ele or not\u001b[0m\u001b[0;34m\u001b[0m\u001b[0;34m\u001b[0m\u001b[0;34m\u001b[0m\u001b[0m\n\u001b[0;32m---> 12\u001b[0;31m   \u001b[0;32mif\u001b[0m \u001b[0;34m(\u001b[0m \u001b[0marray\u001b[0m\u001b[0;34m[\u001b[0m\u001b[0mparent\u001b[0m\u001b[0;34m]\u001b[0m \u001b[0;34m<\u001b[0m \u001b[0marray\u001b[0m\u001b[0;34m[\u001b[0m\u001b[0mcheck\u001b[0m\u001b[0;34m]\u001b[0m\u001b[0;34m)\u001b[0m\u001b[0;34m:\u001b[0m\u001b[0;34m\u001b[0m\u001b[0;34m\u001b[0m\u001b[0m\n\u001b[0m\u001b[1;32m     13\u001b[0m     \u001b[0mcheck\u001b[0m \u001b[0;34m=\u001b[0m \u001b[0mparent\u001b[0m\u001b[0;34m\u001b[0m\u001b[0;34m\u001b[0m\u001b[0m\n\u001b[1;32m     14\u001b[0m \u001b[0;34m\u001b[0m\u001b[0m\n",
            "\u001b[0;31mIndexError\u001b[0m: list index out of range"
          ]
        }
      ]
    },
    {
      "cell_type": "code",
      "metadata": {
        "id": "axJbQU2A40hV"
      },
      "source": [
        ""
      ],
      "execution_count": null,
      "outputs": []
    },
    {
      "cell_type": "code",
      "metadata": {
        "id": "BbP-JA_qa6PU"
      },
      "source": [
        ""
      ],
      "execution_count": null,
      "outputs": []
    },
    {
      "cell_type": "code",
      "metadata": {
        "colab": {
          "base_uri": "https://localhost:8080/"
        },
        "id": "A2385UJPa6Ws",
        "outputId": "af794d19-8b16-46e0-b544-676c953e533f"
      },
      "source": [
        "## Question : Group Anagrams Together\n",
        "\n",
        "## words = [\"cat\", \"dog\", \"tac\", \"got\", \"act\"] \n",
        "\n",
        "def PrintAnagram(words,result=[]):\n",
        "\n",
        "  ## this hashmap will store all the string rep of words as key and word as value\n",
        "  hashmap = {}\n",
        "\n",
        "  ## Empty String for storing string rep of all word\n",
        "  ## eg for cat its string rep will be act -- a comes before c and c before t\n",
        "  ## list of sorted words\n",
        "  A = [''.join(sorted(word)) for word in words]\n",
        "\n",
        "  for i,e in enumerate(A):\n",
        "    hashmap.setdefault(e,[]).append(i)\n",
        "  for index in hashmap.values():\n",
        "    result.append([words[i] for i in index])\n",
        "  print(result)\n",
        "\n",
        "\n",
        "PrintAnagram([\"eat\", \"tea\", \"tan\", \"ate\", \"nat\", \"bat\"],result=[])"
      ],
      "execution_count": null,
      "outputs": [
        {
          "output_type": "stream",
          "text": [
            "[['eat', 'tea', 'ate'], ['tan', 'nat'], ['bat']]\n"
          ],
          "name": "stdout"
        }
      ]
    },
    {
      "cell_type": "code",
      "metadata": {
        "id": "6c47g2PofQGm"
      },
      "source": [
        "words = [\"cat\", \"dog\", \"tac\", \"got\", \"act\"] \n",
        "\n",
        "A = [''.join(sorted(word)) for word in words]"
      ],
      "execution_count": null,
      "outputs": []
    },
    {
      "cell_type": "code",
      "metadata": {
        "colab": {
          "base_uri": "https://localhost:8080/"
        },
        "id": "RNfbzP2chu35",
        "outputId": "50bd7376-030d-4461-e83e-59a8ae8b90a2"
      },
      "source": [
        "A"
      ],
      "execution_count": null,
      "outputs": [
        {
          "output_type": "execute_result",
          "data": {
            "text/plain": [
              "['act', 'dgo', 'act', 'got', 'act']"
            ]
          },
          "metadata": {
            "tags": []
          },
          "execution_count": 7
        }
      ]
    },
    {
      "cell_type": "code",
      "metadata": {
        "id": "m0kAhpeGfSSU"
      },
      "source": [
        "dic = {}\n",
        "result = []\n",
        "for i, e in enumerate(A):\n",
        "  dic.setdefault(e,[]).append(i)\n",
        "for index in dic.values():\n",
        "  result.append([words[i] for i in index])"
      ],
      "execution_count": null,
      "outputs": []
    },
    {
      "cell_type": "code",
      "metadata": {
        "colab": {
          "base_uri": "https://localhost:8080/"
        },
        "id": "GsXMrIOff0Oa",
        "outputId": "1b465282-8667-425d-f162-99636c54027b"
      },
      "source": [
        "dic"
      ],
      "execution_count": null,
      "outputs": [
        {
          "output_type": "execute_result",
          "data": {
            "text/plain": [
              "{'act': [0, 2, 4], 'dgo': [1], 'got': [3]}"
            ]
          },
          "metadata": {
            "tags": []
          },
          "execution_count": 9
        }
      ]
    },
    {
      "cell_type": "code",
      "metadata": {
        "colab": {
          "base_uri": "https://localhost:8080/"
        },
        "id": "w3cb-K4Qhs0e",
        "outputId": "d6c196ec-b63c-4476-af6c-dd21ca0407b8"
      },
      "source": [
        "result"
      ],
      "execution_count": null,
      "outputs": [
        {
          "output_type": "execute_result",
          "data": {
            "text/plain": [
              "[['cat', 'tac', 'act'], ['dog'], ['got']]"
            ]
          },
          "metadata": {
            "tags": []
          },
          "execution_count": 12
        }
      ]
    },
    {
      "cell_type": "code",
      "metadata": {
        "id": "29dJwSqxiHt9"
      },
      "source": [
        ""
      ],
      "execution_count": null,
      "outputs": []
    },
    {
      "cell_type": "code",
      "metadata": {
        "id": "60vQE3I3inTu"
      },
      "source": [
        ""
      ],
      "execution_count": null,
      "outputs": []
    },
    {
      "cell_type": "code",
      "metadata": {
        "id": "ZTEhGM50inYD"
      },
      "source": [
        "## Question : Find first non-repeating character from a stream of characters\n",
        "## In this question we have to find the first non-repeating character in a given stream of character\n",
        "\n",
        "## this function takes two input ascii list = stores data type node for every character visited\n",
        "## ch = ch from stream of character\n",
        "def PrintFirstcharacter(stream):\n",
        "  unique_list = []\n",
        "  for x in stream:\n",
        "    if x not in unique_list:\n",
        "      unique_list.append(x)\n",
        "    else:\n",
        "      unique_list.remove(x)\n",
        "    \n",
        "    if len(unique_list)!=0:\n",
        "      print('First non repeated character is :',unique_list[0])\n",
        "    else:\n",
        "      print('First non repeated character is :',-1)\n",
        "\n",
        "  "
      ],
      "execution_count": null,
      "outputs": []
    },
    {
      "cell_type": "code",
      "metadata": {
        "colab": {
          "base_uri": "https://localhost:8080/"
        },
        "id": "wAx4oOB2t3yd",
        "outputId": "01aa9596-e711-471e-a6f8-77549f28c284"
      },
      "source": [
        "PrintFirstcharacter('ababef')"
      ],
      "execution_count": null,
      "outputs": [
        {
          "output_type": "stream",
          "text": [
            "First non repeated character is : a\n",
            "First non repeated character is : a\n",
            "First non repeated character is : b\n",
            "First non repeated character is : -1\n",
            "First non repeated character is : e\n",
            "First non repeated character is : e\n"
          ],
          "name": "stdout"
        }
      ]
    },
    {
      "cell_type": "code",
      "metadata": {
        "id": "7b0aB7yjuDb8"
      },
      "source": [
        ""
      ],
      "execution_count": null,
      "outputs": []
    },
    {
      "cell_type": "code",
      "metadata": {
        "id": "LgISRUAuvwhS"
      },
      "source": [
        ""
      ],
      "execution_count": null,
      "outputs": []
    },
    {
      "cell_type": "code",
      "metadata": {
        "id": "1yEzd3mxvwpJ"
      },
      "source": [
        "## Question : LRU cache implementation\n",
        "## use Linked List and hashmap here\n",
        "## like value of hashmap will point to node object\n",
        "## using Linked list here because in linked list get and put operation works in O(1) time\n",
        "\n",
        "## dll = doubly linked list\n",
        "class dll:\n",
        "  def __init__(self,key,value):\n",
        "    self.key = key\n",
        "    self.value = value\n",
        "    self.prev = None\n",
        "    self.next = None\n",
        "\n",
        "class LRUCache:\n",
        "  \n",
        "  ##  capacity:int means capacity will be pass as integer \n",
        "  def __init__(self,capacity:int):\n",
        "    ## for head we store its key and value as -1,-1 \n",
        "    self.head = dll(-1,-1)\n",
        "    ## intially tail points to head\n",
        "    self.tail = self.head\n",
        "    self.capacity = capacity\n",
        "    ## hashmap to store all the keys and their values point to dll nodes\n",
        "    self.hash = {}\n",
        "    ## length of current hashmap intially\n",
        "    self.length = 0\n",
        "  \n",
        "  def PrintHash(self):\n",
        "    return self.hash\n",
        "  def Printtail(self):\n",
        "    return self.tail\n",
        "  def PrintHead(self):\n",
        "    return self.head\n",
        "  \n",
        "  ## get method will give us value of key passed as integer(int)\n",
        "  def get(self,key:int)->int:\n",
        "    if key not in self.hash:\n",
        "      return -1\n",
        "    \n",
        "    ## else we extract node at hashmap with key as key passed\n",
        "    node = self.hash[key]\n",
        "    val = node.value\n",
        "    ## now we place that node at the end of dll\n",
        "    while node.next is not None:\n",
        "      node.prev.next = node.next\n",
        "      node.next.prev = node.prev\n",
        "      self.tail.next = node\n",
        "      node.prev = self.tail\n",
        "      node.next = None\n",
        "      self.tail = node\n",
        "    return val\n",
        "  \n",
        "  ## put function will put the val at end if cap<length\n",
        "  ## add operation happens at the end of dll\n",
        "  ## if cap >= length then delete first head node and point head to head.next\n",
        "  ## and add node at the last position\n",
        "  ## if key already present then simply place that node to the end\n",
        "\n",
        "  ## it returns -> None\n",
        "  def put(self,key:int,value:int) -> None:\n",
        "    if key in self.hash:\n",
        "      node = self.hash[key]\n",
        "      node.value = value\n",
        "\n",
        "      ## now place node at the last\n",
        "      while node.next is not None:\n",
        "        node.prev.next = node.next\n",
        "        node.next.prev = node.prev\n",
        "        self.tail.next = node\n",
        "        node.prev = self.tail\n",
        "        node.next = None\n",
        "        self.tail = node\n",
        "\n",
        "    ## if key is not present in the hashmap\n",
        "    else:\n",
        "      node = dll(key,value)\n",
        "      self.hash[key] = node\n",
        "      node.next = None\n",
        "      self.tail.next = node\n",
        "      node.prev = self.tail\n",
        "      self.tail = node\n",
        "      self.length += 1\n",
        "      \n",
        "      if self.length > self.capacity:\n",
        "        remove = self.head.next\n",
        "        self.head.next = self.head.next.next\n",
        "        self.head.next.prev = self.head\n",
        "        del self.hash[remove.key]\n",
        "        self.length -= 1"
      ],
      "execution_count": null,
      "outputs": []
    },
    {
      "cell_type": "code",
      "metadata": {
        "id": "EFrGA-y08Tr4"
      },
      "source": [
        "a = LRUCache(3)"
      ],
      "execution_count": null,
      "outputs": []
    },
    {
      "cell_type": "code",
      "metadata": {
        "id": "dGvGN_5s8ThB"
      },
      "source": [
        "a.put(1,100)\n",
        "a.put(2,200)\n",
        "a.put(3,300)"
      ],
      "execution_count": null,
      "outputs": []
    },
    {
      "cell_type": "code",
      "metadata": {
        "colab": {
          "base_uri": "https://localhost:8080/"
        },
        "id": "fDm4mFtH8brV",
        "outputId": "6369756d-aa1b-4df3-ea2d-12e31bb69b99"
      },
      "source": [
        "a.PrintHead().key"
      ],
      "execution_count": null,
      "outputs": [
        {
          "output_type": "execute_result",
          "data": {
            "text/plain": [
              "-1"
            ]
          },
          "metadata": {
            "tags": []
          },
          "execution_count": 49
        }
      ]
    },
    {
      "cell_type": "code",
      "metadata": {
        "id": "gjz6geGB8eDl"
      },
      "source": [
        "## Approach 2 logicMojo\n",
        "## Question : LRU cache implementation\n",
        "## use Linked List and hashmap here\n",
        "## like value of hashmap will point to node object\n",
        "## using Linked list here because in linked list get and put operation works in O(1) time\n",
        "\n",
        "## dll = doubly linked list\n",
        "class dll:\n",
        "  def __init__(self):\n",
        "    self.key = 0\n",
        "    self.value = 0\n",
        "    self.prev = None\n",
        "    self.next = None\n",
        "\n",
        "class LRUCache:\n",
        "  \n",
        "  ##  capacity:int means capacity will be pass as integer \n",
        "  def __init__(self,capacity:int):\n",
        "    ## for head we store its key and value as -1,-1 \n",
        "    self.head = dll()\n",
        "    ## intially tail points to head\n",
        "    self.tail = dll()\n",
        "    self.capacity = capacity\n",
        "    ## hashmap to store all the keys and their values point to dll nodes\n",
        "    self.hash = {}\n",
        "    ## length of current hashmap intially\n",
        "    self.length = 0\n",
        "\n",
        "    ## intially head points to tail and tail.prev points to head\n",
        "    self.head.next = self.tail\n",
        "    self.tail.prev = self.head\n",
        "\n",
        "  def _add_node(self,node):\n",
        "\n",
        "    ## Always add the new node right after the head\n",
        "    node.prev = self.head\n",
        "    node.next = self.head.next\n",
        "\n",
        "    self.head.next.prev = node\n",
        "    self.head.next = node\n",
        "  \n",
        "  def _remove_node(self,node):\n",
        "\n",
        "    ## Remove the existing node from the linked list\n",
        "    ## node could exist in any position within a linked list\n",
        "    ## basically we are removing the links of node \n",
        "    prev = node.prev\n",
        "    next_node = node.next\n",
        "\n",
        "    prev.next = next_node\n",
        "    next_node.prev = prev\n",
        "  \n",
        "  def _move_to_head(self,node):\n",
        "\n",
        "    ## move any certain node within linked list to the head\n",
        "    ## calling class function within its another function\n",
        "    self._remove_node(node) ## remove particular node from the linked list\n",
        "    ## then use _add_node function to add node just after the head\n",
        "    self._add_node(node)\n",
        "\n",
        "  def _pop_tail(self):\n",
        "\n",
        "    ## pop the current tail\n",
        "    ## actually it pops the last ele in a linked list\n",
        "    res = self.tail.prev\n",
        "    self._remove_node(res)\n",
        "    return res\n",
        "  \n",
        "  def get(self,key:int)->int:\n",
        "    \"\"\"\n",
        "        :type key: int\n",
        "        :rtype: int\n",
        "    \"\"\"\n",
        "    ## return node for the key and returns None if no key present\n",
        "    node = self.hash.get(key,None)\n",
        "    ## if key not in hashmap\n",
        "    if not node:\n",
        "      return -1\n",
        "    \n",
        "    self._move_to_head(node)\n",
        "    return node.value\n",
        "\n",
        "  def put(self,key:int,val:int)->None:\n",
        "\n",
        "    node = self.hash.get(key)\n",
        "\n",
        "    if not node:\n",
        "      newnode = dll()\n",
        "      newnode.key = key\n",
        "      newnode.value = val\n",
        "\n",
        "      self.hash[key] = newnode\n",
        "      self._add_node(newnode)\n",
        "\n",
        "      self.length += 1\n",
        "\n",
        "      if self.length > self.capacity:\n",
        "\n",
        "        tail = self._pop_tail()\n",
        "        ## remove least recently used node which is tail\n",
        "        del self.hash[tail.key]\n",
        "        self.length -= 1\n",
        "    \n",
        "    else:\n",
        "      ## update the value\n",
        "      node.value = val\n",
        "      self._move_to_head(node)"
      ],
      "execution_count": null,
      "outputs": []
    },
    {
      "cell_type": "code",
      "metadata": {
        "id": "KCoutydhrfGT"
      },
      "source": [
        "cache = LRUCache(3)"
      ],
      "execution_count": null,
      "outputs": []
    },
    {
      "cell_type": "code",
      "metadata": {
        "id": "gyXGWxP4sIBo"
      },
      "source": [
        "cache.put(1,100)"
      ],
      "execution_count": null,
      "outputs": []
    },
    {
      "cell_type": "code",
      "metadata": {
        "colab": {
          "base_uri": "https://localhost:8080/"
        },
        "id": "NAUmYbyJs9Dm",
        "outputId": "b01c5289-8425-4446-8430-fbfbb72bb8e7"
      },
      "source": [
        "cache.put(2,222)\n",
        "cache.put(3,333)\n",
        " \n",
        "print(cache.get(1))\n",
        "print(cache.get(3))\n",
        " "
      ],
      "execution_count": null,
      "outputs": [
        {
          "output_type": "stream",
          "text": [
            "100\n",
            "333\n"
          ],
          "name": "stdout"
        }
      ]
    },
    {
      "cell_type": "code",
      "metadata": {
        "id": "MUNu00yFtYPj"
      },
      "source": [
        ""
      ],
      "execution_count": null,
      "outputs": []
    },
    {
      "cell_type": "code",
      "metadata": {
        "id": "ZqUJFwOKt-hO"
      },
      "source": [
        ""
      ],
      "execution_count": null,
      "outputs": []
    },
    {
      "cell_type": "code",
      "metadata": {
        "id": "cBF5h4zLuKA4"
      },
      "source": [
        "## Question : Four sum problem\n",
        "\n",
        "## In this problem we need to find 4 unique indexes in an array whose sum = sum given\n",
        "## use hashmap here to store sum in the pair of 2 and do this\n",
        "## for eg for indexes i,j we find sum = sum1 then we store sum1->(i,j)\n",
        "## and then we find val = sum-(k,l) and if val = sum1 then it means i+j+k+l = sum\n",
        "\n",
        "## arr = [1, 5, 1, 0, 6, 0]\n",
        "class Point:\n",
        "  def __init__(self,x,y):\n",
        "    self.x = x\n",
        "    self.y = y\n",
        "\n",
        "def Foursum(arr,hash,target,result):\n",
        "\n",
        "  for i in range(len(arr)-1):\n",
        "    for j in range(i+1,len(arr)):\n",
        "\n",
        "      val = target - (arr[i]+arr[j])\n",
        "\n",
        "      if hash.get(val,None):\n",
        "        ## now we extract previous values\n",
        "        ## node will have x,y indexes of array\n",
        "        node = hash.get(val)\n",
        "        ## x,y,i,j should be unique\n",
        "        if (node.x != i and node.x!=j and node.y!=i and node.y!=j):\n",
        "          res = [arr[node.x],arr[node.y],arr[i],arr[j]]\n",
        "          if res not in result:\n",
        "            result.append([arr[node.x],arr[node.y],arr[i],arr[j]])\n",
        "          \n",
        "      ## if i+j sum is not present in the hashmap\n",
        "      key = arr[i]+arr[j]\n",
        "      point = Point(i,j)\n",
        "      hash[key] = point\n"
      ],
      "execution_count": null,
      "outputs": []
    },
    {
      "cell_type": "code",
      "metadata": {
        "id": "DDfp0Jyh9TAK"
      },
      "source": [
        "result = []\n",
        "Foursum([1, 5, 1, 0, 6, 0],{},7,result)"
      ],
      "execution_count": null,
      "outputs": []
    },
    {
      "cell_type": "code",
      "metadata": {
        "colab": {
          "base_uri": "https://localhost:8080/"
        },
        "id": "YuOjfzN19Ymy",
        "outputId": "0b6bc09f-a621-44a8-83ab-cc0fef8b2144"
      },
      "source": [
        "result"
      ],
      "execution_count": null,
      "outputs": [
        {
          "output_type": "execute_result",
          "data": {
            "text/plain": [
              "[[1, 0, 5, 1], [1, 1, 5, 0], [1, 0, 0, 6], [1, 6, 0, 0]]"
            ]
          },
          "metadata": {
            "tags": []
          },
          "execution_count": 23
        }
      ]
    },
    {
      "cell_type": "code",
      "metadata": {
        "id": "yNH4DPkk-F5D"
      },
      "source": [
        "def fourSum (array, n, target, result): \n",
        "    # Store summs of all pairs in a hash table \n",
        "    mp = {} \n",
        "    for i in range(n - 1): \n",
        "        for j in range(i + 1, n): \n",
        "            mp[array[i] + array[j]] = [i, j] \n",
        "    # Traverse through all pairs and search \n",
        "    # for target - (current pair summ). \n",
        "    for i in range(n - 1): \n",
        "        for j in range(i + 1, n): \n",
        "            summ = array[i] + array[j] \n",
        "            # If target - summ is present in hash table, \n",
        "            if (target - summ) in mp: \n",
        "                # Making sure that all elements are \n",
        "                # distinct array elements and an element \n",
        "                # is not considered more than once.\n",
        "                p = mp[target - summ] \n",
        "                if (p[0] != i and p[0] != j and p[1] != i and p[1] != j): \n",
        "                    #result.append(array[i], \", \", array[j], \", \", array[p[0]], \", \", array[p[1]], sep =\"\")\n",
        "                    result.append(array[i])\n",
        "                    result.append(array[j])\n",
        "                    result.append(array[p[0]])\n",
        "                    result.append(array[p[1]])\n",
        "                    return"
      ],
      "execution_count": null,
      "outputs": []
    },
    {
      "cell_type": "code",
      "metadata": {
        "id": "3a1niW4P-j77"
      },
      "source": [
        "array = [1, 5, 1, 0, 6, 0] \n",
        "n = len(array) \n",
        "target = 7\n",
        "result = []\n",
        "fourSum(array, n, target,result)"
      ],
      "execution_count": null,
      "outputs": []
    },
    {
      "cell_type": "code",
      "metadata": {
        "colab": {
          "base_uri": "https://localhost:8080/"
        },
        "id": "TQpXg23b-qt3",
        "outputId": "c3b545b6-d5e0-45ea-c486-7cba43c1b093"
      },
      "source": [
        "result"
      ],
      "execution_count": null,
      "outputs": [
        {
          "output_type": "execute_result",
          "data": {
            "text/plain": [
              "[1, 5, 1, 0]"
            ]
          },
          "metadata": {
            "tags": []
          },
          "execution_count": 17
        }
      ]
    },
    {
      "cell_type": "code",
      "metadata": {
        "id": "7emzuS_D-r2Y"
      },
      "source": [
        ""
      ],
      "execution_count": null,
      "outputs": []
    },
    {
      "cell_type": "code",
      "metadata": {
        "id": "yDFAKnpA_oip"
      },
      "source": [
        ""
      ],
      "execution_count": null,
      "outputs": []
    },
    {
      "cell_type": "code",
      "metadata": {
        "colab": {
          "base_uri": "https://localhost:8080/"
        },
        "id": "ja40dCvB_onn",
        "outputId": "c1fc12fd-bee3-4c8b-ab17-47168e3232fd"
      },
      "source": [
        "ord('0')-48"
      ],
      "execution_count": null,
      "outputs": [
        {
          "output_type": "execute_result",
          "data": {
            "text/plain": [
              "0"
            ]
          },
          "metadata": {
            "tags": []
          },
          "execution_count": 29
        }
      ]
    },
    {
      "cell_type": "code",
      "metadata": {
        "colab": {
          "base_uri": "https://localhost:8080/"
        },
        "id": "QqU9IpwP_FbJ",
        "outputId": "59486946-0a37-4bef-8273-fc6eb06bfe16"
      },
      "source": [
        "(ord('1') - 48 + \n",
        "                       ord('1') - 48)"
      ],
      "execution_count": null,
      "outputs": [
        {
          "output_type": "execute_result",
          "data": {
            "text/plain": [
              "2"
            ]
          },
          "metadata": {
            "tags": []
          },
          "execution_count": 3
        }
      ]
    },
    {
      "cell_type": "code",
      "metadata": {
        "id": "neHP6n6d_Fj7"
      },
      "source": [
        "def NumberToWords(array,result):\n",
        "    \n",
        "    l = len(array);  \n",
        "    if (l == 0): \n",
        "        result.append(\"empty string\"); \n",
        "        return; \n",
        "  \n",
        "    if (l > 4): \n",
        "        result.append(\"Length more than 4 is not supported\"); \n",
        "        return; \n",
        "  \n",
        "    singleDigits = [\"zero\", \"one\", \"two\", \"three\",  \n",
        "                     \"four\", \"five\", \"six\", \"seven\",  \n",
        "                     \"eight\", \"nine\"]; \n",
        "    \n",
        "    twoDigits = [\"\", \"ten\", \"eleven\", \"twelve\",  \n",
        "                  \"thirteen\", \"fourteen\", \"fifteen\",  \n",
        "                  \"sixteen\", \"seventeen\", \"eighteen\", \n",
        "                  \"nineteen\"]; \n",
        "    \n",
        "    digits10Multiples = [\"\", \"\", \"twenty\", \"thirty\", \"forty\", \n",
        "                     \"fifty\", \"sixty\", \"seventy\", \"eighty\",  \n",
        "                     \"ninety\"]; \n",
        "    digits100Multiples = [\"hundred\", \"thousand\"]; \n",
        "    \n",
        "     \n",
        "    \n",
        "    if (l == 1):  \n",
        "        result.append(singleDigits[ord(array[0]) - '0']); \n",
        "        return; \n",
        "    x = 0; \n",
        "    while (x < len(array)):  \n",
        "        if (l >= 3): \n",
        "            if (ord(array[x]) - 48 != 0): \n",
        "                result.append(singleDigits[ord(array[x]) - 48]); \n",
        "                result.append(digits100Multiples[l - 3]);  \n",
        "            l -= 1; \n",
        "        else: \n",
        "            if (ord(array[x]) - 48 == 1):\n",
        "                val =   ord(array[x]) - 48\n",
        "                result.append(twoDigits[val]) \n",
        "                return; \n",
        "  \n",
        "            \n",
        "            elif (ord(array[x]) - 48 == 2 and \n",
        "                  ord(array[x + 1]) - 48 == 0): \n",
        "                result.append(\"twenty\"); \n",
        "                return; \n",
        "            else: \n",
        "                i = ord(array[x]) - 48; \n",
        "                if(i > 0): \n",
        "                    result.append(digits10Multiples[i]); \n",
        "                else: \n",
        "                    result.append(\"\"); \n",
        "                x += 1; \n",
        "                if(ord(array[x]) - 48 != 0): \n",
        "                    result.append(singleDigits[ord(array[x]) - 48]); \n",
        "        x += 1; \n",
        "  "
      ],
      "execution_count": null,
      "outputs": []
    },
    {
      "cell_type": "code",
      "metadata": {
        "id": "T5_YBRoxABe4"
      },
      "source": [
        "res = []\n",
        "NumberToWords('1234',res)"
      ],
      "execution_count": null,
      "outputs": []
    },
    {
      "cell_type": "code",
      "metadata": {
        "colab": {
          "base_uri": "https://localhost:8080/"
        },
        "id": "BQqG_boYBpGw",
        "outputId": "3b3fa9f6-f1c1-4687-fed7-a0d0389dc922"
      },
      "source": [
        "res"
      ],
      "execution_count": null,
      "outputs": [
        {
          "output_type": "execute_result",
          "data": {
            "text/plain": [
              "['one', 'thousand', 'two', 'hundred', 'thirty', 'four']"
            ]
          },
          "metadata": {
            "tags": []
          },
          "execution_count": 38
        }
      ]
    },
    {
      "cell_type": "code",
      "metadata": {
        "id": "RQqY196OkQmk"
      },
      "source": [
        ""
      ],
      "execution_count": null,
      "outputs": []
    },
    {
      "cell_type": "code",
      "metadata": {
        "id": "jmiztPili-DA"
      },
      "source": [
        ""
      ],
      "execution_count": null,
      "outputs": []
    },
    {
      "cell_type": "code",
      "metadata": {
        "id": "7mfwymj3kNAh"
      },
      "source": [
        "## Question : Median of data stream\n",
        "## use min and max heap here to find median of array at any moment of time\n",
        "\n",
        "## using heapq module that does heapify operations in python\n",
        "## heapqpop , heappush,heapify(iterable)\n",
        "\n",
        "import heapq\n",
        "class Median_Filter:\n",
        "\n",
        "  def __init__(self):\n",
        "    self.min_heap = []\n",
        "    self.max_heap = []\n",
        "  \n",
        "  def add_number(self,num):\n",
        "\n",
        "    if not self.min_heap and not self.max_heap:\n",
        "      heapq.heappush(self.min_heap,num)\n",
        "      count_right = count_right + 1\n",
        "      return\n",
        "\n",
        "    if not self.max_heap:\n",
        "      heapq.heappush(self.max_heap,num)\n",
        "      count_left = count_left + 1\n",
        "\n",
        "    if self.min_heap[0] < self.max_heap[0]:\n",
        "      self.min_heap[0],self.max_heap[0] = self.max_heap[0],self.min_heap[0]\n",
        "\n",
        "\n",
        "    if count_right-count_left <= 1 :\n",
        "\n",
        "      if num"
      ],
      "execution_count": null,
      "outputs": []
    },
    {
      "cell_type": "code",
      "metadata": {
        "id": "-bNlKIOfkbzq"
      },
      "source": [
        ""
      ],
      "execution_count": null,
      "outputs": []
    },
    {
      "cell_type": "code",
      "metadata": {
        "id": "UIEt6Cq99Jae"
      },
      "source": [
        "class Median_Finder:\n",
        "    \n",
        "    def __init__(self):\n",
        "        self.max_heap = []\n",
        "        self.min_heap = []\n",
        "        \n",
        "\n",
        "    def add_Number(self, num):\n",
        "        if not self.max_heap and not self.min_heap:\n",
        "            heapq.heappush(self.min_heap, num)\n",
        "            return \n",
        "        if not self.max_heap:\n",
        "            if num > self.min_heap[0]:\n",
        "                heapq.heappush(self.max_heap, heapq.heappop(self.min_heap))\n",
        "                heapq.heappush(self.min_heap, num)\n",
        "            else:\n",
        "                heapq.heappush(self.max_heap, num)\n",
        "            return\n",
        "        \n",
        "        ## check count_right and count_left\n",
        "        if len(self.min_heap) == len(self.max_heap):\n",
        "          if num < self.max_heap[0]:\n",
        "            ## we'll append that number in max_heap\n",
        "            heapq.heappush(self.max_heap,num)\n",
        "          else:\n",
        "            heapq.heappush(self.min_heap,num)\n",
        "        \n",
        "        elif len(self.max_heap) > len(self.min_heap):\n",
        "          if num < self.max_heap[0]:\n",
        "            heapq.heappush(self.min_heap,heapq.heappop(self.max_heap))\n",
        "            heapq.heappush(self.max_heap,num)\n",
        "          else:\n",
        "            heapq.heappush(self.min_heap,num)\n",
        "\n",
        "        else:\n",
        "          if num > self.min_heap[0]:\n",
        "            heapq.heappush(self.max_heap,heapq.heappop(self.min_heap))\n",
        "            heapq.heappush(self.min_heap,num)\n",
        "          else:\n",
        "            heapq.heappush(self.max_heap,num)\n",
        "\n",
        "    def find_Median(self):\n",
        "        if len(self.max_heap) == len(self.min_heap):\n",
        "            return (-self.max_heap[0] + self.min_heap[0]) / 2\n",
        "        elif len(self.max_heap) > len(self.min_heap):\n",
        "            return -self.max_heap[0]\n",
        "        else:\n",
        "            return self.min_heap[0]\n",
        "\n",
        "\n"
      ],
      "execution_count": null,
      "outputs": []
    },
    {
      "cell_type": "code",
      "metadata": {
        "colab": {
          "base_uri": "https://localhost:8080/"
        },
        "id": "ukhxGaEpjmAu",
        "outputId": "ddab65c3-194a-4673-cb78-19552389a0ed"
      },
      "source": [
        "S = Median_Finder()\n",
        "S.add_Number(12)\n",
        "S.add_Number(4)\n",
        "result = S.find_Median()\n",
        "print(result)\n",
        "S.add_Number(5)\n",
        "result = S.find_Median()\n",
        "print(result)\n",
        "S.add_Number(5)\n",
        "S.add_Number(8)\n",
        "result = S.find_Median()\n",
        "print(result)"
      ],
      "execution_count": null,
      "outputs": [
        {
          "output_type": "stream",
          "text": [
            "4.0\n",
            "5\n",
            "5\n"
          ],
          "name": "stdout"
        }
      ]
    },
    {
      "cell_type": "code",
      "metadata": {
        "colab": {
          "base_uri": "https://localhost:8080/"
        },
        "id": "XcUvxppeqHNK",
        "outputId": "4f412c28-21a7-476e-f59c-673f8621edc9"
      },
      "source": [
        "\n",
        "\n",
        "import heapq\n",
        "class Median_Finder:\n",
        "    \n",
        "    def __init__(self):\n",
        "        self.max_heap = []\n",
        "        self.min_heap = []\n",
        "        \n",
        "\n",
        "    def add_Number(self, num):\n",
        "        if not self.max_heap and not self.min_heap:\n",
        "            heapq.heappush(self.min_heap, num)\n",
        "            return \n",
        "        if not self.max_heap:\n",
        "            if num > self.min_heap[0]:\n",
        "                heapq.heappush(self.max_heap, -heapq.heappop(self.min_heap))\n",
        "                heapq.heappush(self.min_heap, num)\n",
        "            else:\n",
        "                heapq.heappush(self.max_heap, -num)\n",
        "            return\n",
        "        if len(self.max_heap) == len(self.min_heap):\n",
        "            if num < -self.max_heap[0]:\n",
        "                heapq.heappush(self.max_heap, -num)\n",
        "            else:\n",
        "                heapq.heappush(self.min_heap, num)\n",
        "        elif len(self.max_heap) > len(self.min_heap):\n",
        "            if num < -self.max_heap[0]:\n",
        "                heapq.heappush(self.min_heap, -heapq.heappop(self.max_heap))\n",
        "                heapq.heappush(self.max_heap, -num)\n",
        "            else:\n",
        "                heapq.heappush(self.min_heap, num)\n",
        "        else:\n",
        "            if num > self.min_heap[0]:\n",
        "                heapq.heappush(self.max_heap, -heapq.heappop(self.min_heap))\n",
        "                heapq.heappush(self.min_heap, num)\n",
        "            else:\n",
        "                heapq.heappush(self.max_heap, -num)\n",
        "        \n",
        "\n",
        "    def find_Median(self):\n",
        "        if len(self.max_heap) == len(self.min_heap):\n",
        "            return (-self.max_heap[0] + self.min_heap[0]) / 2\n",
        "        elif len(self.max_heap) > len(self.min_heap):\n",
        "            return -self.max_heap[0]\n",
        "        else:\n",
        "            return self.min_heap[0] \n",
        "S = Median_Finder()\n",
        "S.add_Number(12)\n",
        "S.add_Number(4)\n",
        "result = S.find_Median()\n",
        "print(result)\n",
        "S.add_Number(5)\n",
        "result = S.find_Median()\n",
        "print(result)\n",
        "S.add_Number(5)\n",
        "S.add_Number(8)\n",
        "result = S.find_Median()\n",
        "print(result)"
      ],
      "execution_count": null,
      "outputs": [
        {
          "output_type": "stream",
          "text": [
            "8.0\n",
            "5\n",
            "5\n"
          ],
          "name": "stdout"
        }
      ]
    },
    {
      "cell_type": "code",
      "metadata": {
        "id": "vUyT2zEMqiyc"
      },
      "source": [
        ""
      ],
      "execution_count": null,
      "outputs": []
    },
    {
      "cell_type": "code",
      "metadata": {
        "id": "oHvrOzTyqxUX"
      },
      "source": [
        ""
      ],
      "execution_count": null,
      "outputs": []
    },
    {
      "cell_type": "code",
      "metadata": {
        "id": "7Hjp4yXxaU32"
      },
      "source": [
        "## Question : Merge K sorted array using heap sort\n",
        "## used percolated down (deletion) and percolate up(insertion)\n",
        "\n",
        "from typing import Optional,List\n",
        "Matrix = List[List[int]]\n",
        "class MinHeapNode:\n",
        "  def __init__(self,ele,i,j):\n",
        "    self.ele = ele ## element to be stored\n",
        "    self.i = i ## x of ele in matrix\n",
        "    self.j = j ## y of ele in matrix\n",
        "\n",
        "class MinHeap:\n",
        "  def __init__(self,ar:List[MinHeapNode],size:int):\n",
        "    self.heap_size = size\n",
        "    self.heap_arr = ar\n",
        "    ## we store 3 ele at a time in a list \n",
        "    i = (self.heap_size-1)//2\n",
        "    while i>=0:\n",
        "      self.min_heapify(i)\n",
        "      i = i-1\n",
        "  \n",
        "  def min_heapify(self,i):\n",
        "    l = left[i]\n",
        "    r = right[i]\n",
        "    smallest = i\n",
        "    if l < self.heap_size and self.heap_arr[l].ele < self.heap_arr[i]:\n",
        "      smallest = i\n",
        "    if r < self.heap_size and self.heap_arr[r].ele < self.heap_arr[smallest]:\n",
        "      smallest = r\n",
        "    if smallest!=i:\n",
        "      swap(self.heap_arr,i,smallest)\n",
        "      self.min_heapify(smallest)\n",
        "  \n",
        "  def get_min(self)->Optional:\n",
        "    if self.heap_size < 0:\n",
        "      print('Heap Underflow')\n",
        "      return None\n",
        "    return self.heap_arr[0]\n",
        "  \n",
        "  ## replace root with new root\n",
        "  def replace_min(self,root):\n",
        "    self.heap_arr[0] = root\n",
        "    self.min_heapify(0)\n",
        "\n",
        "def left(i):\n",
        "  return 2*i+1\n",
        "\n",
        "def right(i):\n",
        "  return 2*i+2\n",
        "\n",
        "def swap(arr:List[MinHeapNode],i,j):\n",
        "  temp = arr[i]\n",
        "  arr[i] = arr[j]\n",
        "  arr[j] = temp\n",
        "\n",
        "def merge_k_sorted_arrays(arr:Matrix,k:int,finalresult:List):\n",
        "  h_arr = []\n",
        "  result_size = 0\n",
        "  for i in range(len(arr)):\n",
        "    node = MinHeapNode(arr[i][0],i,0)\n",
        "    h_arr.append(node)\n",
        "    result_size += len(arr[i])\n",
        "  \n",
        "  min_heap = MinHeap(h_arr,k)\n",
        "  result = [0]*len(result_size)\n",
        "  for i in range(len(result)):\n",
        "    root = min_heap.get_min()\n",
        "    result[i] = root.ele\n",
        "\n",
        "    if root.j < len(arr[root.i]):\n",
        "      root.ele = arr[root.i][root.j]\n",
        "      root.j += 1\n",
        "    else:\n",
        "      root.ele = sys.maxsize\n",
        "    min_heap.replace_min(root)\n",
        "\n",
        "\n",
        "\n",
        "\n",
        "\n"
      ],
      "execution_count": null,
      "outputs": []
    },
    {
      "cell_type": "code",
      "metadata": {
        "id": "VWOvowMq03LM"
      },
      "source": [
        ""
      ],
      "execution_count": null,
      "outputs": []
    },
    {
      "cell_type": "code",
      "metadata": {
        "id": "7T3Mm-AF6l1C"
      },
      "source": [
        ""
      ],
      "execution_count": null,
      "outputs": []
    },
    {
      "cell_type": "code",
      "metadata": {
        "id": "nNINF7tH6l7r"
      },
      "source": [
        "## Question :  Minimum Window Substring Problem\n",
        "## Finding smallest substring inside given string\n",
        "## use hashmap kind of approach here\n",
        "\n",
        "## create ascii arrays to for string and pattern\n",
        "no_of_chars = 256\n",
        "import sys\n",
        "## String = Main string and ptr = pattern string we'll search pattern inside string\n",
        "def findMinWindow(string,ptr):\n",
        "\n",
        "  str_len = len(string)\n",
        "  ptr_len = len(ptr)\n",
        "\n",
        "  if str_len < ptr_len:\n",
        "    print('Substring not possible')\n",
        "    ## return empty string\n",
        "    return \"\"\n",
        "  \n",
        "  ascii_str = [0]*no_of_chars\n",
        "  ascii_ptr = [0]*no_of_chars\n",
        "\n",
        "  ## place 1 for all characters occured in ptr\n",
        "  for i in range(ptr_len):\n",
        "    ascii_ptr[ord(ptr[i])] += 1\n",
        "  \n",
        "  ## initially put start at first position , and put min_len = inf\n",
        "  start , start_index , min_len = 0,-1,sys.maxsize\n",
        "  \n",
        "  count = 0 ## count always increase if we encounter character in string thats present in ptr also\n",
        "  for j in range(str_len):\n",
        "\n",
        "    ## increase 1 for char in string in ascii_str\n",
        "    ascii_str[ord(string[j])] += 1\n",
        "\n",
        "    ## now check two condition\n",
        "    ## 1. for minimum substring remove character that don't occur in pattern\n",
        "    ## 2. if character already occured in str then increament the start\n",
        "\n",
        "    if (ascii_str[ord(string[j])] !=0  \n",
        "        and ascii_str[ord(string[j])] <= ascii_ptr[ord(string[j])]\n",
        "        ):\n",
        "      count += 1\n",
        "    \n",
        "    ## if now count == ptr_len \n",
        "    ## means all characters of pattern(ptr) have occured in string \n",
        "    if count == ptr_len:\n",
        "\n",
        "      ## remove unwanted characters from the substring\n",
        "      while(ascii_str[ord(string[start])] > ascii_ptr[ord(string[start])]\n",
        "            or ascii_ptr[ord(string[start])] == 0):\n",
        "        if ascii_str[ord(string[start])] > ascii_ptr[ord(string[start])]:\n",
        "          ascii_str[ord(string[start])] -= 1\n",
        "        \n",
        "        start = start+1\n",
        "      \n",
        "      len_window = j - start + 1\n",
        "      if min_len > len_window:\n",
        "        min_len = len_window\n",
        "        start_index = start\n",
        "\n",
        "  if start_index == -1:\n",
        "    print('No substring possible')\n",
        "    return \"\"\n",
        "  return string[start_index : start_index + min_len] \n"
      ],
      "execution_count": null,
      "outputs": []
    },
    {
      "cell_type": "code",
      "metadata": {
        "id": "NyRdXJc56mBa"
      },
      "source": [
        "actual = findMinWindow(\"tutorial\",\"oti\")"
      ],
      "execution_count": null,
      "outputs": []
    },
    {
      "cell_type": "code",
      "metadata": {
        "colab": {
          "base_uri": "https://localhost:8080/",
          "height": 35
        },
        "id": "nSxG1_a56mHY",
        "outputId": "e4598959-ecce-4dc4-f311-86c6dfb523e9"
      },
      "source": [
        "actual"
      ],
      "execution_count": null,
      "outputs": [
        {
          "output_type": "execute_result",
          "data": {
            "application/vnd.google.colaboratory.intrinsic+json": {
              "type": "string"
            },
            "text/plain": [
              "'tori'"
            ]
          },
          "metadata": {
            "tags": []
          },
          "execution_count": 18
        }
      ]
    },
    {
      "cell_type": "code",
      "metadata": {
        "id": "Stf1nxiSVvVQ"
      },
      "source": [
        ""
      ],
      "execution_count": null,
      "outputs": []
    },
    {
      "cell_type": "code",
      "metadata": {
        "id": "spuoqDc5WOSy"
      },
      "source": [
        ""
      ],
      "execution_count": null,
      "outputs": []
    },
    {
      "cell_type": "code",
      "metadata": {
        "id": "zPUK1ImNWOiT"
      },
      "source": [
        "## Question : Relative Sorting\n",
        "## In this problem we have to sort the first array as the same order given in second array\n",
        "## use hashmap here\n",
        "\n",
        "import collections\n",
        "def RelativeSorting(first,second):\n",
        "  ## hashmap to store the count of ele in first array\n",
        "  hashmap = {}\n",
        "\n",
        "  for i in range(len(first)):\n",
        "    if first[i] not in hashmap.keys():\n",
        "      hashmap[first[i]] = 1\n",
        "    else:\n",
        "      key = first[i]\n",
        "      hashmap[key] += 1\n",
        "  ## now that we have hashmap which have count of every ele of first array\n",
        "  ## now we sort the dictionary by key \n",
        "  hash = dict(collections.OrderedDict(sorted(hashmap.items())))\n",
        "\n",
        "  ## using one iterator to place values in first array\n",
        "  itr = 0\n",
        "  for i in range(len(second)):\n",
        "    val = second[i]\n",
        "\n",
        "    ## checking if the value is present in dict or not\n",
        "    if val in hash.keys():\n",
        "      count = hash[val]\n",
        "      del hash[val]\n",
        "      for i in range(count):\n",
        "        first[itr] = val\n",
        "        itr = itr + 1\n",
        "    else:\n",
        "      pass\n",
        "  \n",
        "  ## now that we have filled all ele in order same as second\n",
        "\n",
        "  for key,value in hash.items():\n",
        "    for j in range(value):\n",
        "      first[itr] = key\n",
        "      itr = itr + 1\n",
        "  \n",
        "  return first\n",
        "\n",
        "\n",
        "  "
      ],
      "execution_count": null,
      "outputs": []
    },
    {
      "cell_type": "code",
      "metadata": {
        "id": "wfOYVBFl16vB"
      },
      "source": [
        "first = [5, 8, 9, 3, 5, 7, 1, 3, 4, 9, 3, 5, 1, 8, 4]\n",
        "second = [3, 5, 7, 2]\n",
        "ans = RelativeSorting(first,second)"
      ],
      "execution_count": null,
      "outputs": []
    },
    {
      "cell_type": "code",
      "metadata": {
        "colab": {
          "base_uri": "https://localhost:8080/"
        },
        "id": "0ZmMoItp2Af7",
        "outputId": "db055c35-d535-4ca7-f4be-83b4d6b81532"
      },
      "source": [
        "len(ans),len(first)"
      ],
      "execution_count": null,
      "outputs": [
        {
          "output_type": "execute_result",
          "data": {
            "text/plain": [
              "(15, 15)"
            ]
          },
          "metadata": {
            "tags": []
          },
          "execution_count": 35
        }
      ]
    },
    {
      "cell_type": "code",
      "metadata": {
        "id": "YF1qKayb2Qny"
      },
      "source": [
        ""
      ],
      "execution_count": null,
      "outputs": []
    },
    {
      "cell_type": "code",
      "metadata": {
        "id": "WpXHSiQG2isB"
      },
      "source": [
        ""
      ],
      "execution_count": null,
      "outputs": []
    },
    {
      "cell_type": "code",
      "metadata": {
        "id": "qY_u6zEvBZz_"
      },
      "source": [
        "## GRAPH Algorithms"
      ],
      "execution_count": null,
      "outputs": []
    },
    {
      "cell_type": "code",
      "metadata": {
        "id": "t9r6flXV97hL"
      },
      "source": [
        "## Question : Check if given graph is connected or not\n",
        "class Graph:\n",
        "\n",
        "  def __init__(self,edges,N):\n",
        "    # A list of lists to represent an adjacency list\n",
        "    self.adjList = {}\n",
        "    ## add edges to the directed graph\n",
        "    for (src,dest) in edges:\n",
        "      ## src = source, dest = destination\n",
        "      if src not in self.adjList.keys():\n",
        "        self.adjList[src] = [dest]\n",
        "      else:\n",
        "        self.adjList[src].append(dest)\n",
        "\n",
        "## function to perform DFS in graph\n",
        "def DFS(graph,v,visited):\n",
        "\n",
        "  ## place vertex v as visited first\n",
        "  visited[v] = True\n",
        "  #do for every edge v —> u\n",
        "  for u in graph.adjList[v]:\n",
        "    if not visited[u]:\n",
        "      DFS(graph,u,visited)\n",
        "\n",
        "def check(graph,N):\n",
        "\n",
        "  for i in range(N):\n",
        "    visited = [False]*N\n",
        "\n",
        "    DFS(graph,i,visited)\n",
        "\n",
        "    for b in visited:\n",
        "      if not b:\n",
        "        return False\n",
        "    \n",
        "  return True\n"
      ],
      "execution_count": null,
      "outputs": []
    },
    {
      "cell_type": "code",
      "metadata": {
        "colab": {
          "base_uri": "https://localhost:8080/"
        },
        "id": "OPA1HWW6A8KC",
        "outputId": "86de3f9f-36d6-43ae-fb56-3f26cd9daca6"
      },
      "source": [
        "edges = [(0, 4), (1, 0), (1, 2), (2, 1), (2, 4), (3, 1), (3, 2), (4, 3)]\n",
        "N = 5\n",
        "graph = Graph(edges, N)\n",
        "if check(graph, N):\n",
        "  print(\"The graph is strongly connected\")\n",
        "else:\n",
        "  print(\"The graph is not strongly connected\")"
      ],
      "execution_count": null,
      "outputs": [
        {
          "output_type": "stream",
          "text": [
            "The graph is strongly connected\n"
          ],
          "name": "stdout"
        }
      ]
    },
    {
      "cell_type": "code",
      "metadata": {
        "id": "2nI-FPg-D5tJ"
      },
      "source": [
        ""
      ],
      "execution_count": null,
      "outputs": []
    },
    {
      "cell_type": "code",
      "metadata": {
        "id": "U4c8RP2tHhtN"
      },
      "source": [
        ""
      ],
      "execution_count": null,
      "outputs": []
    },
    {
      "cell_type": "code",
      "metadata": {
        "id": "J3gOMt4TxOdz"
      },
      "source": [
        "## One question from backtracking\n",
        "## flood fill problem using recursion and backtracking\n",
        "\n",
        "def FloodFill(maze,row,col,psf,visited):\n",
        "  ## psf = path so far\n",
        "  ## visited = cell already visited\n",
        "\n",
        "  ## base case -negative \n",
        "  if (row<0 or col<0 or row==len(maze) or col == len(maze[0]) or maze[row][col] == 1\n",
        "      or visited[row][col] == 1):\n",
        "    return\n",
        "  ## positive base case\n",
        "  if (row == len(maze)-1 and col == len(maze[0])-1):\n",
        "    print(psf)\n",
        "    return\n",
        "\n",
        "  FloodFill(maze,row-1,col,psf+'t',visited)\n",
        "  FloodFill(maze,row+1,col,psf+'d',visited)\n",
        "  FloodFill(maze,row,col-1,psf+'l',visited)\n",
        "  FloodFill(maze,row,col+1,psf+'r',visited)\n",
        "\n",
        "  ## when we return from recursion then we make visited = 0\n",
        "  visited[row][col] = 0\n"
      ],
      "execution_count": null,
      "outputs": []
    },
    {
      "cell_type": "code",
      "metadata": {
        "id": "bOXfW5oUyoGy"
      },
      "source": [
        ""
      ],
      "execution_count": null,
      "outputs": []
    },
    {
      "cell_type": "code",
      "metadata": {
        "id": "3wIk69WX4Kvu"
      },
      "source": [
        ""
      ],
      "execution_count": null,
      "outputs": []
    },
    {
      "cell_type": "code",
      "metadata": {
        "id": "Ehl55Idv4Kz6"
      },
      "source": [
        "## Question : Find path using Depth First Search\n",
        "\n",
        "class Graph:\n",
        "  def __init__(self,edges):\n",
        "    self.adj = {}\n",
        "    for i in edges:\n",
        "      if i[0] not in self.adj.keys() and i[1] not in self.adj.keys():\n",
        "        self.adj[i[0]] = [i[1]]\n",
        "        self.adj[i[1]] = [i[0]]\n",
        "      else:\n",
        "        self.adj[i[0]].append([i[1]])\n",
        "        self.adj[i[1]].append([i[0]])"
      ],
      "execution_count": null,
      "outputs": []
    },
    {
      "cell_type": "code",
      "metadata": {
        "colab": {
          "base_uri": "https://localhost:8080/",
          "height": 287
        },
        "id": "USAFl_wsg2H2",
        "outputId": "7b7cc02c-897f-42ed-ea77-87dfc51849ef"
      },
      "source": [
        "edges = [[0 ,1, 10],\n",
        "[1, 2, 10],\n",
        "[2, 3, 10],\n",
        "[0, 3, 10],\n",
        "[3, 4, 10]]\n",
        "adj = Graph(edges)"
      ],
      "execution_count": null,
      "outputs": [
        {
          "output_type": "error",
          "ename": "KeyError",
          "evalue": "ignored",
          "traceback": [
            "\u001b[0;31m---------------------------------------------------------------------------\u001b[0m",
            "\u001b[0;31mKeyError\u001b[0m                                  Traceback (most recent call last)",
            "\u001b[0;32m<ipython-input-14-cdb19193e7f3>\u001b[0m in \u001b[0;36m<module>\u001b[0;34m()\u001b[0m\n\u001b[1;32m      4\u001b[0m \u001b[0;34m[\u001b[0m\u001b[0;36m0\u001b[0m\u001b[0;34m,\u001b[0m \u001b[0;36m3\u001b[0m\u001b[0;34m,\u001b[0m \u001b[0;36m10\u001b[0m\u001b[0;34m]\u001b[0m\u001b[0;34m,\u001b[0m\u001b[0;34m\u001b[0m\u001b[0;34m\u001b[0m\u001b[0m\n\u001b[1;32m      5\u001b[0m [3, 4, 10]]\n\u001b[0;32m----> 6\u001b[0;31m \u001b[0madj\u001b[0m \u001b[0;34m=\u001b[0m \u001b[0mGraph\u001b[0m\u001b[0;34m(\u001b[0m\u001b[0medges\u001b[0m\u001b[0;34m)\u001b[0m\u001b[0;34m\u001b[0m\u001b[0;34m\u001b[0m\u001b[0m\n\u001b[0m",
            "\u001b[0;32m<ipython-input-13-467e14e9a80e>\u001b[0m in \u001b[0;36m__init__\u001b[0;34m(self, edges)\u001b[0m\n\u001b[1;32m     10\u001b[0m       \u001b[0;32melse\u001b[0m\u001b[0;34m:\u001b[0m\u001b[0;34m\u001b[0m\u001b[0;34m\u001b[0m\u001b[0m\n\u001b[1;32m     11\u001b[0m         \u001b[0mself\u001b[0m\u001b[0;34m.\u001b[0m\u001b[0madj\u001b[0m\u001b[0;34m[\u001b[0m\u001b[0mi\u001b[0m\u001b[0;34m[\u001b[0m\u001b[0;36m0\u001b[0m\u001b[0;34m]\u001b[0m\u001b[0;34m]\u001b[0m\u001b[0;34m.\u001b[0m\u001b[0mappend\u001b[0m\u001b[0;34m(\u001b[0m\u001b[0;34m[\u001b[0m\u001b[0mi\u001b[0m\u001b[0;34m[\u001b[0m\u001b[0;36m1\u001b[0m\u001b[0;34m]\u001b[0m\u001b[0;34m]\u001b[0m\u001b[0;34m)\u001b[0m\u001b[0;34m\u001b[0m\u001b[0;34m\u001b[0m\u001b[0m\n\u001b[0;32m---> 12\u001b[0;31m         \u001b[0mself\u001b[0m\u001b[0;34m.\u001b[0m\u001b[0madj\u001b[0m\u001b[0;34m[\u001b[0m\u001b[0mi\u001b[0m\u001b[0;34m[\u001b[0m\u001b[0;36m1\u001b[0m\u001b[0;34m]\u001b[0m\u001b[0;34m]\u001b[0m\u001b[0;34m.\u001b[0m\u001b[0mappend\u001b[0m\u001b[0;34m(\u001b[0m\u001b[0;34m[\u001b[0m\u001b[0mi\u001b[0m\u001b[0;34m[\u001b[0m\u001b[0;36m0\u001b[0m\u001b[0;34m]\u001b[0m\u001b[0;34m]\u001b[0m\u001b[0;34m)\u001b[0m\u001b[0;34m\u001b[0m\u001b[0;34m\u001b[0m\u001b[0m\n\u001b[0m",
            "\u001b[0;31mKeyError\u001b[0m: 2"
          ]
        }
      ]
    },
    {
      "cell_type": "code",
      "metadata": {
        "colab": {
          "base_uri": "https://localhost:8080/"
        },
        "id": "auIb6jCsiJt7",
        "outputId": "7d392394-5f94-483a-acbc-e049360353ac"
      },
      "source": [
        "adj.adj"
      ],
      "execution_count": null,
      "outputs": [
        {
          "output_type": "execute_result",
          "data": {
            "text/plain": [
              "{0: [3], 1: [2], 2: [3], 3: [4], 4: [3]}"
            ]
          },
          "metadata": {
            "tags": []
          },
          "execution_count": 12
        }
      ]
    },
    {
      "cell_type": "code",
      "metadata": {
        "id": "y2HCutbGieMZ"
      },
      "source": [
        ""
      ],
      "execution_count": null,
      "outputs": []
    },
    {
      "cell_type": "code",
      "metadata": {
        "id": "U2OiBw8rrWcp"
      },
      "source": [
        ""
      ],
      "execution_count": null,
      "outputs": []
    },
    {
      "cell_type": "code",
      "metadata": {
        "id": "ddReOL5GsPoH"
      },
      "source": [
        "## Question : is given graph is cyclic or not using depth first search (DFS) approach\n",
        "## recursion in for loop\n",
        "# This class represents a undirected graph using adjacency list representation \n",
        "class Graph:\n",
        "  def __init__(self,vertices):\n",
        "    self.map = {} ## adjacency list\n",
        "    self.V  = vertices ## count of vertices\n",
        "    for index in range(vertices):\n",
        "      ## initialize map with empty list\n",
        "      self.map[index] = []\n",
        "  \n",
        "  ## Function to add edges in graph\n",
        "  def addEdge(self,src,dest):\n",
        "    ## src-> source , dest-> destination\n",
        "    self.map[src].append(dest)\n",
        "    self.map[dest].append(src)\n",
        "\n",
        "  # A recursive function that uses visited[] and parent to detect cycle in subgraph reachable from vertex v.\n",
        "  def isCyclePresent(self,index,visited,parent):\n",
        "    ## index = it will go from zero to all vertices present inside graph\n",
        "    ## visited  = [0]*len(self.V) will store if the particular vertice has visited or not\n",
        "    ## parent = parent of that particular vertice \n",
        "    \n",
        "    visited[index] = True\n",
        "    size = len(self.map.get(index))\n",
        "    # use Recursion for all the vertices adjacent to this vertex\n",
        "    for i in range(size):\n",
        "      val = self.map.get(index)[i]\n",
        "      if visited[val] == 0:\n",
        "        if self.isCyclePresent(val,visited,index):\n",
        "          return True\n",
        "      elif parent != val:\n",
        "        return True\n",
        "    \n",
        "    return False\n",
        "  \n",
        "  def isCycle(self):\n",
        "    visited = [False]*self.V\n",
        "\n",
        "    for i in range(self.V):\n",
        "      if visited[i] == False:\n",
        "        if(self.isCyclePresent(i,visited,-1) == True):\n",
        "          return True\n",
        "    return False"
      ],
      "execution_count": null,
      "outputs": []
    },
    {
      "cell_type": "code",
      "metadata": {
        "id": "jZ75mofA5_Q_"
      },
      "source": [
        "g = Graph(5)\n",
        "g.addEdge(1, 0) \n",
        "g.addEdge(1, 2) \n",
        "g.addEdge(2, 0) \n",
        "g.addEdge(0, 3) \n",
        "g.addEdge(3, 4) \n"
      ],
      "execution_count": null,
      "outputs": []
    },
    {
      "cell_type": "code",
      "metadata": {
        "colab": {
          "base_uri": "https://localhost:8080/"
        },
        "id": "mCqo5Kyh6Lt4",
        "outputId": "cd82f69a-5212-4212-e96a-ed1d8e2fdfb7"
      },
      "source": [
        "if g.isCycle(): \n",
        "    print (\"Graph contains cycle\")\n",
        "else : \n",
        "    print (\"Graph does not contain cycle \")"
      ],
      "execution_count": null,
      "outputs": [
        {
          "output_type": "stream",
          "text": [
            "Graph contains cycle\n"
          ],
          "name": "stdout"
        }
      ]
    },
    {
      "cell_type": "code",
      "metadata": {
        "colab": {
          "base_uri": "https://localhost:8080/"
        },
        "id": "pRvuqyfk6UiI",
        "outputId": "7c4eb4ee-114f-4871-c976-67f34559794d"
      },
      "source": [
        "g.map"
      ],
      "execution_count": null,
      "outputs": [
        {
          "output_type": "execute_result",
          "data": {
            "text/plain": [
              "{0: [1, 2, 3, 1], 1: [0, 2, 0], 2: [1, 0], 3: [0, 4], 4: [3]}"
            ]
          },
          "metadata": {
            "tags": []
          },
          "execution_count": 15
        }
      ]
    },
    {
      "cell_type": "code",
      "metadata": {
        "id": "y6nLpdk-6rKv"
      },
      "source": [
        ""
      ],
      "execution_count": null,
      "outputs": []
    },
    {
      "cell_type": "code",
      "metadata": {
        "id": "nrEMX9K49bip"
      },
      "source": [
        ""
      ],
      "execution_count": null,
      "outputs": []
    },
    {
      "cell_type": "code",
      "metadata": {
        "id": "_nejub589boz"
      },
      "source": [
        "## Question : Find path in the maze\n",
        "\n",
        "def FindPath(maze,i,j,psf,visited):\n",
        "\n",
        "  if( i<0 or j<0 or i==len(maze) or j == len(maze[0]) or maze[i][j]==0 or visited[i][j]==1):\n",
        "    return\n",
        "  \n",
        "  if(i == len(maze)-1 and j == len(maze[0])-1):\n",
        "    print(\"done\")\n",
        "    print(psf)\n",
        "\n",
        "  visited[i][j] = 1\n",
        "  FindPath(maze,i-1,j,psf+'t',visited)  # Top Call \n",
        "  FindPath(maze,i+1,j,psf+'d',visited)  # Down Call\n",
        "  FindPath(maze,i,j+1,psf+'r',visited)  # Right Call\n",
        "  FindPath(maze,i,j-1,psf+'l',visited)  # Left Call\n",
        "  visited[i][j] = 0\n",
        "  "
      ],
      "execution_count": null,
      "outputs": []
    },
    {
      "cell_type": "code",
      "metadata": {
        "colab": {
          "base_uri": "https://localhost:8080/"
        },
        "id": "NEedyEGw9buA",
        "outputId": "856bb8d2-21a8-4654-cba6-0c7a863b6712"
      },
      "source": [
        "maze = [[1, 0, 0, 0, 0],\n",
        "[1, 0, 1, 1, 1],\n",
        "[1, 1, 1, 0, 1],\n",
        "[1, 0, 0, 0, 1],\n",
        "[1, 0, 0, 0, 1]]\n",
        "ddrrtrrddd\n",
        "i = j = 0\n",
        "visited = [[0, 0, 0, 0, 0],\n",
        "[0, 0, 0, 0, 0],\n",
        "[0, 0, 0, 0, 0],\n",
        "[0, 0, 0, 0, 0],\n",
        "[0, 0, 0, 0, 0]]\n",
        "\n",
        "\n",
        "FindPath(maze,i,j,'',visited)"
      ],
      "execution_count": null,
      "outputs": [
        {
          "output_type": "stream",
          "text": [
            "done\n",
            "ddrrtrrddd\n"
          ],
          "name": "stdout"
        }
      ]
    },
    {
      "cell_type": "code",
      "metadata": {
        "colab": {
          "base_uri": "https://localhost:8080/"
        },
        "id": "6JmbV62R_n4c",
        "outputId": "0fee699f-6cb9-410f-9963-52973fc40130"
      },
      "source": [
        "maze"
      ],
      "execution_count": null,
      "outputs": [
        {
          "output_type": "execute_result",
          "data": {
            "text/plain": [
              "[[1, 0, 0, 0, 0],\n",
              " [1, 0, 1, 1, 1],\n",
              " [1, 1, 1, 0, 1],\n",
              " [1, 0, 0, 0, 1],\n",
              " [1, 0, 0, 0, 1]]"
            ]
          },
          "metadata": {
            "tags": []
          },
          "execution_count": 11
        }
      ]
    },
    {
      "cell_type": "code",
      "metadata": {
        "id": "6ogfAmS4_uDH"
      },
      "source": [
        ""
      ],
      "execution_count": null,
      "outputs": []
    },
    {
      "cell_type": "code",
      "metadata": {
        "id": "aY_D7-7NgcW2"
      },
      "source": [
        ""
      ],
      "execution_count": null,
      "outputs": []
    },
    {
      "cell_type": "code",
      "metadata": {
        "id": "Aga60jk0gcff"
      },
      "source": [
        "## Topological sort in directed acyclic graph\n",
        "\n",
        "class Graph:\n",
        "  def __init__(self,Vertices):\n",
        "    self.V = Vertices\n",
        "    self.map = {}\n",
        "    for i in range(Vertices):\n",
        "      self.map[i] = []\n",
        "  \n",
        "  def addEdge(self,u,v):\n",
        "    self.map[u].append(v)\n",
        "  \n",
        "  def TopologicalSort(self,src,visited,stack):\n",
        "    ## mark the vertex\n",
        "    visited[src] = True\n",
        "\n",
        "    ## Lopping over neibhours\n",
        "    for i in self.map[src]:\n",
        "      ## if nbr is unvisited then call for its nbr\n",
        "      if visited[i] == False:\n",
        "        self.TopologicalSort(i,visited,stack)\n",
        "    \n",
        "    ## push vertices in the stack in post order\n",
        "    stack.append(src)\n",
        "  \n",
        "  ## call for all vertices in this function\n",
        "  def Topological(self):\n",
        "    visited = [False]*self.V\n",
        "    stack = []\n",
        "\n",
        "    for vertex in range(self.V):\n",
        "      if visited[vertex] == False:\n",
        "        self.TopologicalSort(vertex, visited, stack)\n",
        "    \n",
        "    return stack"
      ],
      "execution_count": null,
      "outputs": []
    },
    {
      "cell_type": "code",
      "metadata": {
        "id": "_6sW87rCi60x"
      },
      "source": [
        "g = Graph(5)\n",
        "g.addEdge(0, 1)\n",
        "g.addEdge(0, 3)\n",
        "g.addEdge(1, 2)\n",
        "g.addEdge(2, 3)\n",
        "g.addEdge(2, 4)\n",
        "g.addEdge(3, 4)\n"
      ],
      "execution_count": null,
      "outputs": []
    },
    {
      "cell_type": "code",
      "metadata": {
        "colab": {
          "base_uri": "https://localhost:8080/"
        },
        "id": "EF5XndB6i-Rq",
        "outputId": "d4058871-a5ee-4469-e1b2-92e0e03599c0"
      },
      "source": [
        "print(g.Topological())"
      ],
      "execution_count": null,
      "outputs": [
        {
          "output_type": "stream",
          "text": [
            "[4, 3, 2, 1, 0]\n"
          ],
          "name": "stdout"
        }
      ]
    },
    {
      "cell_type": "code",
      "metadata": {
        "colab": {
          "base_uri": "https://localhost:8080/"
        },
        "id": "6KWiGlYXjCMN",
        "outputId": "ec874134-70e7-4b4b-f428-cd4e7506ed86"
      },
      "source": [
        "# vowel list\n",
        "vowel = ['a', 'e', 'i', 'u']\n",
        "\n",
        "# 'o' is inserted at index 3 (4th position)\n",
        "vowel.insert(0, 'o')\n",
        "vowel"
      ],
      "execution_count": null,
      "outputs": [
        {
          "output_type": "execute_result",
          "data": {
            "text/plain": [
              "['o', 'a', 'e', 'i', 'u']"
            ]
          },
          "metadata": {
            "tags": []
          },
          "execution_count": 4
        }
      ]
    },
    {
      "cell_type": "code",
      "metadata": {
        "id": "hj5R8Z-VjqAz"
      },
      "source": [
        ""
      ],
      "execution_count": null,
      "outputs": []
    },
    {
      "cell_type": "code",
      "metadata": {
        "id": "jVO4hBLTAwWS"
      },
      "source": [
        ""
      ],
      "execution_count": null,
      "outputs": []
    },
    {
      "cell_type": "code",
      "metadata": {
        "colab": {
          "base_uri": "https://localhost:8080/"
        },
        "id": "P1bzU10GAwc1",
        "outputId": "bc42838d-7d46-46ad-f7de-8d2125a4a2d9"
      },
      "source": [
        "## Question : Count Island problem\n",
        "## Using graph in this problem with its nbr being four directions \n",
        "## DFS approach - pepcoding \n",
        "\n",
        "def CountIsland(matrix,i,j,visited):\n",
        "\n",
        "  if ( i<0 or j<0 or i == len(matrix) or j == len(matrix[0]) or \n",
        "      matrix[i][j] ==1 or visited[i][j] == True):\n",
        "    return\n",
        "\n",
        "\n",
        "  visited[i][j] = True\n",
        "  CountIsland(matrix,i+1,j,visited)\n",
        "  CountIsland(matrix,i-1,j,visited)\n",
        "  CountIsland(matrix,i,j+1,visited)\n",
        "  CountIsland(matrix,i,j-1,visited)\n",
        "\n",
        "\n",
        "matrix = [ [ 1, 1, 0, 0, 0 ],\n",
        "            [ 0, 1, 0, 0, 1 ],\n",
        "            [ 1, 0, 0, 1, 1 ],\n",
        "            [ 0, 0, 0, 0, 0 ],\n",
        "            [ 1, 0, 1, 0, 1 ]]\n",
        "\n",
        "(M, N) = (len(matrix), len(matrix[0]))\n",
        "\n",
        "visited = [[False for x in range(N)] for y in range(M)]\n",
        "\n",
        "countIsland = 0\n",
        "\n",
        "for i in range(len(matrix)):\n",
        "  for j in range(len(matrix[0])):\n",
        "    if (visited[i][j] == False and matrix[i][j]!=1):\n",
        "      CountIsland(matrix,i,j,visited)\n",
        "      countIsland += 1\n",
        "  \n",
        "print(countIsland)"
      ],
      "execution_count": null,
      "outputs": [
        {
          "output_type": "stream",
          "text": [
            "2\n"
          ],
          "name": "stdout"
        }
      ]
    },
    {
      "cell_type": "code",
      "metadata": {
        "id": "_yngmDN6C7cL"
      },
      "source": [
        ""
      ],
      "execution_count": null,
      "outputs": []
    },
    {
      "cell_type": "code",
      "metadata": {
        "id": "piBX-C1HgHmO"
      },
      "source": [
        ""
      ],
      "execution_count": null,
      "outputs": []
    },
    {
      "cell_type": "code",
      "metadata": {
        "id": "BIuMF7eagHuf"
      },
      "source": [
        "## Count Island Problem Using BFS-02 Logicmojo\n",
        "## using queue here and in dfs we used stack\n",
        "## bfs takes vertex and dfs takes edge\n",
        "\n",
        "from collections import deque\n",
        "\n",
        "## all combinations for 8 steps that we can take from current cell\n",
        "row = [-1, -1, -1, 0, 1, 0, 1, 1]\n",
        "col = [-1, 1, 0, -1, -1, 1, 0, 1]\n",
        "\n",
        "def isSafe(mat, x, y, visited):\n",
        "\treturn (x >= 0) and (x < len(visited)) and (y >= 0) and (y < len(visited[0])) and (mat[x][y] == 1 and not visited[x][y])\n",
        "\n",
        "def BFSCountIsland(matrix,visited,i,j):\n",
        "\n",
        "  ## creating empty deque\n",
        "  q = deque()\n",
        "  q.append((i,j))\n",
        "\n",
        "  ## mark visited as true for the current cell\n",
        "  visited[i][j] = True\n",
        "\n",
        "  ## while queue is not empty\n",
        "  while q:\n",
        "\n",
        "    x,y = q.popleft()\n",
        "\n",
        "    ## now check for its all 8 nbrs and find if it can make a group of one/island\n",
        "    for i in range(8):\n",
        "      if issafe(matrix,x+row[i],y+col[j],visited):\n",
        "        visited[x+row[i]][y+col[j]] = True\n",
        "        q.append((x+row[i],y+col[j]))\n",
        "\n",
        "def BFS(mat, visited, i, j):\n",
        "  # create an empty queue and enqueue source node\n",
        "\tq = deque()\n",
        "\tq.append((i, j))\n",
        "\t# mark source node as processed\n",
        "\tvisited[i][j] = True\n",
        "\n",
        "  # loop till queue is empty\n",
        "\twhile q:\n",
        "    # pop front node from queue and process it\n",
        "\t\tx, y = q.popleft()\n",
        "\n",
        "\t\t# check for all 8 possible movements from current cell\n",
        "\t\t# and enqueue each valid movement\n",
        "\t\tfor k in range(8):\n",
        "      # Skip if location is invalid or already processed or has water\n",
        "\t\t  if isSafe(mat, x + row[k], y + col[k], visited):\n",
        "\t\t\t  visited[x + row[k]][y + col[k]] = True\n",
        "\t\t\t  q.append((x + row[k], y + col[k]))"
      ],
      "execution_count": null,
      "outputs": []
    },
    {
      "cell_type": "code",
      "metadata": {
        "colab": {
          "base_uri": "https://localhost:8080/",
          "height": 235
        },
        "id": "jUbqDno9ibzK",
        "outputId": "954bc5dc-8caa-4510-e5fc-7ab843cd7bba"
      },
      "source": [
        "mat = [\n",
        "\t\t[0, 0, 1, 1, 0],\n",
        "\t\t[1, 0, 1, 1, 0],\n",
        "\t\t[0, 1, 0, 0, 0],\n",
        "\t\t[0, 0, 0, 0, 1],\n",
        "\t\t[0, 0, 1, 1, 0]\n",
        "\t]\n",
        "\n",
        "(M, N) = (len(mat), len(mat[0]))\n",
        "\n",
        "\n",
        "\n",
        "# stores if cell is processed or not\n",
        "visited = [[False for x in range(N)] for y in range(M)]\n",
        "\n",
        "CountIsland = 0\n",
        "\n",
        "for i in range(M):\n",
        "  for j in range(N):\n",
        "    if mat[i][j] == 1 and visited[i][j] == False:\n",
        "      #BFSCountIsland(mat,visited,i,j)\n",
        "      BFS(mat, visited, i, j)\n",
        "      CountIsland += 1\n",
        "\n",
        "\n",
        "CountIsland"
      ],
      "execution_count": 6,
      "outputs": [
        {
          "output_type": "error",
          "ename": "NameError",
          "evalue": "ignored",
          "traceback": [
            "\u001b[0;31m---------------------------------------------------------------------------\u001b[0m",
            "\u001b[0;31mNameError\u001b[0m                                 Traceback (most recent call last)",
            "\u001b[0;32m<ipython-input-6-e4a6905c8dbb>\u001b[0m in \u001b[0;36m<module>\u001b[0;34m()\u001b[0m\n\u001b[1;32m     22\u001b[0m     \u001b[0;32mif\u001b[0m \u001b[0mmat\u001b[0m\u001b[0;34m[\u001b[0m\u001b[0mi\u001b[0m\u001b[0;34m]\u001b[0m\u001b[0;34m[\u001b[0m\u001b[0mj\u001b[0m\u001b[0;34m]\u001b[0m \u001b[0;34m==\u001b[0m \u001b[0;36m1\u001b[0m \u001b[0;32mand\u001b[0m \u001b[0mvisited\u001b[0m\u001b[0;34m[\u001b[0m\u001b[0mi\u001b[0m\u001b[0;34m]\u001b[0m\u001b[0;34m[\u001b[0m\u001b[0mj\u001b[0m\u001b[0;34m]\u001b[0m \u001b[0;34m==\u001b[0m \u001b[0;32mFalse\u001b[0m\u001b[0;34m:\u001b[0m\u001b[0;34m\u001b[0m\u001b[0;34m\u001b[0m\u001b[0m\n\u001b[1;32m     23\u001b[0m       \u001b[0;31m#BFSCountIsland(mat,visited,i,j)\u001b[0m\u001b[0;34m\u001b[0m\u001b[0;34m\u001b[0m\u001b[0;34m\u001b[0m\u001b[0m\n\u001b[0;32m---> 24\u001b[0;31m       \u001b[0mBFS\u001b[0m\u001b[0;34m(\u001b[0m\u001b[0mmat\u001b[0m\u001b[0;34m,\u001b[0m \u001b[0mvisited\u001b[0m\u001b[0;34m,\u001b[0m \u001b[0mi\u001b[0m\u001b[0;34m,\u001b[0m \u001b[0mj\u001b[0m\u001b[0;34m)\u001b[0m\u001b[0;34m\u001b[0m\u001b[0;34m\u001b[0m\u001b[0m\n\u001b[0m\u001b[1;32m     25\u001b[0m       \u001b[0mCountIsland\u001b[0m \u001b[0;34m+=\u001b[0m \u001b[0;36m1\u001b[0m\u001b[0;34m\u001b[0m\u001b[0;34m\u001b[0m\u001b[0m\n\u001b[1;32m     26\u001b[0m \u001b[0;34m\u001b[0m\u001b[0m\n",
            "\u001b[0;31mNameError\u001b[0m: name 'BFS' is not defined"
          ]
        }
      ]
    },
    {
      "cell_type": "code",
      "metadata": {
        "id": "h4B9pbSxjGNi"
      },
      "source": [
        "d = {}\n",
        "d[1] = {'1':2,'2':2}"
      ],
      "execution_count": null,
      "outputs": []
    },
    {
      "cell_type": "code",
      "metadata": {
        "colab": {
          "base_uri": "https://localhost:8080/"
        },
        "id": "x5j_FQWRA7zt",
        "outputId": "aacbc8f0-68a2-48e0-9f4c-95060563c666"
      },
      "source": [
        "d[1]['1']"
      ],
      "execution_count": null,
      "outputs": [
        {
          "output_type": "execute_result",
          "data": {
            "text/plain": [
              "2"
            ]
          },
          "metadata": {
            "tags": []
          },
          "execution_count": 3
        }
      ]
    },
    {
      "cell_type": "code",
      "metadata": {
        "id": "v5ynrPK94xYi"
      },
      "source": [
        ""
      ],
      "execution_count": null,
      "outputs": []
    },
    {
      "cell_type": "code",
      "metadata": {
        "id": "ia-rYwuwCOGb"
      },
      "source": [
        ""
      ],
      "execution_count": null,
      "outputs": []
    },
    {
      "cell_type": "code",
      "metadata": {
        "id": "XkXuh890CcN0"
      },
      "source": [
        "## Find maximum unit area of ones inside a matrix\n",
        "## using BFS approach here \n",
        "\n",
        "from collections import deque\n",
        "def isSafe(mat, x, y, visited):\n",
        "\treturn (x >= 0) and (x < len(visited)) and (y >= 0) and (y < len(visited[0])) and (mat[x][y] == 1 and not visited[x][y])\n",
        " \n",
        "def MaxUnitArea(matrix,i,j):\n",
        "  max_count = 0\n",
        "  q = deque()\n",
        "  q.append((i,j))\n",
        "  max_count += 1\n",
        "  \n",
        "\n",
        "  visited[i][j] = True\n",
        "\n",
        "  while q:\n",
        "    x,y = q.popleft()\n",
        "\n",
        "    for k in range(8):\n",
        "      if isSafe(mat, x + row[k], y + col[k], visited):\n",
        "        visited[x + row[k]][y + col[k]] = True\n",
        "        q.append((x + row[k],y + col[k]))\n",
        "        max_count += 1\n",
        "  \n",
        "  return max_count\n",
        "\n",
        "mat = [\n",
        "\t\t[0, 0, 1, 1, 0],\n",
        "\t\t[1, 0, 1, 1, 0],\n",
        "\t\t[0, 1, 0, 0, 0],\n",
        "\t\t[0, 0, 0, 0, 1],\n",
        "\t\t[0, 0, 1, 1, 0]\n",
        "\t]\n",
        "\n",
        "(M, N) = (len(mat), len(mat[0]))\n",
        "\n",
        "## all combinations for 8 steps that we can take from current cell\n",
        "row = [-1, -1, -1, 0, 1, 0, 1, 1]\n",
        "col = [-1, 1, 0, -1, -1, 1, 0, 1]\n",
        "# stores if cell is processed or not\n",
        "visited = [[False for x in range(N)] for y in range(M)]\n",
        "\n",
        "maxcnt = 0\n",
        "\n",
        "for i in range(M):\n",
        "  for j in range(N):\n",
        "    if mat[i][j] == 1 and visited[i][j] == False:\n",
        "      #BFSCountIsland(mat,visited,i,j)\n",
        "      res = MaxUnitArea(mat,i,j)\n",
        "      if res > maxcnt:\n",
        "        maxcnt = res\n",
        "\n"
      ],
      "execution_count": 11,
      "outputs": []
    },
    {
      "cell_type": "code",
      "metadata": {
        "colab": {
          "base_uri": "https://localhost:8080/"
        },
        "id": "6N6gd_5nvk1b",
        "outputId": "57b7455d-db72-48fd-b0ca-b8d353dca4eb"
      },
      "source": [
        "maxcnt"
      ],
      "execution_count": 12,
      "outputs": [
        {
          "output_type": "execute_result",
          "data": {
            "text/plain": [
              "6"
            ]
          },
          "metadata": {
            "tags": []
          },
          "execution_count": 12
        }
      ]
    },
    {
      "cell_type": "code",
      "metadata": {
        "id": "30MC2dFhwZeE"
      },
      "source": [
        ""
      ],
      "execution_count": null,
      "outputs": []
    },
    {
      "cell_type": "code",
      "metadata": {
        "id": "JKZjyLVdzk1x"
      },
      "source": [
        ""
      ],
      "execution_count": null,
      "outputs": []
    },
    {
      "cell_type": "code",
      "metadata": {
        "id": "GvMV7yPDzlDM"
      },
      "source": [
        "## Dijsktra Algorithm explained with BFS\n",
        "## Using priority queue \n",
        "\n",
        "## Defining class of pair\n",
        "class Pair:\n",
        "  def __init__(self,v,psf,wsf):\n",
        "    self.V = v\n",
        "    self.psf = psf\n",
        "    self.wsf = wsf\n",
        "    ## psf = path so far\n",
        "    ## wdf = weight so far\n",
        "\n",
        "## Now to use priority queue use heapq module in python\n",
        "def Dijsktra()\n"
      ],
      "execution_count": null,
      "outputs": []
    }
  ]
}